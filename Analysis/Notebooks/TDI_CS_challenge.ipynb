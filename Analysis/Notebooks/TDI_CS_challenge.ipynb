{
 "cells": [
  {
   "cell_type": "markdown",
   "metadata": {},
   "source": [
    "# Part 3 - CS challenge"
   ]
  },
  {
   "cell_type": "code",
   "execution_count": 1,
   "metadata": {},
   "outputs": [],
   "source": [
    "import numpy as np\n",
    "from functools import lru_cache\n",
    "ALLSTEPS = [(1, 0, 0), (-1, 0, 0), (0, 1, 0), (0, -1, 0), (0, 0, 1), (0, 0, -1)]"
   ]
  },
  {
   "cell_type": "code",
   "execution_count": 19,
   "metadata": {},
   "outputs": [],
   "source": [
    "# Design choices:\n",
    "# For the grid, I'm going to use a convention that allows for calculation of distance easily\n",
    "# A step can be +1 or -1 in three directions, so a position is a tuple (x, y, z)\n",
    "# But there are three rules and their negative versions:\n",
    "# (1, 0, 1) = (0, 1, 0)\n",
    "# (1, -1, 0) = (0, 0, -1)\n",
    "# (0, 1, -1) = (1, 0, 0)\n",
    "# This rule gets enforced due to parity: i.e. 1st and 3rd axes cannot be same sign, while\n",
    "# 1st and 2nd, as well as 2nd and 3rd axes has to be the same sign\n",
    "\n",
    "# This function returns the resolved location after taking a step of size 1 from current position\n",
    "def resolve_step(cur_pos, step_dir):\n",
    "    if (abs(step_dir[0]) == 1):\n",
    "        # take a step in the first axis\n",
    "        updated = step_dir[0] + cur_pos[0]\n",
    "        # if the first axis is diff. sign as second, or same sign as third, enforce the resolving rule\n",
    "        if abs(updated) > 0 and ((np.sign(updated) * -1 == np.sign(cur_pos[1])) or (np.sign(updated) == np.sign(cur_pos[2]))):\n",
    "            return (cur_pos[0], cur_pos[1] + step_dir[0], cur_pos[2] - step_dir[0])\n",
    "        else:\n",
    "            return (updated, cur_pos[1], cur_pos[2])\n",
    "    elif (abs(step_dir[1]) == 1):\n",
    "        # take a step in the second axis\n",
    "        updated = step_dir[1] + cur_pos[1]\n",
    "        # if the second axis is diff. sign as first or third, enforce the resolving rule\n",
    "        if abs(updated) > 0 and ((np.sign(updated) * -1 == np.sign(cur_pos[0])) or (np.sign(updated) * -1 == np.sign(cur_pos[2]))):\n",
    "            return (cur_pos[0] + step_dir[1], cur_pos[1], cur_pos[2] + step_dir[1])\n",
    "        else:\n",
    "            return (cur_pos[0], updated, cur_pos[2])\n",
    "    elif (abs(step_dir[2]) == 1):\n",
    "        # take a step in the third axis\n",
    "        updated = step_dir[2] + cur_pos[2]\n",
    "        # if the third axis is same sign as first or diff. sign as second, enforce the resolving rule\n",
    "        if abs(updated) > 0 and ((np.sign(updated) == np.sign(cur_pos[0])) or (np.sign(updated) * -1 == np.sign(cur_pos[1]))):\n",
    "            return (cur_pos[0] - step_dir[2], cur_pos[1] + step_dir[2], cur_pos[2])\n",
    "        else:\n",
    "            return (cur_pos[0], cur_pos[1], updated)\n",
    "    else:\n",
    "        print('Need a valid step of size 1!')\n",
    "        return None\n",
    "\n",
    "# This function returns the list of all six resolved locations if one step is taken from the current position\n",
    "# use cache decorator to scale better\n",
    "# It was possible to run T=60 without caching on my personal computer, but caching results in significant speedup\n",
    "@lru_cache(maxsize = None)\n",
    "def take_step(cur_pos):\n",
    "    # Take 6 steps\n",
    "    return [resolve_step(cur_pos, x) for x in ALLSTEPS]\n",
    "\n",
    "# Our design allows for easy calculation of distance\n",
    "def get_dist(cur_pos):\n",
    "    return abs(cur_pos[0]) + abs(cur_pos[1]) + abs(cur_pos[2])"
   ]
  },
  {
   "cell_type": "code",
   "execution_count": 9,
   "metadata": {},
   "outputs": [
    {
     "data": {
      "text/plain": [
       "[[(2, 0, 0), (0, 0, 0), (1, 1, 0), (0, 0, -1), (0, 1, 0), (1, 0, -1)],\n",
       " [(0, 0, 0), (-2, 0, 0), (0, 0, 1), (-1, -1, 0), (-1, 0, 1), (0, -1, 0)],\n",
       " [(1, 1, 0), (0, 0, 1), (0, 2, 0), (0, 0, 0), (0, 1, 1), (1, 0, 0)],\n",
       " [(0, 0, -1), (-1, -1, 0), (0, 0, 0), (0, -2, 0), (-1, 0, 0), (0, -1, -1)],\n",
       " [(0, 1, 0), (-1, 0, 1), (0, 1, 1), (-1, 0, 0), (0, 0, 2), (0, 0, 0)],\n",
       " [(1, 0, -1), (0, -1, 0), (1, 0, 0), (0, -1, -1), (0, 0, 0), (0, 0, -2)]]"
      ]
     },
     "execution_count": 9,
     "metadata": {},
     "output_type": "execute_result"
    }
   ],
   "source": [
    "# All 36 possibilites after taking 2 steps from (0, 0, 0)\n",
    "[take_step(x) for x in take_step((0, 0, 0))]"
   ]
  },
  {
   "cell_type": "code",
   "execution_count": 12,
   "metadata": {},
   "outputs": [],
   "source": [
    "# Now we need a data structure for saving the state at T = i\n",
    "# The design choice here is to use a dictionary, with the hashable location tuple as key,\n",
    "# and the number of 'leaves in the traversal tree' as the value.\n",
    "# We'll say the starting position is (0, 0, 0), so initial state is {(0, 0, 0): 1}\n",
    "old_state = {(0, 0, 0): 1}\n",
    "# running_dict keeps the whole history - kept for debugging purposes\n",
    "running_dict = {0: old_state}\n",
    "steps = 13\n",
    "for i in range(steps):\n",
    "    new_state = {}\n",
    "    for k,v in old_state.items():\n",
    "        leaves = take_step(k)\n",
    "        for l in leaves:\n",
    "            if l not in new_state:\n",
    "                new_state[l] = 0\n",
    "            new_state[l] += v\n",
    "    running_dict[i+1] = new_state\n",
    "    old_state = new_state"
   ]
  },
  {
   "cell_type": "code",
   "execution_count": 14,
   "metadata": {},
   "outputs": [
    {
     "name": "stdout",
     "output_type": "stream",
     "text": [
      "13060694016\n",
      "13060694016\n"
     ]
    }
   ],
   "source": [
    "# Make sure we have the correct number of 'leaves'\n",
    "s = 0\n",
    "for k,v in new_state.items():\n",
    "    s += v\n",
    "    \n",
    "print(s)\n",
    "print(6**13)"
   ]
  },
  {
   "cell_type": "code",
   "execution_count": 18,
   "metadata": {},
   "outputs": [
    {
     "data": {
      "text/plain": [
       "{(2, 0, 0): 1,\n",
       " (0, 0, 0): 6,\n",
       " (1, 1, 0): 2,\n",
       " (0, 0, -1): 2,\n",
       " (0, 1, 0): 2,\n",
       " (1, 0, -1): 2,\n",
       " (-2, 0, 0): 1,\n",
       " (0, 0, 1): 2,\n",
       " (-1, -1, 0): 2,\n",
       " (-1, 0, 1): 2,\n",
       " (0, -1, 0): 2,\n",
       " (0, 2, 0): 1,\n",
       " (0, 1, 1): 2,\n",
       " (1, 0, 0): 2,\n",
       " (0, -2, 0): 1,\n",
       " (-1, 0, 0): 2,\n",
       " (0, -1, -1): 2,\n",
       " (0, 0, 2): 1,\n",
       " (0, 0, -2): 1}"
      ]
     },
     "execution_count": 18,
     "metadata": {},
     "output_type": "execute_result"
    }
   ],
   "source": [
    "running_dict[2]"
   ]
  },
  {
   "cell_type": "code",
   "execution_count": 17,
   "metadata": {},
   "outputs": [
    {
     "data": {
      "text/plain": [
       "{(3, 0, 0): 1,\n",
       " (1, 0, 0): 15,\n",
       " (2, 1, 0): 3,\n",
       " (1, 0, -1): 6,\n",
       " (1, 1, 0): 6,\n",
       " (2, 0, -1): 3,\n",
       " (-1, 0, 0): 15,\n",
       " (0, 1, 0): 15,\n",
       " (0, -1, 0): 15,\n",
       " (0, 0, 1): 15,\n",
       " (0, 0, -1): 15,\n",
       " (1, 2, 0): 3,\n",
       " (0, 2, 0): 6,\n",
       " (2, 0, 0): 6,\n",
       " (0, -1, -1): 6,\n",
       " (0, 0, 0): 12,\n",
       " (0, 0, -2): 6,\n",
       " (0, 1, 1): 6,\n",
       " (1, 0, -2): 3,\n",
       " (-3, 0, 0): 1,\n",
       " (-1, 0, 1): 6,\n",
       " (-2, -1, 0): 3,\n",
       " (-2, 0, 1): 3,\n",
       " (-1, -1, 0): 6,\n",
       " (0, 0, 2): 6,\n",
       " (-1, -2, 0): 3,\n",
       " (-2, 0, 0): 6,\n",
       " (0, -2, 0): 6,\n",
       " (-1, 0, 2): 3,\n",
       " (0, 3, 0): 1,\n",
       " (0, 2, 1): 3,\n",
       " (0, 1, 2): 3,\n",
       " (0, -3, 0): 1,\n",
       " (0, -2, -1): 3,\n",
       " (0, -1, -2): 3,\n",
       " (0, 0, 3): 1,\n",
       " (0, 0, -3): 1}"
      ]
     },
     "execution_count": 17,
     "metadata": {},
     "output_type": "execute_result"
    }
   ],
   "source": [
    "running_dict[3]"
   ]
  },
  {
   "cell_type": "code",
   "execution_count": 21,
   "metadata": {},
   "outputs": [
    {
     "name": "stdout",
     "output_type": "stream",
     "text": [
      "3.506965025280323\n",
      "1.8431711078521993\n"
     ]
    }
   ],
   "source": [
    "# All answers are rounded to 5 decimal places\n",
    "# Q1 and Q2: mean and variance from the full distribution at T = 13\n",
    "mean = sum([v*get_dist(k) for k,v in new_state.items()]) / (6**steps)\n",
    "var = sum([v*((get_dist(k) - mean)**2) for k,v in new_state.items()]) / (6**steps)\n",
    "sd = np.sqrt(var)\n",
    "\n",
    "print(mean)\n",
    "print(sd)"
   ]
  },
  {
   "cell_type": "code",
   "execution_count": 22,
   "metadata": {},
   "outputs": [
    {
     "name": "stdout",
     "output_type": "stream",
     "text": [
      "5.131370083949194\n"
     ]
    }
   ],
   "source": [
    "# Q5: conditional mean\n",
    "cond_sum = 0\n",
    "N_tot = 0\n",
    "for k,v in new_state.items():\n",
    "    if (get_dist(k)) >= 4:\n",
    "        cond_sum += (v * get_dist(k))\n",
    "        N_tot += v\n",
    "\n",
    "cd_mean = cond_sum / N_tot\n",
    "print(cd_mean)"
   ]
  },
  {
   "cell_type": "code",
   "execution_count": 23,
   "metadata": {},
   "outputs": [],
   "source": [
    "# Also run until T = 60, but this time don't save the running_dict\n",
    "old_state = {(0, 0, 0): 1}\n",
    "# running_dict keeps the whole history\n",
    "# running_dict = {0: old_state}\n",
    "steps = 60\n",
    "for i in range(steps):\n",
    "    new_state = {}\n",
    "    for k,v in old_state.items():\n",
    "        leaves = take_step(k)\n",
    "        for l in leaves:\n",
    "            if l not in new_state:\n",
    "                new_state[l] = 0\n",
    "            new_state[l] += v\n",
    "#     running_dict[i+1] = new_state\n",
    "    old_state = new_state"
   ]
  },
  {
   "cell_type": "code",
   "execution_count": 24,
   "metadata": {},
   "outputs": [
    {
     "name": "stdout",
     "output_type": "stream",
     "text": [
      "48873677980689257489322752273774603865660850176\n",
      "48873677980689257489322752273774603865660850176\n"
     ]
    }
   ],
   "source": [
    "# Make sure we have the correct number of 'leaves'\n",
    "s = 0\n",
    "for k,v in new_state.items():\n",
    "    s += v\n",
    "    \n",
    "print(s)\n",
    "print(6**60)"
   ]
  },
  {
   "cell_type": "code",
   "execution_count": 25,
   "metadata": {},
   "outputs": [
    {
     "name": "stdout",
     "output_type": "stream",
     "text": [
      "7.5615664386791295\n",
      "3.97046765907294\n"
     ]
    }
   ],
   "source": [
    "# Q3 and Q4: mean and variance from the full distribution at T = 60\n",
    "mean = sum([v*get_dist(k) for k,v in new_state.items()]) / (6**steps)\n",
    "var = sum([v*((get_dist(k) - mean)**2) for k,v in new_state.items()]) / (6**steps)\n",
    "sd = np.sqrt(var)\n",
    "\n",
    "print(mean)\n",
    "print(sd)"
   ]
  },
  {
   "cell_type": "code",
   "execution_count": 27,
   "metadata": {},
   "outputs": [
    {
     "name": "stdout",
     "output_type": "stream",
     "text": [
      "0.09597557143691135\n"
     ]
    }
   ],
   "source": [
    "# Q6: conditional probability\n",
    "cond_N_tot = 0\n",
    "N_tot = 0\n",
    "for k,v in new_state.items():\n",
    "    if (get_dist(k)) >= 15:\n",
    "        N_tot += v\n",
    "    if (get_dist(k)) >= 20:\n",
    "        cond_N_tot += v\n",
    "\n",
    "cd_prob = cond_N_tot / N_tot\n",
    "print(cd_prob)"
   ]
  },
  {
   "cell_type": "code",
   "execution_count": null,
   "metadata": {},
   "outputs": [],
   "source": []
  }
 ],
 "metadata": {
  "kernelspec": {
   "display_name": "Python 3",
   "language": "python",
   "name": "python3"
  },
  "language_info": {
   "codemirror_mode": {
    "name": "ipython",
    "version": 3
   },
   "file_extension": ".py",
   "mimetype": "text/x-python",
   "name": "python",
   "nbconvert_exporter": "python",
   "pygments_lexer": "ipython3",
   "version": "3.7.1"
  }
 },
 "nbformat": 4,
 "nbformat_minor": 4
}
