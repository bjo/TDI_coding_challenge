{
 "cells": [
  {
   "cell_type": "code",
   "execution_count": 2,
   "metadata": {},
   "outputs": [],
   "source": [
    "library(haven)\n",
    "library(tidyverse)"
   ]
  },
  {
   "cell_type": "markdown",
   "metadata": {},
   "source": [
    "# 1. Clean up BRFSS datasets and select exploratory variables\n",
    "\n",
    "I downloaded the SMART: BRFSS City and County Data and Documentation from the CDC website:\n",
    "`https://www.cdc.gov/brfss/smart/Smart_data.htm`\n",
    "\n",
    "However, not all years had available data - these are the years for which I could download the dataset:"
   ]
  },
  {
   "cell_type": "code",
   "execution_count": 3,
   "metadata": {},
   "outputs": [
    {
     "data": {
      "text/html": [
       "<style>\n",
       ".list-inline {list-style: none; margin:0; padding: 0}\n",
       ".list-inline>li {display: inline-block}\n",
       ".list-inline>li:not(:last-child)::after {content: \"\\00b7\"; padding: 0 .5ex}\n",
       "</style>\n",
       "<ol class=list-inline><li>'MMSA2003.xpt'</li><li>'MMSA2004.xpt'</li><li>'MMSA2005.xpt'</li><li>'MMSA2006.xpt'</li><li>'MMSA2008.xpt'</li><li>'MMSA2013.xpt'</li><li>'MMSA2014.xpt'</li><li>'MMSA2015.xpt'</li><li>'MMSA2016.xpt'</li><li>'MMSA2017.xpt'</li><li>'MMSA2018.xpt'</li><li>'MMSA2019.xpt'</li></ol>\n"
      ],
      "text/latex": [
       "\\begin{enumerate*}\n",
       "\\item 'MMSA2003.xpt'\n",
       "\\item 'MMSA2004.xpt'\n",
       "\\item 'MMSA2005.xpt'\n",
       "\\item 'MMSA2006.xpt'\n",
       "\\item 'MMSA2008.xpt'\n",
       "\\item 'MMSA2013.xpt'\n",
       "\\item 'MMSA2014.xpt'\n",
       "\\item 'MMSA2015.xpt'\n",
       "\\item 'MMSA2016.xpt'\n",
       "\\item 'MMSA2017.xpt'\n",
       "\\item 'MMSA2018.xpt'\n",
       "\\item 'MMSA2019.xpt'\n",
       "\\end{enumerate*}\n"
      ],
      "text/markdown": [
       "1. 'MMSA2003.xpt'\n",
       "2. 'MMSA2004.xpt'\n",
       "3. 'MMSA2005.xpt'\n",
       "4. 'MMSA2006.xpt'\n",
       "5. 'MMSA2008.xpt'\n",
       "6. 'MMSA2013.xpt'\n",
       "7. 'MMSA2014.xpt'\n",
       "8. 'MMSA2015.xpt'\n",
       "9. 'MMSA2016.xpt'\n",
       "10. 'MMSA2017.xpt'\n",
       "11. 'MMSA2018.xpt'\n",
       "12. 'MMSA2019.xpt'\n",
       "\n",
       "\n"
      ],
      "text/plain": [
       " [1] \"MMSA2003.xpt\" \"MMSA2004.xpt\" \"MMSA2005.xpt\" \"MMSA2006.xpt\" \"MMSA2008.xpt\"\n",
       " [6] \"MMSA2013.xpt\" \"MMSA2014.xpt\" \"MMSA2015.xpt\" \"MMSA2016.xpt\" \"MMSA2017.xpt\"\n",
       "[11] \"MMSA2018.xpt\" \"MMSA2019.xpt\""
      ]
     },
     "metadata": {},
     "output_type": "display_data"
    }
   ],
   "source": [
    "survey_files = list.files('../../Data/BRFSS_dataset/')\n",
    "survey_files"
   ]
  },
  {
   "cell_type": "code",
   "execution_count": 4,
   "metadata": {},
   "outputs": [
    {
     "name": "stdout",
     "output_type": "stream",
     "text": [
      "[1] 129779    296\n",
      "[1] 163168    288\n",
      "[1] 201539    317\n",
      "[1] 197744    277\n",
      "[1] 241150    264\n",
      "[1] 256271    154\n",
      "[1] 243476    147\n",
      "[1] 229015    153\n",
      "[1] 249011    146\n",
      "[1] 230875    177\n",
      "[1] 221587    145\n",
      "[1] 210771    179\n"
     ]
    }
   ],
   "source": [
    "survey_repo = list()\n",
    "for (file in survey_files) {\n",
    "    year = substr(file, 5, 8)\n",
    "    tbl = read_xpt(paste0('../../Data/BRFSS_dataset/', file))\n",
    "    print(dim(tbl))\n",
    "    survey_repo[[year]] = tbl\n",
    "}"
   ]
  },
  {
   "cell_type": "markdown",
   "metadata": {},
   "source": [
    "We can see that there is a large variance in the number of columns per year - we'll only select a few interesting variables for this exploratory analysis."
   ]
  },
  {
   "cell_type": "code",
   "execution_count": 5,
   "metadata": {},
   "outputs": [
    {
     "data": {
      "text/html": [
       "<table>\n",
       "<caption>A tibble: 6 × 296</caption>\n",
       "<thead>\n",
       "\t<tr><th scope=col>_MMSANAM</th><th scope=col>_LMSANAM</th><th scope=col>FMONTH</th><th scope=col>IDATE</th><th scope=col>IMONTH</th><th scope=col>IDAY</th><th scope=col>IYEAR</th><th scope=col>INTVID</th><th scope=col>DISPCODE</th><th scope=col>SEQNO</th><th scope=col>...</th><th scope=col>ADJMMSA</th><th scope=col>_MMSAWT</th><th scope=col>_LMMSA</th><th scope=col>SEX_LM</th><th scope=col>AGE_LM</th><th scope=col>RACE_LM</th><th scope=col>RACE_LMF</th><th scope=col>AGE_LMF</th><th scope=col>ADJLMMSA</th><th scope=col>_LMMSAWT</th></tr>\n",
       "\t<tr><th scope=col>&lt;chr&gt;</th><th scope=col>&lt;chr&gt;</th><th scope=col>&lt;dbl&gt;</th><th scope=col>&lt;chr&gt;</th><th scope=col>&lt;chr&gt;</th><th scope=col>&lt;chr&gt;</th><th scope=col>&lt;chr&gt;</th><th scope=col>&lt;chr&gt;</th><th scope=col>&lt;dbl&gt;</th><th scope=col>&lt;dbl&gt;</th><th scope=col>...</th><th scope=col>&lt;dbl&gt;</th><th scope=col>&lt;dbl&gt;</th><th scope=col>&lt;dbl&gt;</th><th scope=col>&lt;dbl&gt;</th><th scope=col>&lt;dbl&gt;</th><th scope=col>&lt;dbl&gt;</th><th scope=col>&lt;dbl&gt;</th><th scope=col>&lt;dbl&gt;</th><th scope=col>&lt;dbl&gt;</th><th scope=col>&lt;dbl&gt;</th></tr>\n",
       "</thead>\n",
       "<tbody>\n",
       "\t<tr><td>Albuquerque, NM</td><td></td><td>1</td><td>01222003</td><td>01</td><td>22</td><td>2003</td><td>164</td><td>120</td><td>2003000439</td><td>...</td><td>4.874913</td><td> 320.4042</td><td>NA</td><td>NA</td><td>NA</td><td>NA</td><td>NA</td><td>NA</td><td>NA</td><td>NA</td></tr>\n",
       "\t<tr><td>Albuquerque, NM</td><td></td><td>2</td><td>02112003</td><td>02</td><td>11</td><td>2003</td><td>188</td><td>110</td><td>2003000702</td><td>...</td><td>4.874913</td><td> 640.8084</td><td>NA</td><td>NA</td><td>NA</td><td>NA</td><td>NA</td><td>NA</td><td>NA</td><td>NA</td></tr>\n",
       "\t<tr><td>Albuquerque, NM</td><td></td><td>1</td><td>01212003</td><td>01</td><td>21</td><td>2003</td><td>129</td><td>110</td><td>2003006985</td><td>...</td><td>4.874913</td><td> 482.4036</td><td>NA</td><td>NA</td><td>NA</td><td>NA</td><td>NA</td><td>NA</td><td>NA</td><td>NA</td></tr>\n",
       "\t<tr><td>Albuquerque, NM</td><td></td><td>3</td><td>03052003</td><td>03</td><td>05</td><td>2003</td><td>188</td><td>110</td><td>2003008064</td><td>...</td><td>4.874913</td><td>1286.5426</td><td>NA</td><td>NA</td><td>NA</td><td>NA</td><td>NA</td><td>NA</td><td>NA</td><td>NA</td></tr>\n",
       "\t<tr><td>Albuquerque, NM</td><td></td><td>4</td><td>04122003</td><td>04</td><td>12</td><td>2003</td><td>129</td><td>110</td><td>2003015321</td><td>...</td><td>4.874913</td><td> 964.9070</td><td>NA</td><td>NA</td><td>NA</td><td>NA</td><td>NA</td><td>NA</td><td>NA</td><td>NA</td></tr>\n",
       "\t<tr><td>Albuquerque, NM</td><td></td><td>4</td><td>04082003</td><td>04</td><td>08</td><td>2003</td><td>129</td><td>110</td><td>2003015383</td><td>...</td><td>4.874913</td><td> 964.9070</td><td>NA</td><td>NA</td><td>NA</td><td>NA</td><td>NA</td><td>NA</td><td>NA</td><td>NA</td></tr>\n",
       "</tbody>\n",
       "</table>\n"
      ],
      "text/latex": [
       "A tibble: 6 × 296\n",
       "\\begin{tabular}{lllllllllllllllllllll}\n",
       " \\_MMSANAM & \\_LMSANAM & FMONTH & IDATE & IMONTH & IDAY & IYEAR & INTVID & DISPCODE & SEQNO & ... & ADJMMSA & \\_MMSAWT & \\_LMMSA & SEX\\_LM & AGE\\_LM & RACE\\_LM & RACE\\_LMF & AGE\\_LMF & ADJLMMSA & \\_LMMSAWT\\\\\n",
       " <chr> & <chr> & <dbl> & <chr> & <chr> & <chr> & <chr> & <chr> & <dbl> & <dbl> & ... & <dbl> & <dbl> & <dbl> & <dbl> & <dbl> & <dbl> & <dbl> & <dbl> & <dbl> & <dbl>\\\\\n",
       "\\hline\n",
       "\t Albuquerque, NM &  & 1 & 01222003 & 01 & 22 & 2003 & 164 & 120 & 2003000439 & ... & 4.874913 &  320.4042 & NA & NA & NA & NA & NA & NA & NA & NA\\\\\n",
       "\t Albuquerque, NM &  & 2 & 02112003 & 02 & 11 & 2003 & 188 & 110 & 2003000702 & ... & 4.874913 &  640.8084 & NA & NA & NA & NA & NA & NA & NA & NA\\\\\n",
       "\t Albuquerque, NM &  & 1 & 01212003 & 01 & 21 & 2003 & 129 & 110 & 2003006985 & ... & 4.874913 &  482.4036 & NA & NA & NA & NA & NA & NA & NA & NA\\\\\n",
       "\t Albuquerque, NM &  & 3 & 03052003 & 03 & 05 & 2003 & 188 & 110 & 2003008064 & ... & 4.874913 & 1286.5426 & NA & NA & NA & NA & NA & NA & NA & NA\\\\\n",
       "\t Albuquerque, NM &  & 4 & 04122003 & 04 & 12 & 2003 & 129 & 110 & 2003015321 & ... & 4.874913 &  964.9070 & NA & NA & NA & NA & NA & NA & NA & NA\\\\\n",
       "\t Albuquerque, NM &  & 4 & 04082003 & 04 & 08 & 2003 & 129 & 110 & 2003015383 & ... & 4.874913 &  964.9070 & NA & NA & NA & NA & NA & NA & NA & NA\\\\\n",
       "\\end{tabular}\n"
      ],
      "text/markdown": [
       "\n",
       "A tibble: 6 × 296\n",
       "\n",
       "| _MMSANAM &lt;chr&gt; | _LMSANAM &lt;chr&gt; | FMONTH &lt;dbl&gt; | IDATE &lt;chr&gt; | IMONTH &lt;chr&gt; | IDAY &lt;chr&gt; | IYEAR &lt;chr&gt; | INTVID &lt;chr&gt; | DISPCODE &lt;dbl&gt; | SEQNO &lt;dbl&gt; | ... ... | ADJMMSA &lt;dbl&gt; | _MMSAWT &lt;dbl&gt; | _LMMSA &lt;dbl&gt; | SEX_LM &lt;dbl&gt; | AGE_LM &lt;dbl&gt; | RACE_LM &lt;dbl&gt; | RACE_LMF &lt;dbl&gt; | AGE_LMF &lt;dbl&gt; | ADJLMMSA &lt;dbl&gt; | _LMMSAWT &lt;dbl&gt; |\n",
       "|---|---|---|---|---|---|---|---|---|---|---|---|---|---|---|---|---|---|---|---|---|\n",
       "| Albuquerque, NM | <!----> | 1 | 01222003 | 01 | 22 | 2003 | 164 | 120 | 2003000439 | ... | 4.874913 |  320.4042 | NA | NA | NA | NA | NA | NA | NA | NA |\n",
       "| Albuquerque, NM | <!----> | 2 | 02112003 | 02 | 11 | 2003 | 188 | 110 | 2003000702 | ... | 4.874913 |  640.8084 | NA | NA | NA | NA | NA | NA | NA | NA |\n",
       "| Albuquerque, NM | <!----> | 1 | 01212003 | 01 | 21 | 2003 | 129 | 110 | 2003006985 | ... | 4.874913 |  482.4036 | NA | NA | NA | NA | NA | NA | NA | NA |\n",
       "| Albuquerque, NM | <!----> | 3 | 03052003 | 03 | 05 | 2003 | 188 | 110 | 2003008064 | ... | 4.874913 | 1286.5426 | NA | NA | NA | NA | NA | NA | NA | NA |\n",
       "| Albuquerque, NM | <!----> | 4 | 04122003 | 04 | 12 | 2003 | 129 | 110 | 2003015321 | ... | 4.874913 |  964.9070 | NA | NA | NA | NA | NA | NA | NA | NA |\n",
       "| Albuquerque, NM | <!----> | 4 | 04082003 | 04 | 08 | 2003 | 129 | 110 | 2003015383 | ... | 4.874913 |  964.9070 | NA | NA | NA | NA | NA | NA | NA | NA |\n",
       "\n"
      ],
      "text/plain": [
       "  _MMSANAM        _LMSANAM FMONTH IDATE    IMONTH IDAY IYEAR INTVID DISPCODE\n",
       "1 Albuquerque, NM          1      01222003 01     22   2003  164    120     \n",
       "2 Albuquerque, NM          2      02112003 02     11   2003  188    110     \n",
       "3 Albuquerque, NM          1      01212003 01     21   2003  129    110     \n",
       "4 Albuquerque, NM          3      03052003 03     05   2003  188    110     \n",
       "5 Albuquerque, NM          4      04122003 04     12   2003  129    110     \n",
       "6 Albuquerque, NM          4      04082003 04     08   2003  129    110     \n",
       "  SEQNO      ... ADJMMSA  _MMSAWT   _LMMSA SEX_LM AGE_LM RACE_LM RACE_LMF\n",
       "1 2003000439 ... 4.874913  320.4042 NA     NA     NA     NA      NA      \n",
       "2 2003000702 ... 4.874913  640.8084 NA     NA     NA     NA      NA      \n",
       "3 2003006985 ... 4.874913  482.4036 NA     NA     NA     NA      NA      \n",
       "4 2003008064 ... 4.874913 1286.5426 NA     NA     NA     NA      NA      \n",
       "5 2003015321 ... 4.874913  964.9070 NA     NA     NA     NA      NA      \n",
       "6 2003015383 ... 4.874913  964.9070 NA     NA     NA     NA      NA      \n",
       "  AGE_LMF ADJLMMSA _LMMSAWT\n",
       "1 NA      NA       NA      \n",
       "2 NA      NA       NA      \n",
       "3 NA      NA       NA      \n",
       "4 NA      NA       NA      \n",
       "5 NA      NA       NA      \n",
       "6 NA      NA       NA      "
      ]
     },
     "metadata": {},
     "output_type": "display_data"
    }
   ],
   "source": [
    "head(survey_repo[['2003']])"
   ]
  },
  {
   "cell_type": "markdown",
   "metadata": {},
   "source": [
    "The columns that start with _ have been calculated by the analysts at CDC and formatted for us to use - I'll use these columns. Namely, I'll match columns that start with:\n",
    "\n",
    "- MMSANAM - Name of the MSA\n",
    "- _AGEG5YR\n",
    "- _SEXG = this variable actually is pretty irregular over the years - not used at this stage\n",
    "- _TOTINDA : variable for exercise\n",
    "- _FLUSHOT/_FLSHOT : vaccination\n",
    "- _RFBING : binge drinking\n",
    "- _RFDRHV : heavy drinking\n",
    "- _SMOKER : level of smoking\n",
    "- _RFSMOK : current smokers"
   ]
  },
  {
   "cell_type": "code",
   "execution_count": 5,
   "metadata": {},
   "outputs": [
    {
     "name": "stdout",
     "output_type": "stream",
     "text": [
      "[1] 129779     10\n",
      "[1] 163168     10\n",
      "[1] 201539     10\n",
      "[1] 197744     10\n",
      "[1] 241150     10\n",
      "[1] 256271     10\n",
      "[1] 243476     10\n",
      "[1] 229015     10\n",
      "[1] 249011     10\n",
      "[1] 230875     10\n",
      "[1] 221587     10\n",
      "[1] 210771     10\n"
     ]
    }
   ],
   "source": [
    "match_cols = c('MMSANAM', '_AGEG5YR', '_INCOMG', '_TOTINDA', '_FL', '_RFBING', '_RFDRHV', '_SMOKER', '_RFSMOK')\n",
    "survey_clean = list()\n",
    "for (file in survey_files) {\n",
    "    year = substr(file, 5, 8)\n",
    "    matched_cols = sapply(match_cols, function(x) {which(grepl(x , names(survey_repo[[year]])))})\n",
    "    cleaned_table = cbind(survey_repo[[year]][, c('_MMSA')], survey_repo[[year]][, matched_cols])\n",
    "    print(dim(cleaned_table))\n",
    "    colnames(cleaned_table) = c('mmsa', 'mmsa_name', 'age', 'income', 'exercise', 'flushot',\n",
    "        'binging', 'heavy_drink', 'smoker', 'smoking_now')\n",
    "    cleaned_table$year = as.numeric(year)\n",
    "    survey_clean[[year]] = cleaned_table\n",
    "    # I tried combining the table, but ran into memory issues (personal computer) - opting for saving each separately\n",
    "    # need to write .tsv, since MMSA names have commas in them\n",
    "#     write.table(cleaned_table, file = paste0('../../Table/BRFSS/cleaned_10cols_', year, '.tsv'),\n",
    "#         row.names = F, quote = F, sep = '\\t')\n",
    "}"
   ]
  },
  {
   "cell_type": "code",
   "execution_count": 6,
   "metadata": {},
   "outputs": [],
   "source": [
    "# let's save some memory:\n",
    "rm(survey_repo)\n",
    "total_tbl = do.call('rbind', survey_clean)\n",
    "rm(survey_clean)"
   ]
  },
  {
   "cell_type": "code",
   "execution_count": 7,
   "metadata": {},
   "outputs": [
    {
     "data": {
      "text/html": [
       "<style>\n",
       ".list-inline {list-style: none; margin:0; padding: 0}\n",
       ".list-inline>li {display: inline-block}\n",
       ".list-inline>li:not(:last-child)::after {content: \"\\00b7\"; padding: 0 .5ex}\n",
       "</style>\n",
       "<ol class=list-inline><li>2574386</li><li>11</li></ol>\n"
      ],
      "text/latex": [
       "\\begin{enumerate*}\n",
       "\\item 2574386\n",
       "\\item 11\n",
       "\\end{enumerate*}\n"
      ],
      "text/markdown": [
       "1. 2574386\n",
       "2. 11\n",
       "\n",
       "\n"
      ],
      "text/plain": [
       "[1] 2574386      11"
      ]
     },
     "metadata": {},
     "output_type": "display_data"
    },
    {
     "data": {
      "text/html": [
       "<table>\n",
       "<caption>A data.frame: 6 × 11</caption>\n",
       "<thead>\n",
       "\t<tr><th></th><th scope=col>mmsa</th><th scope=col>mmsa_name</th><th scope=col>age</th><th scope=col>income</th><th scope=col>exercise</th><th scope=col>flushot</th><th scope=col>binging</th><th scope=col>heavy_drink</th><th scope=col>smoker</th><th scope=col>smoking_now</th><th scope=col>year</th></tr>\n",
       "\t<tr><th></th><th scope=col>&lt;dbl&gt;</th><th scope=col>&lt;chr&gt;</th><th scope=col>&lt;dbl&gt;</th><th scope=col>&lt;dbl&gt;</th><th scope=col>&lt;dbl&gt;</th><th scope=col>&lt;dbl&gt;</th><th scope=col>&lt;dbl&gt;</th><th scope=col>&lt;dbl&gt;</th><th scope=col>&lt;dbl&gt;</th><th scope=col>&lt;dbl&gt;</th><th scope=col>&lt;dbl&gt;</th></tr>\n",
       "</thead>\n",
       "<tbody>\n",
       "\t<tr><th scope=row>2003.1</th><td>10740</td><td>Albuquerque, NM</td><td>1</td><td>3</td><td>1</td><td>NA</td><td>2</td><td>1</td><td>1</td><td>2</td><td>2003</td></tr>\n",
       "\t<tr><th scope=row>2003.2</th><td>10740</td><td>Albuquerque, NM</td><td>1</td><td>2</td><td>1</td><td>NA</td><td>2</td><td>1</td><td>3</td><td>1</td><td>2003</td></tr>\n",
       "\t<tr><th scope=row>2003.3</th><td>10740</td><td>Albuquerque, NM</td><td>1</td><td>4</td><td>1</td><td>NA</td><td>2</td><td>1</td><td>2</td><td>2</td><td>2003</td></tr>\n",
       "\t<tr><th scope=row>2003.4</th><td>10740</td><td>Albuquerque, NM</td><td>1</td><td>5</td><td>1</td><td>NA</td><td>1</td><td>1</td><td>1</td><td>2</td><td>2003</td></tr>\n",
       "\t<tr><th scope=row>2003.5</th><td>10740</td><td>Albuquerque, NM</td><td>1</td><td>3</td><td>1</td><td>NA</td><td>1</td><td>1</td><td>4</td><td>1</td><td>2003</td></tr>\n",
       "\t<tr><th scope=row>2003.6</th><td>10740</td><td>Albuquerque, NM</td><td>1</td><td>2</td><td>1</td><td>NA</td><td>1</td><td>1</td><td>4</td><td>1</td><td>2003</td></tr>\n",
       "</tbody>\n",
       "</table>\n"
      ],
      "text/latex": [
       "A data.frame: 6 × 11\n",
       "\\begin{tabular}{r|lllllllllll}\n",
       "  & mmsa & mmsa\\_name & age & income & exercise & flushot & binging & heavy\\_drink & smoker & smoking\\_now & year\\\\\n",
       "  & <dbl> & <chr> & <dbl> & <dbl> & <dbl> & <dbl> & <dbl> & <dbl> & <dbl> & <dbl> & <dbl>\\\\\n",
       "\\hline\n",
       "\t2003.1 & 10740 & Albuquerque, NM & 1 & 3 & 1 & NA & 2 & 1 & 1 & 2 & 2003\\\\\n",
       "\t2003.2 & 10740 & Albuquerque, NM & 1 & 2 & 1 & NA & 2 & 1 & 3 & 1 & 2003\\\\\n",
       "\t2003.3 & 10740 & Albuquerque, NM & 1 & 4 & 1 & NA & 2 & 1 & 2 & 2 & 2003\\\\\n",
       "\t2003.4 & 10740 & Albuquerque, NM & 1 & 5 & 1 & NA & 1 & 1 & 1 & 2 & 2003\\\\\n",
       "\t2003.5 & 10740 & Albuquerque, NM & 1 & 3 & 1 & NA & 1 & 1 & 4 & 1 & 2003\\\\\n",
       "\t2003.6 & 10740 & Albuquerque, NM & 1 & 2 & 1 & NA & 1 & 1 & 4 & 1 & 2003\\\\\n",
       "\\end{tabular}\n"
      ],
      "text/markdown": [
       "\n",
       "A data.frame: 6 × 11\n",
       "\n",
       "| <!--/--> | mmsa &lt;dbl&gt; | mmsa_name &lt;chr&gt; | age &lt;dbl&gt; | income &lt;dbl&gt; | exercise &lt;dbl&gt; | flushot &lt;dbl&gt; | binging &lt;dbl&gt; | heavy_drink &lt;dbl&gt; | smoker &lt;dbl&gt; | smoking_now &lt;dbl&gt; | year &lt;dbl&gt; |\n",
       "|---|---|---|---|---|---|---|---|---|---|---|---|\n",
       "| 2003.1 | 10740 | Albuquerque, NM | 1 | 3 | 1 | NA | 2 | 1 | 1 | 2 | 2003 |\n",
       "| 2003.2 | 10740 | Albuquerque, NM | 1 | 2 | 1 | NA | 2 | 1 | 3 | 1 | 2003 |\n",
       "| 2003.3 | 10740 | Albuquerque, NM | 1 | 4 | 1 | NA | 2 | 1 | 2 | 2 | 2003 |\n",
       "| 2003.4 | 10740 | Albuquerque, NM | 1 | 5 | 1 | NA | 1 | 1 | 1 | 2 | 2003 |\n",
       "| 2003.5 | 10740 | Albuquerque, NM | 1 | 3 | 1 | NA | 1 | 1 | 4 | 1 | 2003 |\n",
       "| 2003.6 | 10740 | Albuquerque, NM | 1 | 2 | 1 | NA | 1 | 1 | 4 | 1 | 2003 |\n",
       "\n"
      ],
      "text/plain": [
       "       mmsa  mmsa_name       age income exercise flushot binging heavy_drink\n",
       "2003.1 10740 Albuquerque, NM 1   3      1        NA      2       1          \n",
       "2003.2 10740 Albuquerque, NM 1   2      1        NA      2       1          \n",
       "2003.3 10740 Albuquerque, NM 1   4      1        NA      2       1          \n",
       "2003.4 10740 Albuquerque, NM 1   5      1        NA      1       1          \n",
       "2003.5 10740 Albuquerque, NM 1   3      1        NA      1       1          \n",
       "2003.6 10740 Albuquerque, NM 1   2      1        NA      1       1          \n",
       "       smoker smoking_now year\n",
       "2003.1 1      2           2003\n",
       "2003.2 3      1           2003\n",
       "2003.3 2      2           2003\n",
       "2003.4 1      2           2003\n",
       "2003.5 4      1           2003\n",
       "2003.6 4      1           2003"
      ]
     },
     "metadata": {},
     "output_type": "display_data"
    }
   ],
   "source": [
    "dim(total_tbl)\n",
    "head(total_tbl)"
   ]
  },
  {
   "cell_type": "code",
   "execution_count": 11,
   "metadata": {},
   "outputs": [
    {
     "data": {
      "text/html": [
       "265"
      ],
      "text/latex": [
       "265"
      ],
      "text/markdown": [
       "265"
      ],
      "text/plain": [
       "[1] 265"
      ]
     },
     "metadata": {},
     "output_type": "display_data"
    },
    {
     "data": {
      "text/html": [
       "<style>\n",
       ".list-inline {list-style: none; margin:0; padding: 0}\n",
       ".list-inline>li {display: inline-block}\n",
       ".list-inline>li:not(:last-child)::after {content: \"\\00b7\"; padding: 0 .5ex}\n",
       "</style>\n",
       "<ol class=list-inline><li>1</li><li>2</li><li>3</li><li>4</li><li>5</li><li>14</li><li>6</li><li>7</li><li>8</li><li>9</li><li>10</li><li>11</li><li>12</li><li>13</li></ol>\n"
      ],
      "text/latex": [
       "\\begin{enumerate*}\n",
       "\\item 1\n",
       "\\item 2\n",
       "\\item 3\n",
       "\\item 4\n",
       "\\item 5\n",
       "\\item 14\n",
       "\\item 6\n",
       "\\item 7\n",
       "\\item 8\n",
       "\\item 9\n",
       "\\item 10\n",
       "\\item 11\n",
       "\\item 12\n",
       "\\item 13\n",
       "\\end{enumerate*}\n"
      ],
      "text/markdown": [
       "1. 1\n",
       "2. 2\n",
       "3. 3\n",
       "4. 4\n",
       "5. 5\n",
       "6. 14\n",
       "7. 6\n",
       "8. 7\n",
       "9. 8\n",
       "10. 9\n",
       "11. 10\n",
       "12. 11\n",
       "13. 12\n",
       "14. 13\n",
       "\n",
       "\n"
      ],
      "text/plain": [
       " [1]  1  2  3  4  5 14  6  7  8  9 10 11 12 13"
      ]
     },
     "metadata": {},
     "output_type": "display_data"
    },
    {
     "data": {
      "text/html": [
       "<style>\n",
       ".list-inline {list-style: none; margin:0; padding: 0}\n",
       ".list-inline>li {display: inline-block}\n",
       ".list-inline>li:not(:last-child)::after {content: \"\\00b7\"; padding: 0 .5ex}\n",
       "</style>\n",
       "<ol class=list-inline><li>3</li><li>2</li><li>4</li><li>5</li><li>9</li><li>1</li></ol>\n"
      ],
      "text/latex": [
       "\\begin{enumerate*}\n",
       "\\item 3\n",
       "\\item 2\n",
       "\\item 4\n",
       "\\item 5\n",
       "\\item 9\n",
       "\\item 1\n",
       "\\end{enumerate*}\n"
      ],
      "text/markdown": [
       "1. 3\n",
       "2. 2\n",
       "3. 4\n",
       "4. 5\n",
       "5. 9\n",
       "6. 1\n",
       "\n",
       "\n"
      ],
      "text/plain": [
       "[1] 3 2 4 5 9 1"
      ]
     },
     "metadata": {},
     "output_type": "display_data"
    },
    {
     "data": {
      "text/html": [
       "<style>\n",
       ".list-inline {list-style: none; margin:0; padding: 0}\n",
       ".list-inline>li {display: inline-block}\n",
       ".list-inline>li:not(:last-child)::after {content: \"\\00b7\"; padding: 0 .5ex}\n",
       "</style>\n",
       "<ol class=list-inline><li>1</li><li>2</li><li>9</li></ol>\n"
      ],
      "text/latex": [
       "\\begin{enumerate*}\n",
       "\\item 1\n",
       "\\item 2\n",
       "\\item 9\n",
       "\\end{enumerate*}\n"
      ],
      "text/markdown": [
       "1. 1\n",
       "2. 2\n",
       "3. 9\n",
       "\n",
       "\n"
      ],
      "text/plain": [
       "[1] 1 2 9"
      ]
     },
     "metadata": {},
     "output_type": "display_data"
    },
    {
     "data": {
      "text/html": [
       "<style>\n",
       ".list-inline {list-style: none; margin:0; padding: 0}\n",
       ".list-inline>li {display: inline-block}\n",
       ".list-inline>li:not(:last-child)::after {content: \"\\00b7\"; padding: 0 .5ex}\n",
       "</style>\n",
       "<ol class=list-inline><li>&lt;NA&gt;</li><li>9</li><li>2</li><li>1</li></ol>\n"
      ],
      "text/latex": [
       "\\begin{enumerate*}\n",
       "\\item <NA>\n",
       "\\item 9\n",
       "\\item 2\n",
       "\\item 1\n",
       "\\end{enumerate*}\n"
      ],
      "text/markdown": [
       "1. &lt;NA&gt;\n",
       "2. 9\n",
       "3. 2\n",
       "4. 1\n",
       "\n",
       "\n"
      ],
      "text/plain": [
       "[1] NA  9  2  1"
      ]
     },
     "metadata": {},
     "output_type": "display_data"
    },
    {
     "data": {
      "text/html": [
       "<style>\n",
       ".list-inline {list-style: none; margin:0; padding: 0}\n",
       ".list-inline>li {display: inline-block}\n",
       ".list-inline>li:not(:last-child)::after {content: \"\\00b7\"; padding: 0 .5ex}\n",
       "</style>\n",
       "<ol class=list-inline><li>2</li><li>1</li><li>9</li></ol>\n"
      ],
      "text/latex": [
       "\\begin{enumerate*}\n",
       "\\item 2\n",
       "\\item 1\n",
       "\\item 9\n",
       "\\end{enumerate*}\n"
      ],
      "text/markdown": [
       "1. 2\n",
       "2. 1\n",
       "3. 9\n",
       "\n",
       "\n"
      ],
      "text/plain": [
       "[1] 2 1 9"
      ]
     },
     "metadata": {},
     "output_type": "display_data"
    },
    {
     "data": {
      "text/html": [
       "<style>\n",
       ".list-inline {list-style: none; margin:0; padding: 0}\n",
       ".list-inline>li {display: inline-block}\n",
       ".list-inline>li:not(:last-child)::after {content: \"\\00b7\"; padding: 0 .5ex}\n",
       "</style>\n",
       "<ol class=list-inline><li>1</li><li>2</li><li>9</li></ol>\n"
      ],
      "text/latex": [
       "\\begin{enumerate*}\n",
       "\\item 1\n",
       "\\item 2\n",
       "\\item 9\n",
       "\\end{enumerate*}\n"
      ],
      "text/markdown": [
       "1. 1\n",
       "2. 2\n",
       "3. 9\n",
       "\n",
       "\n"
      ],
      "text/plain": [
       "[1] 1 2 9"
      ]
     },
     "metadata": {},
     "output_type": "display_data"
    },
    {
     "data": {
      "text/html": [
       "<style>\n",
       ".list-inline {list-style: none; margin:0; padding: 0}\n",
       ".list-inline>li {display: inline-block}\n",
       ".list-inline>li:not(:last-child)::after {content: \"\\00b7\"; padding: 0 .5ex}\n",
       "</style>\n",
       "<ol class=list-inline><li>1</li><li>3</li><li>2</li><li>4</li><li>9</li></ol>\n"
      ],
      "text/latex": [
       "\\begin{enumerate*}\n",
       "\\item 1\n",
       "\\item 3\n",
       "\\item 2\n",
       "\\item 4\n",
       "\\item 9\n",
       "\\end{enumerate*}\n"
      ],
      "text/markdown": [
       "1. 1\n",
       "2. 3\n",
       "3. 2\n",
       "4. 4\n",
       "5. 9\n",
       "\n",
       "\n"
      ],
      "text/plain": [
       "[1] 1 3 2 4 9"
      ]
     },
     "metadata": {},
     "output_type": "display_data"
    },
    {
     "data": {
      "text/html": [
       "<style>\n",
       ".list-inline {list-style: none; margin:0; padding: 0}\n",
       ".list-inline>li {display: inline-block}\n",
       ".list-inline>li:not(:last-child)::after {content: \"\\00b7\"; padding: 0 .5ex}\n",
       "</style>\n",
       "<ol class=list-inline><li>2</li><li>1</li><li>9</li></ol>\n"
      ],
      "text/latex": [
       "\\begin{enumerate*}\n",
       "\\item 2\n",
       "\\item 1\n",
       "\\item 9\n",
       "\\end{enumerate*}\n"
      ],
      "text/markdown": [
       "1. 2\n",
       "2. 1\n",
       "3. 9\n",
       "\n",
       "\n"
      ],
      "text/plain": [
       "[1] 2 1 9"
      ]
     },
     "metadata": {},
     "output_type": "display_data"
    },
    {
     "data": {
      "text/html": [
       "<style>\n",
       ".list-inline {list-style: none; margin:0; padding: 0}\n",
       ".list-inline>li {display: inline-block}\n",
       ".list-inline>li:not(:last-child)::after {content: \"\\00b7\"; padding: 0 .5ex}\n",
       "</style>\n",
       "<ol class=list-inline><li>2003</li><li>2004</li><li>2005</li><li>2006</li><li>2008</li><li>2013</li><li>2014</li><li>2015</li><li>2016</li><li>2017</li><li>2018</li><li>2019</li></ol>\n"
      ],
      "text/latex": [
       "\\begin{enumerate*}\n",
       "\\item 2003\n",
       "\\item 2004\n",
       "\\item 2005\n",
       "\\item 2006\n",
       "\\item 2008\n",
       "\\item 2013\n",
       "\\item 2014\n",
       "\\item 2015\n",
       "\\item 2016\n",
       "\\item 2017\n",
       "\\item 2018\n",
       "\\item 2019\n",
       "\\end{enumerate*}\n"
      ],
      "text/markdown": [
       "1. 2003\n",
       "2. 2004\n",
       "3. 2005\n",
       "4. 2006\n",
       "5. 2008\n",
       "6. 2013\n",
       "7. 2014\n",
       "8. 2015\n",
       "9. 2016\n",
       "10. 2017\n",
       "11. 2018\n",
       "12. 2019\n",
       "\n",
       "\n"
      ],
      "text/plain": [
       " [1] 2003 2004 2005 2006 2008 2013 2014 2015 2016 2017 2018 2019"
      ]
     },
     "metadata": {},
     "output_type": "display_data"
    }
   ],
   "source": [
    "# some basic stats on each column - we have 3 range variables and 5 binary variables\n",
    "length(unique(total_tbl$mmsa)) # data available from 265 MSA's\n",
    "unique(total_tbl$age) # range (1 to 14)\n",
    "unique(total_tbl$income) # range (1 to 5)\n",
    "unique(total_tbl$exercise) # binary (1 or 2)\n",
    "unique(total_tbl$flushot) # binary (1 or 2)\n",
    "unique(total_tbl$binging) # binary (1 or 2)\n",
    "unique(total_tbl$heavy_drink) # binary (1 or 2)\n",
    "unique(total_tbl$smoker) # range (1 to 4)\n",
    "unique(total_tbl$smoking_now) # binary (1 or 2)\n",
    "unique(total_tbl$year) # years 2003 to 2019, but some gaps in between, including 4 years between 2008 and 2013"
   ]
  },
  {
   "cell_type": "markdown",
   "metadata": {},
   "source": [
    "# 2. Matching MSAs to state, and combining another dataset with MSA available (HPI data)\n",
    "\n",
    "In order to combine this dataset with other datasets that have either MSA-level or state-level data, I need to do some additional processing. First, I'm going to convert each MSA to state, but with the rule thumb that in case of multi-state MSAs (such as `Chicago-Naperville-Joliet, IL-IN-WI`), the first state will be chosen (e.g. `IL`), since it is the state with the largest representation in most cases."
   ]
  },
  {
   "cell_type": "code",
   "execution_count": 8,
   "metadata": {},
   "outputs": [
    {
     "data": {
      "text/html": [
       "'NM'"
      ],
      "text/latex": [
       "'NM'"
      ],
      "text/markdown": [
       "'NM'"
      ],
      "text/plain": [
       "[1] \"NM\""
      ]
     },
     "metadata": {},
     "output_type": "display_data"
    },
    {
     "data": {
      "text/html": [
       "'MA'"
      ],
      "text/latex": [
       "'MA'"
      ],
      "text/markdown": [
       "'MA'"
      ],
      "text/plain": [
       "[1] \"MA\""
      ]
     },
     "metadata": {},
     "output_type": "display_data"
    },
    {
     "data": {
      "text/html": [
       "'DC'"
      ],
      "text/latex": [
       "'DC'"
      ],
      "text/markdown": [
       "'DC'"
      ],
      "text/plain": [
       "[1] \"DC\""
      ]
     },
     "metadata": {},
     "output_type": "display_data"
    }
   ],
   "source": [
    "z = 'Albuquerque, NM'\n",
    "strsplit(z, ', ')[[1]][2]\n",
    "z = 'Boston-Quincy, MA Metropolitan Division'\n",
    "strsplit(strsplit(z, ', ')[[1]][2], ' ')[[1]][1]\n",
    "z = 'Washington-Arlington-Alexandria, DC-VA-MD-WV Metropolitan Division'\n",
    "strsplit(strsplit(strsplit(z, ', ')[[1]][2], ' ')[[1]][1], '-')[[1]][1]"
   ]
  },
  {
   "cell_type": "code",
   "execution_count": 9,
   "metadata": {},
   "outputs": [],
   "source": [
    "# Let's extract the state variable (two-letter) from each row:\n",
    "extract_state = function(name) {\n",
    "    return(\n",
    "        strsplit(\n",
    "            strsplit(\n",
    "                strsplit(name, ', ')[[1]][2],\n",
    "            ' ')[[1]][1],\n",
    "        '-')[[1]][1]\n",
    "    )\n",
    "}\n",
    "total_tbl$state = sapply(total_tbl$mmsa_name, function(x) {extract_state(x)})"
   ]
  },
  {
   "cell_type": "code",
   "execution_count": 10,
   "metadata": {},
   "outputs": [
    {
     "data": {
      "text/html": [
       "<style>\n",
       ".list-inline {list-style: none; margin:0; padding: 0}\n",
       ".list-inline>li {display: inline-block}\n",
       ".list-inline>li:not(:last-child)::after {content: \"\\00b7\"; padding: 0 .5ex}\n",
       "</style>\n",
       "<ol class=list-inline><li>'NM'</li><li>'AK'</li><li>'NC'</li><li>'GA'</li><li>'MD'</li><li>'LA'</li><li>'AL'</li><li>'ID'</li><li>'MA'</li><li>'WA'</li><li>'CT'</li><li>'VT'</li><li>'NJ'</li><li>'WY'</li><li>'WV'</li><li>'SC'</li><li>'IL'</li><li>'OH'</li><li>'NH'</li><li>'TX'</li><li>'CO'</li><li>'IA'</li><li>'MI'</li><li>'DE'</li><li>'ND'</li><li>'AR'</li><li>'HI'</li><li>'IN'</li><li>'MS'</li><li>'MO'</li><li>'NV'</li><li>'NE'</li><li>'CA'</li><li>'KY'</li><li>'TN'</li><li>'FL'</li><li>'WI'</li><li>'MN'</li><li>'NY'</li><li>'UT'</li><li>'OK'</li><li>'PA'</li><li>'AZ'</li><li>'ME'</li><li>'OR'</li><li>'RI'</li><li>'SD'</li><li>'VA'</li><li>'KS'</li><li>'DC'</li><li>'MT'</li><li>'PR'</li></ol>\n"
      ],
      "text/latex": [
       "\\begin{enumerate*}\n",
       "\\item 'NM'\n",
       "\\item 'AK'\n",
       "\\item 'NC'\n",
       "\\item 'GA'\n",
       "\\item 'MD'\n",
       "\\item 'LA'\n",
       "\\item 'AL'\n",
       "\\item 'ID'\n",
       "\\item 'MA'\n",
       "\\item 'WA'\n",
       "\\item 'CT'\n",
       "\\item 'VT'\n",
       "\\item 'NJ'\n",
       "\\item 'WY'\n",
       "\\item 'WV'\n",
       "\\item 'SC'\n",
       "\\item 'IL'\n",
       "\\item 'OH'\n",
       "\\item 'NH'\n",
       "\\item 'TX'\n",
       "\\item 'CO'\n",
       "\\item 'IA'\n",
       "\\item 'MI'\n",
       "\\item 'DE'\n",
       "\\item 'ND'\n",
       "\\item 'AR'\n",
       "\\item 'HI'\n",
       "\\item 'IN'\n",
       "\\item 'MS'\n",
       "\\item 'MO'\n",
       "\\item 'NV'\n",
       "\\item 'NE'\n",
       "\\item 'CA'\n",
       "\\item 'KY'\n",
       "\\item 'TN'\n",
       "\\item 'FL'\n",
       "\\item 'WI'\n",
       "\\item 'MN'\n",
       "\\item 'NY'\n",
       "\\item 'UT'\n",
       "\\item 'OK'\n",
       "\\item 'PA'\n",
       "\\item 'AZ'\n",
       "\\item 'ME'\n",
       "\\item 'OR'\n",
       "\\item 'RI'\n",
       "\\item 'SD'\n",
       "\\item 'VA'\n",
       "\\item 'KS'\n",
       "\\item 'DC'\n",
       "\\item 'MT'\n",
       "\\item 'PR'\n",
       "\\end{enumerate*}\n"
      ],
      "text/markdown": [
       "1. 'NM'\n",
       "2. 'AK'\n",
       "3. 'NC'\n",
       "4. 'GA'\n",
       "5. 'MD'\n",
       "6. 'LA'\n",
       "7. 'AL'\n",
       "8. 'ID'\n",
       "9. 'MA'\n",
       "10. 'WA'\n",
       "11. 'CT'\n",
       "12. 'VT'\n",
       "13. 'NJ'\n",
       "14. 'WY'\n",
       "15. 'WV'\n",
       "16. 'SC'\n",
       "17. 'IL'\n",
       "18. 'OH'\n",
       "19. 'NH'\n",
       "20. 'TX'\n",
       "21. 'CO'\n",
       "22. 'IA'\n",
       "23. 'MI'\n",
       "24. 'DE'\n",
       "25. 'ND'\n",
       "26. 'AR'\n",
       "27. 'HI'\n",
       "28. 'IN'\n",
       "29. 'MS'\n",
       "30. 'MO'\n",
       "31. 'NV'\n",
       "32. 'NE'\n",
       "33. 'CA'\n",
       "34. 'KY'\n",
       "35. 'TN'\n",
       "36. 'FL'\n",
       "37. 'WI'\n",
       "38. 'MN'\n",
       "39. 'NY'\n",
       "40. 'UT'\n",
       "41. 'OK'\n",
       "42. 'PA'\n",
       "43. 'AZ'\n",
       "44. 'ME'\n",
       "45. 'OR'\n",
       "46. 'RI'\n",
       "47. 'SD'\n",
       "48. 'VA'\n",
       "49. 'KS'\n",
       "50. 'DC'\n",
       "51. 'MT'\n",
       "52. 'PR'\n",
       "\n",
       "\n"
      ],
      "text/plain": [
       " [1] \"NM\" \"AK\" \"NC\" \"GA\" \"MD\" \"LA\" \"AL\" \"ID\" \"MA\" \"WA\" \"CT\" \"VT\" \"NJ\" \"WY\" \"WV\"\n",
       "[16] \"SC\" \"IL\" \"OH\" \"NH\" \"TX\" \"CO\" \"IA\" \"MI\" \"DE\" \"ND\" \"AR\" \"HI\" \"IN\" \"MS\" \"MO\"\n",
       "[31] \"NV\" \"NE\" \"CA\" \"KY\" \"TN\" \"FL\" \"WI\" \"MN\" \"NY\" \"UT\" \"OK\" \"PA\" \"AZ\" \"ME\" \"OR\"\n",
       "[46] \"RI\" \"SD\" \"VA\" \"KS\" \"DC\" \"MT\" \"PR\""
      ]
     },
     "metadata": {},
     "output_type": "display_data"
    },
    {
     "data": {
      "text/html": [
       "52"
      ],
      "text/latex": [
       "52"
      ],
      "text/markdown": [
       "52"
      ],
      "text/plain": [
       "[1] 52"
      ]
     },
     "metadata": {},
     "output_type": "display_data"
    }
   ],
   "source": [
    "unique(total_tbl$state)\n",
    "length(unique(total_tbl$state))"
   ]
  },
  {
   "cell_type": "markdown",
   "metadata": {},
   "source": [
    "Meanwhile, we can also attach the Housing Price Index (HPI) values to each entry - this will supplement the income column by providing additional insight into the state of the regional economy:\n",
    "The MSA-level HPI from 1991 to 2021 is available here:\n",
    "\n",
    "`https://www.fhfa.gov/DataTools/Downloads/Pages/Public-Use-Databases.aspx`\n",
    "\n",
    "It will also be possible to go into even more detail by taking zip-code specific tax returns, but that is outside the scope of this analysis:\n",
    "\n",
    "`https://www.irs.gov/statistics/soi-tax-stats-individual-income-tax-statistics-zip-code-data-soi`\n"
   ]
  },
  {
   "cell_type": "markdown",
   "metadata": {},
   "source": [
    "### Attach HPI values to each entry using MSA code and year\n",
    "I'm going to use only the first month - we can also make this more finely detailed later by looking at the month of the call and the corresponding entry"
   ]
  },
  {
   "cell_type": "code",
   "execution_count": 12,
   "metadata": {},
   "outputs": [
    {
     "data": {
      "text/html": [
       "<table>\n",
       "<caption>A data.frame: 6 × 10</caption>\n",
       "<thead>\n",
       "\t<tr><th></th><th scope=col>hpi_type</th><th scope=col>hpi_flavor</th><th scope=col>frequency</th><th scope=col>level</th><th scope=col>place_name</th><th scope=col>place_id</th><th scope=col>yr</th><th scope=col>period</th><th scope=col>index_nsa</th><th scope=col>index_sa</th></tr>\n",
       "\t<tr><th></th><th scope=col>&lt;chr&gt;</th><th scope=col>&lt;chr&gt;</th><th scope=col>&lt;chr&gt;</th><th scope=col>&lt;chr&gt;</th><th scope=col>&lt;chr&gt;</th><th scope=col>&lt;chr&gt;</th><th scope=col>&lt;int&gt;</th><th scope=col>&lt;int&gt;</th><th scope=col>&lt;dbl&gt;</th><th scope=col>&lt;dbl&gt;</th></tr>\n",
       "</thead>\n",
       "<tbody>\n",
       "\t<tr><th scope=row>1</th><td>traditional</td><td>all-transactions</td><td>quarterly</td><td>MSA</td><td>Abilene, TX</td><td>10180</td><td>1986</td><td>2</td><td>108.26</td><td>NA</td></tr>\n",
       "\t<tr><th scope=row>2</th><td>traditional</td><td>all-transactions</td><td>quarterly</td><td>MSA</td><td>Abilene, TX</td><td>10180</td><td>1987</td><td>1</td><td>101.17</td><td>NA</td></tr>\n",
       "\t<tr><th scope=row>3</th><td>traditional</td><td>all-transactions</td><td>quarterly</td><td>MSA</td><td>Abilene, TX</td><td>10180</td><td>1988</td><td>1</td><td> 82.03</td><td>NA</td></tr>\n",
       "\t<tr><th scope=row>4</th><td>traditional</td><td>all-transactions</td><td>quarterly</td><td>MSA</td><td>Abilene, TX</td><td>10180</td><td>1989</td><td>1</td><td> 87.87</td><td>NA</td></tr>\n",
       "\t<tr><th scope=row>5</th><td>traditional</td><td>all-transactions</td><td>quarterly</td><td>MSA</td><td>Abilene, TX</td><td>10180</td><td>1990</td><td>1</td><td> 81.25</td><td>NA</td></tr>\n",
       "\t<tr><th scope=row>6</th><td>traditional</td><td>all-transactions</td><td>quarterly</td><td>MSA</td><td>Abilene, TX</td><td>10180</td><td>1991</td><td>1</td><td> 83.35</td><td>NA</td></tr>\n",
       "</tbody>\n",
       "</table>\n"
      ],
      "text/latex": [
       "A data.frame: 6 × 10\n",
       "\\begin{tabular}{r|llllllllll}\n",
       "  & hpi\\_type & hpi\\_flavor & frequency & level & place\\_name & place\\_id & yr & period & index\\_nsa & index\\_sa\\\\\n",
       "  & <chr> & <chr> & <chr> & <chr> & <chr> & <chr> & <int> & <int> & <dbl> & <dbl>\\\\\n",
       "\\hline\n",
       "\t1 & traditional & all-transactions & quarterly & MSA & Abilene, TX & 10180 & 1986 & 2 & 108.26 & NA\\\\\n",
       "\t2 & traditional & all-transactions & quarterly & MSA & Abilene, TX & 10180 & 1987 & 1 & 101.17 & NA\\\\\n",
       "\t3 & traditional & all-transactions & quarterly & MSA & Abilene, TX & 10180 & 1988 & 1 &  82.03 & NA\\\\\n",
       "\t4 & traditional & all-transactions & quarterly & MSA & Abilene, TX & 10180 & 1989 & 1 &  87.87 & NA\\\\\n",
       "\t5 & traditional & all-transactions & quarterly & MSA & Abilene, TX & 10180 & 1990 & 1 &  81.25 & NA\\\\\n",
       "\t6 & traditional & all-transactions & quarterly & MSA & Abilene, TX & 10180 & 1991 & 1 &  83.35 & NA\\\\\n",
       "\\end{tabular}\n"
      ],
      "text/markdown": [
       "\n",
       "A data.frame: 6 × 10\n",
       "\n",
       "| <!--/--> | hpi_type &lt;chr&gt; | hpi_flavor &lt;chr&gt; | frequency &lt;chr&gt; | level &lt;chr&gt; | place_name &lt;chr&gt; | place_id &lt;chr&gt; | yr &lt;int&gt; | period &lt;int&gt; | index_nsa &lt;dbl&gt; | index_sa &lt;dbl&gt; |\n",
       "|---|---|---|---|---|---|---|---|---|---|---|\n",
       "| 1 | traditional | all-transactions | quarterly | MSA | Abilene, TX | 10180 | 1986 | 2 | 108.26 | NA |\n",
       "| 2 | traditional | all-transactions | quarterly | MSA | Abilene, TX | 10180 | 1987 | 1 | 101.17 | NA |\n",
       "| 3 | traditional | all-transactions | quarterly | MSA | Abilene, TX | 10180 | 1988 | 1 |  82.03 | NA |\n",
       "| 4 | traditional | all-transactions | quarterly | MSA | Abilene, TX | 10180 | 1989 | 1 |  87.87 | NA |\n",
       "| 5 | traditional | all-transactions | quarterly | MSA | Abilene, TX | 10180 | 1990 | 1 |  81.25 | NA |\n",
       "| 6 | traditional | all-transactions | quarterly | MSA | Abilene, TX | 10180 | 1991 | 1 |  83.35 | NA |\n",
       "\n"
      ],
      "text/plain": [
       "  hpi_type    hpi_flavor       frequency level place_name  place_id yr   period\n",
       "1 traditional all-transactions quarterly MSA   Abilene, TX 10180    1986 2     \n",
       "2 traditional all-transactions quarterly MSA   Abilene, TX 10180    1987 1     \n",
       "3 traditional all-transactions quarterly MSA   Abilene, TX 10180    1988 1     \n",
       "4 traditional all-transactions quarterly MSA   Abilene, TX 10180    1989 1     \n",
       "5 traditional all-transactions quarterly MSA   Abilene, TX 10180    1990 1     \n",
       "6 traditional all-transactions quarterly MSA   Abilene, TX 10180    1991 1     \n",
       "  index_nsa index_sa\n",
       "1 108.26    NA      \n",
       "2 101.17    NA      \n",
       "3  82.03    NA      \n",
       "4  87.87    NA      \n",
       "5  81.25    NA      \n",
       "6  83.35    NA      "
      ]
     },
     "metadata": {},
     "output_type": "display_data"
    }
   ],
   "source": [
    "hpi_tbl = read.csv('../../Data/HPI_master.csv', stringsAsFactors = F)\n",
    "hpi_sub_tbl = hpi_tbl %>% filter(level == 'MSA') %>% distinct(place_id, yr, .keep_all = T)\n",
    "head(hpi_sub_tbl)"
   ]
  },
  {
   "cell_type": "code",
   "execution_count": 13,
   "metadata": {},
   "outputs": [
    {
     "data": {
      "text/html": [
       "<table>\n",
       "<caption>A data.frame: 6 × 10</caption>\n",
       "<thead>\n",
       "\t<tr><th></th><th scope=col>hpi_type</th><th scope=col>hpi_flavor</th><th scope=col>frequency</th><th scope=col>level</th><th scope=col>place_name</th><th scope=col>place_id</th><th scope=col>yr</th><th scope=col>period</th><th scope=col>index_nsa</th><th scope=col>index_sa</th></tr>\n",
       "\t<tr><th></th><th scope=col>&lt;chr&gt;</th><th scope=col>&lt;chr&gt;</th><th scope=col>&lt;chr&gt;</th><th scope=col>&lt;chr&gt;</th><th scope=col>&lt;chr&gt;</th><th scope=col>&lt;chr&gt;</th><th scope=col>&lt;int&gt;</th><th scope=col>&lt;int&gt;</th><th scope=col>&lt;dbl&gt;</th><th scope=col>&lt;dbl&gt;</th></tr>\n",
       "</thead>\n",
       "<tbody>\n",
       "\t<tr><th scope=row>1</th><td>traditional</td><td>all-transactions</td><td>quarterly</td><td>MSA</td><td>Wenatchee, WA</td><td>48300</td><td>1978</td><td>3</td><td>42.53</td><td>NA</td></tr>\n",
       "\t<tr><th scope=row>2</th><td>traditional</td><td>all-transactions</td><td>quarterly</td><td>MSA</td><td>Wenatchee, WA</td><td>48300</td><td>1979</td><td>1</td><td>44.45</td><td>NA</td></tr>\n",
       "\t<tr><th scope=row>3</th><td>traditional</td><td>all-transactions</td><td>quarterly</td><td>MSA</td><td>Wenatchee, WA</td><td>48300</td><td>1980</td><td>1</td><td>45.67</td><td>NA</td></tr>\n",
       "\t<tr><th scope=row>4</th><td>traditional</td><td>all-transactions</td><td>quarterly</td><td>MSA</td><td>Wenatchee, WA</td><td>48300</td><td>1981</td><td>2</td><td>53.56</td><td>NA</td></tr>\n",
       "\t<tr><th scope=row>5</th><td>traditional</td><td>all-transactions</td><td>quarterly</td><td>MSA</td><td>Wenatchee, WA</td><td>48300</td><td>1982</td><td>1</td><td>25.17</td><td>NA</td></tr>\n",
       "\t<tr><th scope=row>6</th><td>traditional</td><td>all-transactions</td><td>quarterly</td><td>MSA</td><td>Wenatchee, WA</td><td>48300</td><td>1983</td><td>1</td><td>48.84</td><td>NA</td></tr>\n",
       "</tbody>\n",
       "</table>\n"
      ],
      "text/latex": [
       "A data.frame: 6 × 10\n",
       "\\begin{tabular}{r|llllllllll}\n",
       "  & hpi\\_type & hpi\\_flavor & frequency & level & place\\_name & place\\_id & yr & period & index\\_nsa & index\\_sa\\\\\n",
       "  & <chr> & <chr> & <chr> & <chr> & <chr> & <chr> & <int> & <int> & <dbl> & <dbl>\\\\\n",
       "\\hline\n",
       "\t1 & traditional & all-transactions & quarterly & MSA & Wenatchee, WA & 48300 & 1978 & 3 & 42.53 & NA\\\\\n",
       "\t2 & traditional & all-transactions & quarterly & MSA & Wenatchee, WA & 48300 & 1979 & 1 & 44.45 & NA\\\\\n",
       "\t3 & traditional & all-transactions & quarterly & MSA & Wenatchee, WA & 48300 & 1980 & 1 & 45.67 & NA\\\\\n",
       "\t4 & traditional & all-transactions & quarterly & MSA & Wenatchee, WA & 48300 & 1981 & 2 & 53.56 & NA\\\\\n",
       "\t5 & traditional & all-transactions & quarterly & MSA & Wenatchee, WA & 48300 & 1982 & 1 & 25.17 & NA\\\\\n",
       "\t6 & traditional & all-transactions & quarterly & MSA & Wenatchee, WA & 48300 & 1983 & 1 & 48.84 & NA\\\\\n",
       "\\end{tabular}\n"
      ],
      "text/markdown": [
       "\n",
       "A data.frame: 6 × 10\n",
       "\n",
       "| <!--/--> | hpi_type &lt;chr&gt; | hpi_flavor &lt;chr&gt; | frequency &lt;chr&gt; | level &lt;chr&gt; | place_name &lt;chr&gt; | place_id &lt;chr&gt; | yr &lt;int&gt; | period &lt;int&gt; | index_nsa &lt;dbl&gt; | index_sa &lt;dbl&gt; |\n",
       "|---|---|---|---|---|---|---|---|---|---|---|\n",
       "| 1 | traditional | all-transactions | quarterly | MSA | Wenatchee, WA | 48300 | 1978 | 3 | 42.53 | NA |\n",
       "| 2 | traditional | all-transactions | quarterly | MSA | Wenatchee, WA | 48300 | 1979 | 1 | 44.45 | NA |\n",
       "| 3 | traditional | all-transactions | quarterly | MSA | Wenatchee, WA | 48300 | 1980 | 1 | 45.67 | NA |\n",
       "| 4 | traditional | all-transactions | quarterly | MSA | Wenatchee, WA | 48300 | 1981 | 2 | 53.56 | NA |\n",
       "| 5 | traditional | all-transactions | quarterly | MSA | Wenatchee, WA | 48300 | 1982 | 1 | 25.17 | NA |\n",
       "| 6 | traditional | all-transactions | quarterly | MSA | Wenatchee, WA | 48300 | 1983 | 1 | 48.84 | NA |\n",
       "\n"
      ],
      "text/plain": [
       "  hpi_type    hpi_flavor       frequency level place_name    place_id yr  \n",
       "1 traditional all-transactions quarterly MSA   Wenatchee, WA 48300    1978\n",
       "2 traditional all-transactions quarterly MSA   Wenatchee, WA 48300    1979\n",
       "3 traditional all-transactions quarterly MSA   Wenatchee, WA 48300    1980\n",
       "4 traditional all-transactions quarterly MSA   Wenatchee, WA 48300    1981\n",
       "5 traditional all-transactions quarterly MSA   Wenatchee, WA 48300    1982\n",
       "6 traditional all-transactions quarterly MSA   Wenatchee, WA 48300    1983\n",
       "  period index_nsa index_sa\n",
       "1 3      42.53     NA      \n",
       "2 1      44.45     NA      \n",
       "3 1      45.67     NA      \n",
       "4 2      53.56     NA      \n",
       "5 1      25.17     NA      \n",
       "6 1      48.84     NA      "
      ]
     },
     "metadata": {},
     "output_type": "display_data"
    },
    {
     "data": {
      "text/html": [
       "<table>\n",
       "<caption>A data.frame: 6 × 12</caption>\n",
       "<thead>\n",
       "\t<tr><th></th><th scope=col>mmsa</th><th scope=col>mmsa_name</th><th scope=col>age</th><th scope=col>income</th><th scope=col>exercise</th><th scope=col>flushot</th><th scope=col>binging</th><th scope=col>heavy_drink</th><th scope=col>smoker</th><th scope=col>smoking_now</th><th scope=col>year</th><th scope=col>state</th></tr>\n",
       "\t<tr><th></th><th scope=col>&lt;dbl&gt;</th><th scope=col>&lt;chr&gt;</th><th scope=col>&lt;dbl&gt;</th><th scope=col>&lt;dbl&gt;</th><th scope=col>&lt;dbl&gt;</th><th scope=col>&lt;dbl&gt;</th><th scope=col>&lt;dbl&gt;</th><th scope=col>&lt;dbl&gt;</th><th scope=col>&lt;dbl&gt;</th><th scope=col>&lt;dbl&gt;</th><th scope=col>&lt;dbl&gt;</th><th scope=col>&lt;chr&gt;</th></tr>\n",
       "</thead>\n",
       "<tbody>\n",
       "\t<tr><th scope=row>2003.124972</th><td>48300</td><td>Wenatchee, WA</td><td>1</td><td>9</td><td>1</td><td>NA</td><td>2</td><td>1</td><td>4</td><td>1</td><td>2003</td><td>WA</td></tr>\n",
       "\t<tr><th scope=row>2003.124973</th><td>48300</td><td>Wenatchee, WA</td><td>1</td><td>5</td><td>2</td><td>NA</td><td>1</td><td>1</td><td>4</td><td>1</td><td>2003</td><td>WA</td></tr>\n",
       "\t<tr><th scope=row>2003.124974</th><td>48300</td><td>Wenatchee, WA</td><td>1</td><td>1</td><td>1</td><td>NA</td><td>1</td><td>1</td><td>1</td><td>2</td><td>2003</td><td>WA</td></tr>\n",
       "\t<tr><th scope=row>2003.124975</th><td>48300</td><td>Wenatchee, WA</td><td>1</td><td>3</td><td>1</td><td>NA</td><td>2</td><td>2</td><td>1</td><td>2</td><td>2003</td><td>WA</td></tr>\n",
       "\t<tr><th scope=row>2003.124976</th><td>48300</td><td>Wenatchee, WA</td><td>1</td><td>1</td><td>1</td><td>NA</td><td>2</td><td>1</td><td>1</td><td>2</td><td>2003</td><td>WA</td></tr>\n",
       "\t<tr><th scope=row>2003.124977</th><td>48300</td><td>Wenatchee, WA</td><td>1</td><td>9</td><td>2</td><td>NA</td><td>1</td><td>1</td><td>4</td><td>1</td><td>2003</td><td>WA</td></tr>\n",
       "</tbody>\n",
       "</table>\n"
      ],
      "text/latex": [
       "A data.frame: 6 × 12\n",
       "\\begin{tabular}{r|llllllllllll}\n",
       "  & mmsa & mmsa\\_name & age & income & exercise & flushot & binging & heavy\\_drink & smoker & smoking\\_now & year & state\\\\\n",
       "  & <dbl> & <chr> & <dbl> & <dbl> & <dbl> & <dbl> & <dbl> & <dbl> & <dbl> & <dbl> & <dbl> & <chr>\\\\\n",
       "\\hline\n",
       "\t2003.124972 & 48300 & Wenatchee, WA & 1 & 9 & 1 & NA & 2 & 1 & 4 & 1 & 2003 & WA\\\\\n",
       "\t2003.124973 & 48300 & Wenatchee, WA & 1 & 5 & 2 & NA & 1 & 1 & 4 & 1 & 2003 & WA\\\\\n",
       "\t2003.124974 & 48300 & Wenatchee, WA & 1 & 1 & 1 & NA & 1 & 1 & 1 & 2 & 2003 & WA\\\\\n",
       "\t2003.124975 & 48300 & Wenatchee, WA & 1 & 3 & 1 & NA & 2 & 2 & 1 & 2 & 2003 & WA\\\\\n",
       "\t2003.124976 & 48300 & Wenatchee, WA & 1 & 1 & 1 & NA & 2 & 1 & 1 & 2 & 2003 & WA\\\\\n",
       "\t2003.124977 & 48300 & Wenatchee, WA & 1 & 9 & 2 & NA & 1 & 1 & 4 & 1 & 2003 & WA\\\\\n",
       "\\end{tabular}\n"
      ],
      "text/markdown": [
       "\n",
       "A data.frame: 6 × 12\n",
       "\n",
       "| <!--/--> | mmsa &lt;dbl&gt; | mmsa_name &lt;chr&gt; | age &lt;dbl&gt; | income &lt;dbl&gt; | exercise &lt;dbl&gt; | flushot &lt;dbl&gt; | binging &lt;dbl&gt; | heavy_drink &lt;dbl&gt; | smoker &lt;dbl&gt; | smoking_now &lt;dbl&gt; | year &lt;dbl&gt; | state &lt;chr&gt; |\n",
       "|---|---|---|---|---|---|---|---|---|---|---|---|---|\n",
       "| 2003.124972 | 48300 | Wenatchee, WA | 1 | 9 | 1 | NA | 2 | 1 | 4 | 1 | 2003 | WA |\n",
       "| 2003.124973 | 48300 | Wenatchee, WA | 1 | 5 | 2 | NA | 1 | 1 | 4 | 1 | 2003 | WA |\n",
       "| 2003.124974 | 48300 | Wenatchee, WA | 1 | 1 | 1 | NA | 1 | 1 | 1 | 2 | 2003 | WA |\n",
       "| 2003.124975 | 48300 | Wenatchee, WA | 1 | 3 | 1 | NA | 2 | 2 | 1 | 2 | 2003 | WA |\n",
       "| 2003.124976 | 48300 | Wenatchee, WA | 1 | 1 | 1 | NA | 2 | 1 | 1 | 2 | 2003 | WA |\n",
       "| 2003.124977 | 48300 | Wenatchee, WA | 1 | 9 | 2 | NA | 1 | 1 | 4 | 1 | 2003 | WA |\n",
       "\n"
      ],
      "text/plain": [
       "            mmsa  mmsa_name     age income exercise flushot binging heavy_drink\n",
       "2003.124972 48300 Wenatchee, WA 1   9      1        NA      2       1          \n",
       "2003.124973 48300 Wenatchee, WA 1   5      2        NA      1       1          \n",
       "2003.124974 48300 Wenatchee, WA 1   1      1        NA      1       1          \n",
       "2003.124975 48300 Wenatchee, WA 1   3      1        NA      2       2          \n",
       "2003.124976 48300 Wenatchee, WA 1   1      1        NA      2       1          \n",
       "2003.124977 48300 Wenatchee, WA 1   9      2        NA      1       1          \n",
       "            smoker smoking_now year state\n",
       "2003.124972 4      1           2003 WA   \n",
       "2003.124973 4      1           2003 WA   \n",
       "2003.124974 1      2           2003 WA   \n",
       "2003.124975 1      2           2003 WA   \n",
       "2003.124976 1      2           2003 WA   \n",
       "2003.124977 4      1           2003 WA   "
      ]
     },
     "metadata": {},
     "output_type": "display_data"
    }
   ],
   "source": [
    "id = 48300\n",
    "head(hpi_sub_tbl %>% filter(place_id == id))\n",
    "head(total_tbl %>% filter(mmsa == id))"
   ]
  },
  {
   "cell_type": "code",
   "execution_count": 14,
   "metadata": {},
   "outputs": [
    {
     "data": {
      "text/html": [
       "<table>\n",
       "<caption>A data.frame: 6 × 3</caption>\n",
       "<thead>\n",
       "\t<tr><th></th><th scope=col>mmsa</th><th scope=col>year</th><th scope=col>hpi</th></tr>\n",
       "\t<tr><th></th><th scope=col>&lt;dbl&gt;</th><th scope=col>&lt;int&gt;</th><th scope=col>&lt;dbl&gt;</th></tr>\n",
       "</thead>\n",
       "<tbody>\n",
       "\t<tr><th scope=row>1</th><td>10180</td><td>1986</td><td>108.26</td></tr>\n",
       "\t<tr><th scope=row>2</th><td>10180</td><td>1987</td><td>101.17</td></tr>\n",
       "\t<tr><th scope=row>3</th><td>10180</td><td>1988</td><td> 82.03</td></tr>\n",
       "\t<tr><th scope=row>4</th><td>10180</td><td>1989</td><td> 87.87</td></tr>\n",
       "\t<tr><th scope=row>5</th><td>10180</td><td>1990</td><td> 81.25</td></tr>\n",
       "\t<tr><th scope=row>6</th><td>10180</td><td>1991</td><td> 83.35</td></tr>\n",
       "</tbody>\n",
       "</table>\n"
      ],
      "text/latex": [
       "A data.frame: 6 × 3\n",
       "\\begin{tabular}{r|lll}\n",
       "  & mmsa & year & hpi\\\\\n",
       "  & <dbl> & <int> & <dbl>\\\\\n",
       "\\hline\n",
       "\t1 & 10180 & 1986 & 108.26\\\\\n",
       "\t2 & 10180 & 1987 & 101.17\\\\\n",
       "\t3 & 10180 & 1988 &  82.03\\\\\n",
       "\t4 & 10180 & 1989 &  87.87\\\\\n",
       "\t5 & 10180 & 1990 &  81.25\\\\\n",
       "\t6 & 10180 & 1991 &  83.35\\\\\n",
       "\\end{tabular}\n"
      ],
      "text/markdown": [
       "\n",
       "A data.frame: 6 × 3\n",
       "\n",
       "| <!--/--> | mmsa &lt;dbl&gt; | year &lt;int&gt; | hpi &lt;dbl&gt; |\n",
       "|---|---|---|---|\n",
       "| 1 | 10180 | 1986 | 108.26 |\n",
       "| 2 | 10180 | 1987 | 101.17 |\n",
       "| 3 | 10180 | 1988 |  82.03 |\n",
       "| 4 | 10180 | 1989 |  87.87 |\n",
       "| 5 | 10180 | 1990 |  81.25 |\n",
       "| 6 | 10180 | 1991 |  83.35 |\n",
       "\n"
      ],
      "text/plain": [
       "  mmsa  year hpi   \n",
       "1 10180 1986 108.26\n",
       "2 10180 1987 101.17\n",
       "3 10180 1988  82.03\n",
       "4 10180 1989  87.87\n",
       "5 10180 1990  81.25\n",
       "6 10180 1991  83.35"
      ]
     },
     "metadata": {},
     "output_type": "display_data"
    }
   ],
   "source": [
    "# Let's do a left_join() with index_nsa:\n",
    "hpi_join_tbl = hpi_sub_tbl %>% select(c('place_id', 'yr', 'index_nsa')) %>% rename(\n",
    "    mmsa = place_id, year = yr, hpi = index_nsa)\n",
    "hpi_join_tbl$mmsa = as.numeric(hpi_join_tbl$mmsa)\n",
    "head(hpi_join_tbl)\n",
    "total_tbl_hpi = total_tbl %>% left_join(hpi_join_tbl, by = c('mmsa', 'year'))"
   ]
  },
  {
   "cell_type": "code",
   "execution_count": 16,
   "metadata": {},
   "outputs": [
    {
     "data": {
      "text/html": [
       "<table>\n",
       "<caption>A data.frame: 6 × 13</caption>\n",
       "<thead>\n",
       "\t<tr><th></th><th scope=col>mmsa</th><th scope=col>mmsa_name</th><th scope=col>age</th><th scope=col>income</th><th scope=col>exercise</th><th scope=col>flushot</th><th scope=col>binging</th><th scope=col>heavy_drink</th><th scope=col>smoker</th><th scope=col>smoking_now</th><th scope=col>year</th><th scope=col>state</th><th scope=col>hpi</th></tr>\n",
       "\t<tr><th></th><th scope=col>&lt;dbl&gt;</th><th scope=col>&lt;chr&gt;</th><th scope=col>&lt;dbl&gt;</th><th scope=col>&lt;dbl&gt;</th><th scope=col>&lt;dbl&gt;</th><th scope=col>&lt;dbl&gt;</th><th scope=col>&lt;dbl&gt;</th><th scope=col>&lt;dbl&gt;</th><th scope=col>&lt;dbl&gt;</th><th scope=col>&lt;dbl&gt;</th><th scope=col>&lt;dbl&gt;</th><th scope=col>&lt;chr&gt;</th><th scope=col>&lt;dbl&gt;</th></tr>\n",
       "</thead>\n",
       "<tbody>\n",
       "\t<tr><th scope=row>1</th><td>10740</td><td>Albuquerque, NM</td><td>1</td><td>3</td><td>1</td><td>NA</td><td>2</td><td>1</td><td>1</td><td>2</td><td>2003</td><td>NM</td><td>120.21</td></tr>\n",
       "\t<tr><th scope=row>2</th><td>10740</td><td>Albuquerque, NM</td><td>1</td><td>2</td><td>1</td><td>NA</td><td>2</td><td>1</td><td>3</td><td>1</td><td>2003</td><td>NM</td><td>120.21</td></tr>\n",
       "\t<tr><th scope=row>3</th><td>10740</td><td>Albuquerque, NM</td><td>1</td><td>4</td><td>1</td><td>NA</td><td>2</td><td>1</td><td>2</td><td>2</td><td>2003</td><td>NM</td><td>120.21</td></tr>\n",
       "\t<tr><th scope=row>4</th><td>10740</td><td>Albuquerque, NM</td><td>1</td><td>5</td><td>1</td><td>NA</td><td>1</td><td>1</td><td>1</td><td>2</td><td>2003</td><td>NM</td><td>120.21</td></tr>\n",
       "\t<tr><th scope=row>5</th><td>10740</td><td>Albuquerque, NM</td><td>1</td><td>3</td><td>1</td><td>NA</td><td>1</td><td>1</td><td>4</td><td>1</td><td>2003</td><td>NM</td><td>120.21</td></tr>\n",
       "\t<tr><th scope=row>6</th><td>10740</td><td>Albuquerque, NM</td><td>1</td><td>2</td><td>1</td><td>NA</td><td>1</td><td>1</td><td>4</td><td>1</td><td>2003</td><td>NM</td><td>120.21</td></tr>\n",
       "</tbody>\n",
       "</table>\n"
      ],
      "text/latex": [
       "A data.frame: 6 × 13\n",
       "\\begin{tabular}{r|lllllllllllll}\n",
       "  & mmsa & mmsa\\_name & age & income & exercise & flushot & binging & heavy\\_drink & smoker & smoking\\_now & year & state & hpi\\\\\n",
       "  & <dbl> & <chr> & <dbl> & <dbl> & <dbl> & <dbl> & <dbl> & <dbl> & <dbl> & <dbl> & <dbl> & <chr> & <dbl>\\\\\n",
       "\\hline\n",
       "\t1 & 10740 & Albuquerque, NM & 1 & 3 & 1 & NA & 2 & 1 & 1 & 2 & 2003 & NM & 120.21\\\\\n",
       "\t2 & 10740 & Albuquerque, NM & 1 & 2 & 1 & NA & 2 & 1 & 3 & 1 & 2003 & NM & 120.21\\\\\n",
       "\t3 & 10740 & Albuquerque, NM & 1 & 4 & 1 & NA & 2 & 1 & 2 & 2 & 2003 & NM & 120.21\\\\\n",
       "\t4 & 10740 & Albuquerque, NM & 1 & 5 & 1 & NA & 1 & 1 & 1 & 2 & 2003 & NM & 120.21\\\\\n",
       "\t5 & 10740 & Albuquerque, NM & 1 & 3 & 1 & NA & 1 & 1 & 4 & 1 & 2003 & NM & 120.21\\\\\n",
       "\t6 & 10740 & Albuquerque, NM & 1 & 2 & 1 & NA & 1 & 1 & 4 & 1 & 2003 & NM & 120.21\\\\\n",
       "\\end{tabular}\n"
      ],
      "text/markdown": [
       "\n",
       "A data.frame: 6 × 13\n",
       "\n",
       "| <!--/--> | mmsa &lt;dbl&gt; | mmsa_name &lt;chr&gt; | age &lt;dbl&gt; | income &lt;dbl&gt; | exercise &lt;dbl&gt; | flushot &lt;dbl&gt; | binging &lt;dbl&gt; | heavy_drink &lt;dbl&gt; | smoker &lt;dbl&gt; | smoking_now &lt;dbl&gt; | year &lt;dbl&gt; | state &lt;chr&gt; | hpi &lt;dbl&gt; |\n",
       "|---|---|---|---|---|---|---|---|---|---|---|---|---|---|\n",
       "| 1 | 10740 | Albuquerque, NM | 1 | 3 | 1 | NA | 2 | 1 | 1 | 2 | 2003 | NM | 120.21 |\n",
       "| 2 | 10740 | Albuquerque, NM | 1 | 2 | 1 | NA | 2 | 1 | 3 | 1 | 2003 | NM | 120.21 |\n",
       "| 3 | 10740 | Albuquerque, NM | 1 | 4 | 1 | NA | 2 | 1 | 2 | 2 | 2003 | NM | 120.21 |\n",
       "| 4 | 10740 | Albuquerque, NM | 1 | 5 | 1 | NA | 1 | 1 | 1 | 2 | 2003 | NM | 120.21 |\n",
       "| 5 | 10740 | Albuquerque, NM | 1 | 3 | 1 | NA | 1 | 1 | 4 | 1 | 2003 | NM | 120.21 |\n",
       "| 6 | 10740 | Albuquerque, NM | 1 | 2 | 1 | NA | 1 | 1 | 4 | 1 | 2003 | NM | 120.21 |\n",
       "\n"
      ],
      "text/plain": [
       "  mmsa  mmsa_name       age income exercise flushot binging heavy_drink smoker\n",
       "1 10740 Albuquerque, NM 1   3      1        NA      2       1           1     \n",
       "2 10740 Albuquerque, NM 1   2      1        NA      2       1           3     \n",
       "3 10740 Albuquerque, NM 1   4      1        NA      2       1           2     \n",
       "4 10740 Albuquerque, NM 1   5      1        NA      1       1           1     \n",
       "5 10740 Albuquerque, NM 1   3      1        NA      1       1           4     \n",
       "6 10740 Albuquerque, NM 1   2      1        NA      1       1           4     \n",
       "  smoking_now year state hpi   \n",
       "1 2           2003 NM    120.21\n",
       "2 1           2003 NM    120.21\n",
       "3 2           2003 NM    120.21\n",
       "4 2           2003 NM    120.21\n",
       "5 1           2003 NM    120.21\n",
       "6 1           2003 NM    120.21"
      ]
     },
     "metadata": {},
     "output_type": "display_data"
    }
   ],
   "source": [
    "head(total_tbl_hpi)\n",
    "\n"
   ]
  },
  {
   "cell_type": "code",
   "execution_count": 15,
   "metadata": {},
   "outputs": [
    {
     "data": {
      "text/html": [
       "302957"
      ],
      "text/latex": [
       "302957"
      ],
      "text/markdown": [
       "302957"
      ],
      "text/plain": [
       "[1] 302957"
      ]
     },
     "metadata": {},
     "output_type": "display_data"
    }
   ],
   "source": [
    "# some entries are missing hpi, but that is okay - we'll save the table\n",
    "sum(is.na(total_tbl_hpi$hpi))\n",
    "\n",
    "write.table((total_tbl_hpi %>% select(-c('mmsa_name'))), \n",
    "    file = '../../Table/BRFSS/BRFSS_cleaned_master.tsv', quote = F, row.names = F, sep = '\\t')"
   ]
  },
  {
   "cell_type": "code",
   "execution_count": 22,
   "metadata": {},
   "outputs": [],
   "source": [
    "# I'm also going to save the MSA names into a separate file, since it's a bit clunky:\n",
    "mmsa_tbl = total_tbl_hpi %>% distinct(mmsa, .keep_all = T) %>% \n",
    "    select(c('mmsa', 'state', 'mmsa_name')) %>% arrange(state, mmsa_name)\n",
    "write.table(mmsa_tbl, file = '../../Table/US_MMSA.tsv', quote = F, row.names = F, sep = '\\t')"
   ]
  },
  {
   "cell_type": "markdown",
   "metadata": {},
   "source": [
    "# 3. Clean up MSU state policy dataset and select exploratory variables\n",
    "\n",
    "MSU has a dataset on correlates of state policy (CSPP)\n",
    "Downloaded from: `http://ippsr.msu.edu/public-policy/correlates-state-policy`\n",
    "\n",
    "There are two data files - the full csv dataset and the policy metadata file:"
   ]
  },
  {
   "cell_type": "code",
   "execution_count": 24,
   "metadata": {},
   "outputs": [
    {
     "data": {
      "text/html": [
       "<style>\n",
       ".list-inline {list-style: none; margin:0; padding: 0}\n",
       ".list-inline>li {display: inline-block}\n",
       ".list-inline>li:not(:last-child)::after {content: \"\\00b7\"; padding: 0 .5ex}\n",
       "</style>\n",
       "<ol class=list-inline><li>6281</li><li>2142</li></ol>\n"
      ],
      "text/latex": [
       "\\begin{enumerate*}\n",
       "\\item 6281\n",
       "\\item 2142\n",
       "\\end{enumerate*}\n"
      ],
      "text/markdown": [
       "1. 6281\n",
       "2. 2142\n",
       "\n",
       "\n"
      ],
      "text/plain": [
       "[1] 6281 2142"
      ]
     },
     "metadata": {},
     "output_type": "display_data"
    },
    {
     "data": {
      "text/html": [
       "45"
      ],
      "text/latex": [
       "45"
      ],
      "text/markdown": [
       "45"
      ],
      "text/plain": [
       "[1] 45"
      ]
     },
     "metadata": {},
     "output_type": "display_data"
    },
    {
     "data": {
      "text/html": [
       "93"
      ],
      "text/latex": [
       "93"
      ],
      "text/markdown": [
       "93"
      ],
      "text/plain": [
       "[1] 93"
      ]
     },
     "metadata": {},
     "output_type": "display_data"
    },
    {
     "data": {
      "text/html": [
       "220"
      ],
      "text/latex": [
       "220"
      ],
      "text/markdown": [
       "220"
      ],
      "text/plain": [
       "[1] 220"
      ]
     },
     "metadata": {},
     "output_type": "display_data"
    },
    {
     "data": {
      "text/html": [
       "24"
      ],
      "text/latex": [
       "24"
      ],
      "text/markdown": [
       "24"
      ],
      "text/plain": [
       "[1] 24"
      ]
     },
     "metadata": {},
     "output_type": "display_data"
    },
    {
     "data": {
      "text/html": [
       "122"
      ],
      "text/latex": [
       "122"
      ],
      "text/markdown": [
       "122"
      ],
      "text/plain": [
       "[1] 122"
      ]
     },
     "metadata": {},
     "output_type": "display_data"
    }
   ],
   "source": [
    "# main file\n",
    "msu_tbl = read.csv('../../Data/MSU_CSPP/cspp_june_2021.csv', header = T, stringsAsFactors = F)\n",
    "dim(msu_tbl)\n",
    "\n",
    "# metadata file\n",
    "codebook = read.csv('../../Data/MSU_CSPP/codebook.csv', header = T, stringsAsFactors = F) %>% drop_na(category)\n",
    "sum(codebook$category == 'demographics')\n",
    "sum(codebook$category == 'education')\n",
    "sum(codebook$category == 'healthcare')\n",
    "sum(codebook$category == 'welfare')\n",
    "sum(codebook$category == 'drug-alcohol')"
   ]
  },
  {
   "cell_type": "code",
   "execution_count": 25,
   "metadata": {},
   "outputs": [
    {
     "data": {
      "text/html": [
       "<style>\n",
       ".list-inline {list-style: none; margin:0; padding: 0}\n",
       ".list-inline>li {display: inline-block}\n",
       ".list-inline>li:not(:last-child)::after {content: \"\\00b7\"; padding: 0 .5ex}\n",
       "</style>\n",
       "<ol class=list-inline><li>'demographics'</li><li>'economic-fiscal'</li><li>'environment'</li><li>'government'</li><li>'elections'</li><li>'policy-ideology'</li><li>'criminal justice'</li><li>'education'</li><li>'healthcare'</li><li>'welfare'</li><li>'rights'</li><li>'drug-alcohol'</li><li>'gun control'</li><li>'labor'</li><li>'transportation'</li><li>'misc. regulation'</li></ol>\n"
      ],
      "text/latex": [
       "\\begin{enumerate*}\n",
       "\\item 'demographics'\n",
       "\\item 'economic-fiscal'\n",
       "\\item 'environment'\n",
       "\\item 'government'\n",
       "\\item 'elections'\n",
       "\\item 'policy-ideology'\n",
       "\\item 'criminal justice'\n",
       "\\item 'education'\n",
       "\\item 'healthcare'\n",
       "\\item 'welfare'\n",
       "\\item 'rights'\n",
       "\\item 'drug-alcohol'\n",
       "\\item 'gun control'\n",
       "\\item 'labor'\n",
       "\\item 'transportation'\n",
       "\\item 'misc. regulation'\n",
       "\\end{enumerate*}\n"
      ],
      "text/markdown": [
       "1. 'demographics'\n",
       "2. 'economic-fiscal'\n",
       "3. 'environment'\n",
       "4. 'government'\n",
       "5. 'elections'\n",
       "6. 'policy-ideology'\n",
       "7. 'criminal justice'\n",
       "8. 'education'\n",
       "9. 'healthcare'\n",
       "10. 'welfare'\n",
       "11. 'rights'\n",
       "12. 'drug-alcohol'\n",
       "13. 'gun control'\n",
       "14. 'labor'\n",
       "15. 'transportation'\n",
       "16. 'misc. regulation'\n",
       "\n",
       "\n"
      ],
      "text/plain": [
       " [1] \"demographics\"     \"economic-fiscal\"  \"environment\"      \"government\"      \n",
       " [5] \"elections\"        \"policy-ideology\"  \"criminal justice\" \"education\"       \n",
       " [9] \"healthcare\"       \"welfare\"          \"rights\"           \"drug-alcohol\"    \n",
       "[13] \"gun control\"      \"labor\"            \"transportation\"   \"misc. regulation\""
      ]
     },
     "metadata": {},
     "output_type": "display_data"
    }
   ],
   "source": [
    "unique(codebook$category)"
   ]
  },
  {
   "cell_type": "code",
   "execution_count": 26,
   "metadata": {},
   "outputs": [],
   "source": [
    "# This is a pretty extensive dataset with > 2000 correlates. Let's narrow it down a bit\n",
    "# First, we're only doing correlation, so all years before 2003 are not used:\n",
    "cleaned_tbl = msu_tbl %>% filter(year >= 2003) %>% distinct(year, st, .keep_all = T)\n",
    "\n",
    "# Let's narrow down to demographics and policies on education, healthcare, welfare and drug-alcohol:\n",
    "# we need to import the metadata:\n",
    "# categories = c('demographics', 'education', 'healthcare', 'welfare', 'drug-alcohol')\n",
    "# codebook_subset = codebook %>% filter(category %in% categories)\n",
    "\n",
    "# cleaned_tbl = cleaned_tbl[, c('year', 'st', 'state', codebook_subset$variable)]\n",
    "# dim(cleaned_tbl)"
   ]
  },
  {
   "cell_type": "code",
   "execution_count": 27,
   "metadata": {},
   "outputs": [
    {
     "data": {
      "text/html": [
       "<table>\n",
       "<caption>A data.frame: 6 × 2142</caption>\n",
       "<thead>\n",
       "\t<tr><th></th><th scope=col>year</th><th scope=col>st</th><th scope=col>stateno</th><th scope=col>state</th><th scope=col>state_fips</th><th scope=col>state_icpsr</th><th scope=col>popdensity</th><th scope=col>popfemale</th><th scope=col>pctpopfemale</th><th scope=col>popmale</th><th scope=col>...</th><th scope=col>med_spending_own</th><th scope=col>poptotal</th><th scope=col>taxes</th><th scope=col>taxrevcorporate</th><th scope=col>total_debt_outstanding</th><th scope=col>total_expenditure</th><th scope=col>total_revenue</th><th scope=col>popnohealthins</th><th scope=col>popprivhealthins</th><th scope=col>popgovhealthins</th></tr>\n",
       "\t<tr><th></th><th scope=col>&lt;int&gt;</th><th scope=col>&lt;chr&gt;</th><th scope=col>&lt;dbl&gt;</th><th scope=col>&lt;chr&gt;</th><th scope=col>&lt;int&gt;</th><th scope=col>&lt;int&gt;</th><th scope=col>&lt;dbl&gt;</th><th scope=col>&lt;int&gt;</th><th scope=col>&lt;dbl&gt;</th><th scope=col>&lt;int&gt;</th><th scope=col>...</th><th scope=col>&lt;dbl&gt;</th><th scope=col>&lt;int&gt;</th><th scope=col>&lt;int&gt;</th><th scope=col>&lt;int&gt;</th><th scope=col>&lt;int&gt;</th><th scope=col>&lt;int&gt;</th><th scope=col>&lt;int&gt;</th><th scope=col>&lt;dbl&gt;</th><th scope=col>&lt;dbl&gt;</th><th scope=col>&lt;dbl&gt;</th></tr>\n",
       "</thead>\n",
       "<tbody>\n",
       "\t<tr><th scope=row>862</th><td>2019</td><td>VT</td><td>45</td><td>Vermont      </td><td>50</td><td> 6</td><td>NA</td><td>NA</td><td>NA</td><td>NA</td><td>...</td><td>NA</td><td> 623989</td><td> 3470585</td><td> 149832</td><td>NA</td><td>NA</td><td>NA</td><td> 28</td><td> 425</td><td> 259</td></tr>\n",
       "\t<tr><th scope=row>863</th><td>2019</td><td>VA</td><td>46</td><td>Virginia     </td><td>51</td><td>40</td><td>NA</td><td>NA</td><td>NA</td><td>NA</td><td>...</td><td>NA</td><td>8535519</td><td>27076451</td><td>1247128</td><td>NA</td><td>NA</td><td>NA</td><td>658</td><td>6196</td><td>2551</td></tr>\n",
       "\t<tr><th scope=row>864</th><td>2019</td><td>WA</td><td>47</td><td>Washington   </td><td>53</td><td>73</td><td>NA</td><td>NA</td><td>NA</td><td>NA</td><td>...</td><td>NA</td><td>7614893</td><td>27992437</td><td>     NA</td><td>NA</td><td>NA</td><td>NA</td><td>496</td><td>5327</td><td>2641</td></tr>\n",
       "\t<tr><th scope=row>865</th><td>2019</td><td>WV</td><td>48</td><td>West Virginia</td><td>54</td><td>56</td><td>NA</td><td>NA</td><td>NA</td><td>NA</td><td>...</td><td>NA</td><td>1792147</td><td> 5816816</td><td> 198799</td><td>NA</td><td>NA</td><td>NA</td><td>118</td><td>1103</td><td> 838</td></tr>\n",
       "\t<tr><th scope=row>866</th><td>2019</td><td>WI</td><td>49</td><td>Wisconsin    </td><td>55</td><td>25</td><td>NA</td><td>NA</td><td>NA</td><td>NA</td><td>...</td><td>NA</td><td>5822434</td><td>19930137</td><td>1343532</td><td>NA</td><td>NA</td><td>NA</td><td>329</td><td>4275</td><td>1907</td></tr>\n",
       "\t<tr><th scope=row>867</th><td>2019</td><td>WY</td><td>50</td><td>Wyoming      </td><td>56</td><td>68</td><td>NA</td><td>NA</td><td>NA</td><td>NA</td><td>...</td><td>NA</td><td> 578759</td><td> 2110704</td><td>     NA</td><td>NA</td><td>NA</td><td>NA</td><td> 70</td><td> 407</td><td> 166</td></tr>\n",
       "</tbody>\n",
       "</table>\n"
      ],
      "text/latex": [
       "A data.frame: 6 × 2142\n",
       "\\begin{tabular}{r|lllllllllllllllllllll}\n",
       "  & year & st & stateno & state & state\\_fips & state\\_icpsr & popdensity & popfemale & pctpopfemale & popmale & ... & med\\_spending\\_own & poptotal & taxes & taxrevcorporate & total\\_debt\\_outstanding & total\\_expenditure & total\\_revenue & popnohealthins & popprivhealthins & popgovhealthins\\\\\n",
       "  & <int> & <chr> & <dbl> & <chr> & <int> & <int> & <dbl> & <int> & <dbl> & <int> & ... & <dbl> & <int> & <int> & <int> & <int> & <int> & <int> & <dbl> & <dbl> & <dbl>\\\\\n",
       "\\hline\n",
       "\t862 & 2019 & VT & 45 & Vermont       & 50 &  6 & NA & NA & NA & NA & ... & NA &  623989 &  3470585 &  149832 & NA & NA & NA &  28 &  425 &  259\\\\\n",
       "\t863 & 2019 & VA & 46 & Virginia      & 51 & 40 & NA & NA & NA & NA & ... & NA & 8535519 & 27076451 & 1247128 & NA & NA & NA & 658 & 6196 & 2551\\\\\n",
       "\t864 & 2019 & WA & 47 & Washington    & 53 & 73 & NA & NA & NA & NA & ... & NA & 7614893 & 27992437 &      NA & NA & NA & NA & 496 & 5327 & 2641\\\\\n",
       "\t865 & 2019 & WV & 48 & West Virginia & 54 & 56 & NA & NA & NA & NA & ... & NA & 1792147 &  5816816 &  198799 & NA & NA & NA & 118 & 1103 &  838\\\\\n",
       "\t866 & 2019 & WI & 49 & Wisconsin     & 55 & 25 & NA & NA & NA & NA & ... & NA & 5822434 & 19930137 & 1343532 & NA & NA & NA & 329 & 4275 & 1907\\\\\n",
       "\t867 & 2019 & WY & 50 & Wyoming       & 56 & 68 & NA & NA & NA & NA & ... & NA &  578759 &  2110704 &      NA & NA & NA & NA &  70 &  407 &  166\\\\\n",
       "\\end{tabular}\n"
      ],
      "text/markdown": [
       "\n",
       "A data.frame: 6 × 2142\n",
       "\n",
       "| <!--/--> | year &lt;int&gt; | st &lt;chr&gt; | stateno &lt;dbl&gt; | state &lt;chr&gt; | state_fips &lt;int&gt; | state_icpsr &lt;int&gt; | popdensity &lt;dbl&gt; | popfemale &lt;int&gt; | pctpopfemale &lt;dbl&gt; | popmale &lt;int&gt; | ... ... | med_spending_own &lt;dbl&gt; | poptotal &lt;int&gt; | taxes &lt;int&gt; | taxrevcorporate &lt;int&gt; | total_debt_outstanding &lt;int&gt; | total_expenditure &lt;int&gt; | total_revenue &lt;int&gt; | popnohealthins &lt;dbl&gt; | popprivhealthins &lt;dbl&gt; | popgovhealthins &lt;dbl&gt; |\n",
       "|---|---|---|---|---|---|---|---|---|---|---|---|---|---|---|---|---|---|---|---|---|---|\n",
       "| 862 | 2019 | VT | 45 | Vermont       | 50 |  6 | NA | NA | NA | NA | ... | NA |  623989 |  3470585 |  149832 | NA | NA | NA |  28 |  425 |  259 |\n",
       "| 863 | 2019 | VA | 46 | Virginia      | 51 | 40 | NA | NA | NA | NA | ... | NA | 8535519 | 27076451 | 1247128 | NA | NA | NA | 658 | 6196 | 2551 |\n",
       "| 864 | 2019 | WA | 47 | Washington    | 53 | 73 | NA | NA | NA | NA | ... | NA | 7614893 | 27992437 |      NA | NA | NA | NA | 496 | 5327 | 2641 |\n",
       "| 865 | 2019 | WV | 48 | West Virginia | 54 | 56 | NA | NA | NA | NA | ... | NA | 1792147 |  5816816 |  198799 | NA | NA | NA | 118 | 1103 |  838 |\n",
       "| 866 | 2019 | WI | 49 | Wisconsin     | 55 | 25 | NA | NA | NA | NA | ... | NA | 5822434 | 19930137 | 1343532 | NA | NA | NA | 329 | 4275 | 1907 |\n",
       "| 867 | 2019 | WY | 50 | Wyoming       | 56 | 68 | NA | NA | NA | NA | ... | NA |  578759 |  2110704 |      NA | NA | NA | NA |  70 |  407 |  166 |\n",
       "\n"
      ],
      "text/plain": [
       "    year st stateno state         state_fips state_icpsr popdensity popfemale\n",
       "862 2019 VT 45      Vermont       50          6          NA         NA       \n",
       "863 2019 VA 46      Virginia      51         40          NA         NA       \n",
       "864 2019 WA 47      Washington    53         73          NA         NA       \n",
       "865 2019 WV 48      West Virginia 54         56          NA         NA       \n",
       "866 2019 WI 49      Wisconsin     55         25          NA         NA       \n",
       "867 2019 WY 50      Wyoming       56         68          NA         NA       \n",
       "    pctpopfemale popmale ... med_spending_own poptotal taxes    taxrevcorporate\n",
       "862 NA           NA      ... NA                623989   3470585  149832        \n",
       "863 NA           NA      ... NA               8535519  27076451 1247128        \n",
       "864 NA           NA      ... NA               7614893  27992437      NA        \n",
       "865 NA           NA      ... NA               1792147   5816816  198799        \n",
       "866 NA           NA      ... NA               5822434  19930137 1343532        \n",
       "867 NA           NA      ... NA                578759   2110704      NA        \n",
       "    total_debt_outstanding total_expenditure total_revenue popnohealthins\n",
       "862 NA                     NA                NA             28           \n",
       "863 NA                     NA                NA            658           \n",
       "864 NA                     NA                NA            496           \n",
       "865 NA                     NA                NA            118           \n",
       "866 NA                     NA                NA            329           \n",
       "867 NA                     NA                NA             70           \n",
       "    popprivhealthins popgovhealthins\n",
       "862  425              259           \n",
       "863 6196             2551           \n",
       "864 5327             2641           \n",
       "865 1103              838           \n",
       "866 4275             1907           \n",
       "867  407              166           "
      ]
     },
     "metadata": {},
     "output_type": "display_data"
    }
   ],
   "source": [
    "tail(cleaned_tbl)"
   ]
  },
  {
   "cell_type": "code",
   "execution_count": 28,
   "metadata": {},
   "outputs": [
    {
     "data": {
      "text/html": [
       "<style>\n",
       ".list-inline {list-style: none; margin:0; padding: 0}\n",
       ".list-inline>li {display: inline-block}\n",
       ".list-inline>li:not(:last-child)::after {content: \"\\00b7\"; padding: 0 .5ex}\n",
       "</style>\n",
       "<ol class=list-inline><li>'fgastax1'</li><li>'w_environment_solar_taxcredit'</li><li>'fgastax1'</li><li>'cigtax'</li><li>'beer_tax'</li><li>'beer_tax_rank'</li><li>'spirit_tax'</li><li>'spirit_tax_rank'</li><li>'wine_tax'</li><li>'wine_tax_rank'</li><li>'cbeertex'</li><li>'cbeerp'</li><li>'cbeert'</li><li>'cbeertav'</li><li>'cwinep'</li><li>'cwinet'</li><li>'cwinetav'</li><li>'cwinetex'</li><li>'cspirp'</li><li>'cspirt'</li><li>'cspirtav'</li><li>'cspirtex'</li><li>'icigtaxraw'</li><li>'icigtax'</li><li>'iindex'</li><li>'cig_taxes_binary'</li><li>'z_cigarette_taxes'</li></ol>\n"
      ],
      "text/latex": [
       "\\begin{enumerate*}\n",
       "\\item 'fgastax1'\n",
       "\\item 'w\\_environment\\_solar\\_taxcredit'\n",
       "\\item 'fgastax1'\n",
       "\\item 'cigtax'\n",
       "\\item 'beer\\_tax'\n",
       "\\item 'beer\\_tax\\_rank'\n",
       "\\item 'spirit\\_tax'\n",
       "\\item 'spirit\\_tax\\_rank'\n",
       "\\item 'wine\\_tax'\n",
       "\\item 'wine\\_tax\\_rank'\n",
       "\\item 'cbeertex'\n",
       "\\item 'cbeerp'\n",
       "\\item 'cbeert'\n",
       "\\item 'cbeertav'\n",
       "\\item 'cwinep'\n",
       "\\item 'cwinet'\n",
       "\\item 'cwinetav'\n",
       "\\item 'cwinetex'\n",
       "\\item 'cspirp'\n",
       "\\item 'cspirt'\n",
       "\\item 'cspirtav'\n",
       "\\item 'cspirtex'\n",
       "\\item 'icigtaxraw'\n",
       "\\item 'icigtax'\n",
       "\\item 'iindex'\n",
       "\\item 'cig\\_taxes\\_binary'\n",
       "\\item 'z\\_cigarette\\_taxes'\n",
       "\\end{enumerate*}\n"
      ],
      "text/markdown": [
       "1. 'fgastax1'\n",
       "2. 'w_environment_solar_taxcredit'\n",
       "3. 'fgastax1'\n",
       "4. 'cigtax'\n",
       "5. 'beer_tax'\n",
       "6. 'beer_tax_rank'\n",
       "7. 'spirit_tax'\n",
       "8. 'spirit_tax_rank'\n",
       "9. 'wine_tax'\n",
       "10. 'wine_tax_rank'\n",
       "11. 'cbeertex'\n",
       "12. 'cbeerp'\n",
       "13. 'cbeert'\n",
       "14. 'cbeertav'\n",
       "15. 'cwinep'\n",
       "16. 'cwinet'\n",
       "17. 'cwinetav'\n",
       "18. 'cwinetex'\n",
       "19. 'cspirp'\n",
       "20. 'cspirt'\n",
       "21. 'cspirtav'\n",
       "22. 'cspirtex'\n",
       "23. 'icigtaxraw'\n",
       "24. 'icigtax'\n",
       "25. 'iindex'\n",
       "26. 'cig_taxes_binary'\n",
       "27. 'z_cigarette_taxes'\n",
       "\n",
       "\n"
      ],
      "text/plain": [
       " [1] \"fgastax1\"                      \"w_environment_solar_taxcredit\"\n",
       " [3] \"fgastax1\"                      \"cigtax\"                       \n",
       " [5] \"beer_tax\"                      \"beer_tax_rank\"                \n",
       " [7] \"spirit_tax\"                    \"spirit_tax_rank\"              \n",
       " [9] \"wine_tax\"                      \"wine_tax_rank\"                \n",
       "[11] \"cbeertex\"                      \"cbeerp\"                       \n",
       "[13] \"cbeert\"                        \"cbeertav\"                     \n",
       "[15] \"cwinep\"                        \"cwinet\"                       \n",
       "[17] \"cwinetav\"                      \"cwinetex\"                     \n",
       "[19] \"cspirp\"                        \"cspirt\"                       \n",
       "[21] \"cspirtav\"                      \"cspirtex\"                     \n",
       "[23] \"icigtaxraw\"                    \"icigtax\"                      \n",
       "[25] \"iindex\"                        \"cig_taxes_binary\"             \n",
       "[27] \"z_cigarette_taxes\"            "
      ]
     },
     "metadata": {},
     "output_type": "display_data"
    }
   ],
   "source": [
    "# Let's have some focus groups - first that comes to mind is taxation:\n",
    "# Let's narrow it down further to a few categories\n",
    "categories = c('environment', 'healthcare', 'drug-alcohol', 'misc. regulation')\n",
    "codebook_subset = codebook %>% filter(category %in% categories)\n",
    "tax_columns = codebook_subset[which(sapply(codebook_subset$long_desc, function(x) {grepl('tax', x)})), 'variable']\n",
    "tax_columns"
   ]
  },
  {
   "cell_type": "code",
   "execution_count": 29,
   "metadata": {},
   "outputs": [
    {
     "data": {
      "text/html": [
       "<style>\n",
       ".list-inline {list-style: none; margin:0; padding: 0}\n",
       ".list-inline>li {display: inline-block}\n",
       ".list-inline>li:not(:last-child)::after {content: \"\\00b7\"; padding: 0 .5ex}\n",
       "</style>\n",
       "<ol class=list-inline><li>'aairpi'</li><li>'aasstpi'</li><li>'aasstpia'</li><li>'acorrpi'</li><li>'adebtpi'</li><li>'adebtpia'</li><li>'aedpi'</li><li>'aerpi'</li><li>'aesapi'</li><li>'afcgapi'</li><li>'agpbpi'</li><li>'agrantspi'</li><li>'ahcdpi'</li><li>'ahealpi'</li><li>'ahwypi'</li><li>'aincloc3'</li><li>'aincloc4'</li><li>'aincstat3'</li><li>'aincstat4'</li><li>'ainctot2'</li><li>'ainctot3'</li><li>'ainctot4'</li><li>'aintpi'</li><li>'alibpi'</li><li>'anecpi'</li><li>'anrpi'</li><li>'aoitpi'</li><li>'aparkpi'</li><li>'apkgpi'</li><li>'apolpi'</li><li>'apwpi'</li><li>'asanpi'</li><li>'atotpi'</li><li>'atotpib'</li><li>'atotpic'</li><li>'aunempi'</li><li>'autilpi'</li><li>'awtpi'</li></ol>\n"
      ],
      "text/latex": [
       "\\begin{enumerate*}\n",
       "\\item 'aairpi'\n",
       "\\item 'aasstpi'\n",
       "\\item 'aasstpia'\n",
       "\\item 'acorrpi'\n",
       "\\item 'adebtpi'\n",
       "\\item 'adebtpia'\n",
       "\\item 'aedpi'\n",
       "\\item 'aerpi'\n",
       "\\item 'aesapi'\n",
       "\\item 'afcgapi'\n",
       "\\item 'agpbpi'\n",
       "\\item 'agrantspi'\n",
       "\\item 'ahcdpi'\n",
       "\\item 'ahealpi'\n",
       "\\item 'ahwypi'\n",
       "\\item 'aincloc3'\n",
       "\\item 'aincloc4'\n",
       "\\item 'aincstat3'\n",
       "\\item 'aincstat4'\n",
       "\\item 'ainctot2'\n",
       "\\item 'ainctot3'\n",
       "\\item 'ainctot4'\n",
       "\\item 'aintpi'\n",
       "\\item 'alibpi'\n",
       "\\item 'anecpi'\n",
       "\\item 'anrpi'\n",
       "\\item 'aoitpi'\n",
       "\\item 'aparkpi'\n",
       "\\item 'apkgpi'\n",
       "\\item 'apolpi'\n",
       "\\item 'apwpi'\n",
       "\\item 'asanpi'\n",
       "\\item 'atotpi'\n",
       "\\item 'atotpib'\n",
       "\\item 'atotpic'\n",
       "\\item 'aunempi'\n",
       "\\item 'autilpi'\n",
       "\\item 'awtpi'\n",
       "\\end{enumerate*}\n"
      ],
      "text/markdown": [
       "1. 'aairpi'\n",
       "2. 'aasstpi'\n",
       "3. 'aasstpia'\n",
       "4. 'acorrpi'\n",
       "5. 'adebtpi'\n",
       "6. 'adebtpia'\n",
       "7. 'aedpi'\n",
       "8. 'aerpi'\n",
       "9. 'aesapi'\n",
       "10. 'afcgapi'\n",
       "11. 'agpbpi'\n",
       "12. 'agrantspi'\n",
       "13. 'ahcdpi'\n",
       "14. 'ahealpi'\n",
       "15. 'ahwypi'\n",
       "16. 'aincloc3'\n",
       "17. 'aincloc4'\n",
       "18. 'aincstat3'\n",
       "19. 'aincstat4'\n",
       "20. 'ainctot2'\n",
       "21. 'ainctot3'\n",
       "22. 'ainctot4'\n",
       "23. 'aintpi'\n",
       "24. 'alibpi'\n",
       "25. 'anecpi'\n",
       "26. 'anrpi'\n",
       "27. 'aoitpi'\n",
       "28. 'aparkpi'\n",
       "29. 'apkgpi'\n",
       "30. 'apolpi'\n",
       "31. 'apwpi'\n",
       "32. 'asanpi'\n",
       "33. 'atotpi'\n",
       "34. 'atotpib'\n",
       "35. 'atotpic'\n",
       "36. 'aunempi'\n",
       "37. 'autilpi'\n",
       "38. 'awtpi'\n",
       "\n",
       "\n"
      ],
      "text/plain": [
       " [1] \"aairpi\"    \"aasstpi\"   \"aasstpia\"  \"acorrpi\"   \"adebtpi\"   \"adebtpia\" \n",
       " [7] \"aedpi\"     \"aerpi\"     \"aesapi\"    \"afcgapi\"   \"agpbpi\"    \"agrantspi\"\n",
       "[13] \"ahcdpi\"    \"ahealpi\"   \"ahwypi\"    \"aincloc3\"  \"aincloc4\"  \"aincstat3\"\n",
       "[19] \"aincstat4\" \"ainctot2\"  \"ainctot3\"  \"ainctot4\"  \"aintpi\"    \"alibpi\"   \n",
       "[25] \"anecpi\"    \"anrpi\"     \"aoitpi\"    \"aparkpi\"   \"apkgpi\"    \"apolpi\"   \n",
       "[31] \"apwpi\"     \"asanpi\"    \"atotpi\"    \"atotpib\"   \"atotpic\"   \"aunempi\"  \n",
       "[37] \"autilpi\"   \"awtpi\"    "
      ]
     },
     "metadata": {},
     "output_type": "display_data"
    }
   ],
   "source": [
    "# We can also look at % of income spending:\n",
    "spend_columns = codebook[which(sapply(codebook$long_desc, function(x) {grepl('% of income', x)})), 'variable']\n",
    "spend_columns"
   ]
  },
  {
   "cell_type": "code",
   "execution_count": 30,
   "metadata": {},
   "outputs": [],
   "source": [
    "# Let's save these two files:\n",
    "cleaned_tbl_subset = cleaned_tbl[, c('year', 'st', 'state', tax_columns)]\n",
    "# remove columns that are all NA\n",
    "cleaned_tbl_subset = cleaned_tbl_subset[, \n",
    "    sapply(names(cleaned_tbl_subset), function(x) {sum(is.na(cleaned_tbl_subset[, x])) < nrow(cleaned_tbl_subset)})]\n",
    "write.table(cleaned_tbl_subset, \n",
    "    file = '../../Table/state_policy_tax.tsv', quote = F, row.names = F, sep = '\\t')\n",
    "\n",
    "cleaned_tbl_subset = cleaned_tbl[, c('year', 'st', 'state', spend_columns)]\n",
    "# remove columns that are all NA\n",
    "cleaned_tbl_subset = cleaned_tbl_subset[, \n",
    "    sapply(names(cleaned_tbl_subset), function(x) {sum(is.na(cleaned_tbl_subset[, x])) < nrow(cleaned_tbl_subset)})]\n",
    "write.table(cleaned_tbl_subset, \n",
    "    file = '../../Table/state_policy_spending.tsv', quote = F, row.names = F, sep = '\\t')"
   ]
  },
  {
   "cell_type": "code",
   "execution_count": null,
   "metadata": {},
   "outputs": [],
   "source": []
  }
 ],
 "metadata": {
  "kernelspec": {
   "display_name": "R",
   "language": "R",
   "name": "ir"
  },
  "language_info": {
   "codemirror_mode": "r",
   "file_extension": ".r",
   "mimetype": "text/x-r-source",
   "name": "R",
   "pygments_lexer": "r",
   "version": "3.6.1"
  }
 },
 "nbformat": 4,
 "nbformat_minor": 4
}
