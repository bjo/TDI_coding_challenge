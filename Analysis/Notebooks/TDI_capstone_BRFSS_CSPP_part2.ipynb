{
 "cells": [
  {
   "cell_type": "code",
   "execution_count": 2,
   "metadata": {},
   "outputs": [],
   "source": [
    "library(tidyverse)\n",
    "library(ggplot2)"
   ]
  },
  {
   "cell_type": "code",
   "execution_count": 3,
   "metadata": {},
   "outputs": [
    {
     "data": {
      "text/html": [
       "<table>\n",
       "<caption>A data.frame: 6 × 12</caption>\n",
       "<thead>\n",
       "\t<tr><th></th><th scope=col>mmsa</th><th scope=col>age</th><th scope=col>income</th><th scope=col>exercise</th><th scope=col>flushot</th><th scope=col>binging</th><th scope=col>heavy_drink</th><th scope=col>smoker</th><th scope=col>smoking_now</th><th scope=col>year</th><th scope=col>state</th><th scope=col>hpi</th></tr>\n",
       "\t<tr><th></th><th scope=col>&lt;int&gt;</th><th scope=col>&lt;int&gt;</th><th scope=col>&lt;int&gt;</th><th scope=col>&lt;int&gt;</th><th scope=col>&lt;int&gt;</th><th scope=col>&lt;int&gt;</th><th scope=col>&lt;int&gt;</th><th scope=col>&lt;int&gt;</th><th scope=col>&lt;int&gt;</th><th scope=col>&lt;int&gt;</th><th scope=col>&lt;chr&gt;</th><th scope=col>&lt;dbl&gt;</th></tr>\n",
       "</thead>\n",
       "<tbody>\n",
       "\t<tr><th scope=row>1</th><td>10740</td><td>1</td><td>3</td><td>1</td><td>NA</td><td>2</td><td>1</td><td>1</td><td>2</td><td>2003</td><td>NM</td><td>120.21</td></tr>\n",
       "\t<tr><th scope=row>2</th><td>10740</td><td>1</td><td>2</td><td>1</td><td>NA</td><td>2</td><td>1</td><td>3</td><td>1</td><td>2003</td><td>NM</td><td>120.21</td></tr>\n",
       "\t<tr><th scope=row>3</th><td>10740</td><td>1</td><td>4</td><td>1</td><td>NA</td><td>2</td><td>1</td><td>2</td><td>2</td><td>2003</td><td>NM</td><td>120.21</td></tr>\n",
       "\t<tr><th scope=row>4</th><td>10740</td><td>1</td><td>5</td><td>1</td><td>NA</td><td>1</td><td>1</td><td>1</td><td>2</td><td>2003</td><td>NM</td><td>120.21</td></tr>\n",
       "\t<tr><th scope=row>5</th><td>10740</td><td>1</td><td>3</td><td>1</td><td>NA</td><td>1</td><td>1</td><td>4</td><td>1</td><td>2003</td><td>NM</td><td>120.21</td></tr>\n",
       "\t<tr><th scope=row>6</th><td>10740</td><td>1</td><td>2</td><td>1</td><td>NA</td><td>1</td><td>1</td><td>4</td><td>1</td><td>2003</td><td>NM</td><td>120.21</td></tr>\n",
       "</tbody>\n",
       "</table>\n"
      ],
      "text/latex": [
       "A data.frame: 6 × 12\n",
       "\\begin{tabular}{r|llllllllllll}\n",
       "  & mmsa & age & income & exercise & flushot & binging & heavy\\_drink & smoker & smoking\\_now & year & state & hpi\\\\\n",
       "  & <int> & <int> & <int> & <int> & <int> & <int> & <int> & <int> & <int> & <int> & <chr> & <dbl>\\\\\n",
       "\\hline\n",
       "\t1 & 10740 & 1 & 3 & 1 & NA & 2 & 1 & 1 & 2 & 2003 & NM & 120.21\\\\\n",
       "\t2 & 10740 & 1 & 2 & 1 & NA & 2 & 1 & 3 & 1 & 2003 & NM & 120.21\\\\\n",
       "\t3 & 10740 & 1 & 4 & 1 & NA & 2 & 1 & 2 & 2 & 2003 & NM & 120.21\\\\\n",
       "\t4 & 10740 & 1 & 5 & 1 & NA & 1 & 1 & 1 & 2 & 2003 & NM & 120.21\\\\\n",
       "\t5 & 10740 & 1 & 3 & 1 & NA & 1 & 1 & 4 & 1 & 2003 & NM & 120.21\\\\\n",
       "\t6 & 10740 & 1 & 2 & 1 & NA & 1 & 1 & 4 & 1 & 2003 & NM & 120.21\\\\\n",
       "\\end{tabular}\n"
      ],
      "text/markdown": [
       "\n",
       "A data.frame: 6 × 12\n",
       "\n",
       "| <!--/--> | mmsa &lt;int&gt; | age &lt;int&gt; | income &lt;int&gt; | exercise &lt;int&gt; | flushot &lt;int&gt; | binging &lt;int&gt; | heavy_drink &lt;int&gt; | smoker &lt;int&gt; | smoking_now &lt;int&gt; | year &lt;int&gt; | state &lt;chr&gt; | hpi &lt;dbl&gt; |\n",
       "|---|---|---|---|---|---|---|---|---|---|---|---|---|\n",
       "| 1 | 10740 | 1 | 3 | 1 | NA | 2 | 1 | 1 | 2 | 2003 | NM | 120.21 |\n",
       "| 2 | 10740 | 1 | 2 | 1 | NA | 2 | 1 | 3 | 1 | 2003 | NM | 120.21 |\n",
       "| 3 | 10740 | 1 | 4 | 1 | NA | 2 | 1 | 2 | 2 | 2003 | NM | 120.21 |\n",
       "| 4 | 10740 | 1 | 5 | 1 | NA | 1 | 1 | 1 | 2 | 2003 | NM | 120.21 |\n",
       "| 5 | 10740 | 1 | 3 | 1 | NA | 1 | 1 | 4 | 1 | 2003 | NM | 120.21 |\n",
       "| 6 | 10740 | 1 | 2 | 1 | NA | 1 | 1 | 4 | 1 | 2003 | NM | 120.21 |\n",
       "\n"
      ],
      "text/plain": [
       "  mmsa  age income exercise flushot binging heavy_drink smoker smoking_now year\n",
       "1 10740 1   3      1        NA      2       1           1      2           2003\n",
       "2 10740 1   2      1        NA      2       1           3      1           2003\n",
       "3 10740 1   4      1        NA      2       1           2      2           2003\n",
       "4 10740 1   5      1        NA      1       1           1      2           2003\n",
       "5 10740 1   3      1        NA      1       1           4      1           2003\n",
       "6 10740 1   2      1        NA      1       1           4      1           2003\n",
       "  state hpi   \n",
       "1 NM    120.21\n",
       "2 NM    120.21\n",
       "3 NM    120.21\n",
       "4 NM    120.21\n",
       "5 NM    120.21\n",
       "6 NM    120.21"
      ]
     },
     "metadata": {},
     "output_type": "display_data"
    },
    {
     "data": {
      "text/html": [
       "<style>\n",
       ".list-inline {list-style: none; margin:0; padding: 0}\n",
       ".list-inline>li {display: inline-block}\n",
       ".list-inline>li:not(:last-child)::after {content: \"\\00b7\"; padding: 0 .5ex}\n",
       "</style>\n",
       "<ol class=list-inline><li>2574386</li><li>12</li></ol>\n"
      ],
      "text/latex": [
       "\\begin{enumerate*}\n",
       "\\item 2574386\n",
       "\\item 12\n",
       "\\end{enumerate*}\n"
      ],
      "text/markdown": [
       "1. 2574386\n",
       "2. 12\n",
       "\n",
       "\n"
      ],
      "text/plain": [
       "[1] 2574386      12"
      ]
     },
     "metadata": {},
     "output_type": "display_data"
    }
   ],
   "source": [
    "brfss_table = read.table('../../Table/BRFSS/BRFSS_cleaned_master.tsv', \n",
    "    stringsAsFactors = F, sep = '\\t', header = T)\n",
    "head(brfss_table)\n",
    "dim(brfss_table)"
   ]
  },
  {
   "cell_type": "markdown",
   "metadata": {},
   "source": [
    "## For the second part, I will try to answer the question: are there any state-level policies that seem to correlate with the behavioral risks?"
   ]
  },
  {
   "cell_type": "code",
   "execution_count": 4,
   "metadata": {},
   "outputs": [],
   "source": [
    "# I've processed two documents: state_policy_spending.tsv and state_policy_tax.tsv\n",
    "\n",
    "state_spending = read.table('../../Table/state_policy_spending.tsv', stringsAsFactors = F, header = T, sep = '\\t')\n",
    "state_tax = read.table('../../Table/state_policy_tax.tsv', stringsAsFactors = F, header = T, sep = '\\t')"
   ]
  },
  {
   "cell_type": "code",
   "execution_count": 5,
   "metadata": {},
   "outputs": [
    {
     "data": {
      "text/html": [
       "<style>\n",
       ".list-inline {list-style: none; margin:0; padding: 0}\n",
       ".list-inline>li {display: inline-block}\n",
       ".list-inline>li:not(:last-child)::after {content: \"\\00b7\"; padding: 0 .5ex}\n",
       "</style>\n",
       "<ol class=list-inline><li>867</li><li>41</li></ol>\n"
      ],
      "text/latex": [
       "\\begin{enumerate*}\n",
       "\\item 867\n",
       "\\item 41\n",
       "\\end{enumerate*}\n"
      ],
      "text/markdown": [
       "1. 867\n",
       "2. 41\n",
       "\n",
       "\n"
      ],
      "text/plain": [
       "[1] 867  41"
      ]
     },
     "metadata": {},
     "output_type": "display_data"
    },
    {
     "data": {
      "text/html": [
       "<table>\n",
       "<caption>A data.frame: 6 × 41</caption>\n",
       "<thead>\n",
       "\t<tr><th></th><th scope=col>year</th><th scope=col>st</th><th scope=col>state</th><th scope=col>aairpi</th><th scope=col>aasstpi</th><th scope=col>aasstpia</th><th scope=col>acorrpi</th><th scope=col>adebtpi</th><th scope=col>adebtpia</th><th scope=col>aedpi</th><th scope=col>...</th><th scope=col>apkgpi</th><th scope=col>apolpi</th><th scope=col>apwpi</th><th scope=col>asanpi</th><th scope=col>atotpi</th><th scope=col>atotpib</th><th scope=col>atotpic</th><th scope=col>aunempi</th><th scope=col>autilpi</th><th scope=col>awtpi</th></tr>\n",
       "\t<tr><th></th><th scope=col>&lt;int&gt;</th><th scope=col>&lt;chr&gt;</th><th scope=col>&lt;chr&gt;</th><th scope=col>&lt;dbl&gt;</th><th scope=col>&lt;dbl&gt;</th><th scope=col>&lt;dbl&gt;</th><th scope=col>&lt;dbl&gt;</th><th scope=col>&lt;dbl&gt;</th><th scope=col>&lt;dbl&gt;</th><th scope=col>&lt;dbl&gt;</th><th scope=col>...</th><th scope=col>&lt;dbl&gt;</th><th scope=col>&lt;dbl&gt;</th><th scope=col>&lt;dbl&gt;</th><th scope=col>&lt;dbl&gt;</th><th scope=col>&lt;dbl&gt;</th><th scope=col>&lt;dbl&gt;</th><th scope=col>&lt;dbl&gt;</th><th scope=col>&lt;dbl&gt;</th><th scope=col>&lt;dbl&gt;</th><th scope=col>&lt;dbl&gt;</th></tr>\n",
       "</thead>\n",
       "<tbody>\n",
       "\t<tr><th scope=row>1</th><td>2003</td><td>AL</td><td>Alabama   </td><td>NA</td><td>NA</td><td>NA</td><td>NA</td><td>NA</td><td>NA</td><td>NA</td><td>...</td><td>NA</td><td>NA</td><td>NA</td><td>NA</td><td>NA</td><td>NA</td><td>NA</td><td>NA</td><td>NA</td><td>NA</td></tr>\n",
       "\t<tr><th scope=row>2</th><td>2003</td><td>AK</td><td>Alaska    </td><td>NA</td><td>NA</td><td>NA</td><td>NA</td><td>NA</td><td>NA</td><td>NA</td><td>...</td><td>NA</td><td>NA</td><td>NA</td><td>NA</td><td>NA</td><td>NA</td><td>NA</td><td>NA</td><td>NA</td><td>NA</td></tr>\n",
       "\t<tr><th scope=row>3</th><td>2003</td><td>AZ</td><td>Arizona   </td><td>NA</td><td>NA</td><td>NA</td><td>NA</td><td>NA</td><td>NA</td><td>NA</td><td>...</td><td>NA</td><td>NA</td><td>NA</td><td>NA</td><td>NA</td><td>NA</td><td>NA</td><td>NA</td><td>NA</td><td>NA</td></tr>\n",
       "\t<tr><th scope=row>4</th><td>2003</td><td>AR</td><td>Arkansas  </td><td>NA</td><td>NA</td><td>NA</td><td>NA</td><td>NA</td><td>NA</td><td>NA</td><td>...</td><td>NA</td><td>NA</td><td>NA</td><td>NA</td><td>NA</td><td>NA</td><td>NA</td><td>NA</td><td>NA</td><td>NA</td></tr>\n",
       "\t<tr><th scope=row>5</th><td>2003</td><td>CA</td><td>California</td><td>NA</td><td>NA</td><td>NA</td><td>NA</td><td>NA</td><td>NA</td><td>NA</td><td>...</td><td>NA</td><td>NA</td><td>NA</td><td>NA</td><td>NA</td><td>NA</td><td>NA</td><td>NA</td><td>NA</td><td>NA</td></tr>\n",
       "\t<tr><th scope=row>6</th><td>2003</td><td>CO</td><td>Colorado  </td><td>NA</td><td>NA</td><td>NA</td><td>NA</td><td>NA</td><td>NA</td><td>NA</td><td>...</td><td>NA</td><td>NA</td><td>NA</td><td>NA</td><td>NA</td><td>NA</td><td>NA</td><td>NA</td><td>NA</td><td>NA</td></tr>\n",
       "</tbody>\n",
       "</table>\n"
      ],
      "text/latex": [
       "A data.frame: 6 × 41\n",
       "\\begin{tabular}{r|lllllllllllllllllllll}\n",
       "  & year & st & state & aairpi & aasstpi & aasstpia & acorrpi & adebtpi & adebtpia & aedpi & ... & apkgpi & apolpi & apwpi & asanpi & atotpi & atotpib & atotpic & aunempi & autilpi & awtpi\\\\\n",
       "  & <int> & <chr> & <chr> & <dbl> & <dbl> & <dbl> & <dbl> & <dbl> & <dbl> & <dbl> & ... & <dbl> & <dbl> & <dbl> & <dbl> & <dbl> & <dbl> & <dbl> & <dbl> & <dbl> & <dbl>\\\\\n",
       "\\hline\n",
       "\t1 & 2003 & AL & Alabama    & NA & NA & NA & NA & NA & NA & NA & ... & NA & NA & NA & NA & NA & NA & NA & NA & NA & NA\\\\\n",
       "\t2 & 2003 & AK & Alaska     & NA & NA & NA & NA & NA & NA & NA & ... & NA & NA & NA & NA & NA & NA & NA & NA & NA & NA\\\\\n",
       "\t3 & 2003 & AZ & Arizona    & NA & NA & NA & NA & NA & NA & NA & ... & NA & NA & NA & NA & NA & NA & NA & NA & NA & NA\\\\\n",
       "\t4 & 2003 & AR & Arkansas   & NA & NA & NA & NA & NA & NA & NA & ... & NA & NA & NA & NA & NA & NA & NA & NA & NA & NA\\\\\n",
       "\t5 & 2003 & CA & California & NA & NA & NA & NA & NA & NA & NA & ... & NA & NA & NA & NA & NA & NA & NA & NA & NA & NA\\\\\n",
       "\t6 & 2003 & CO & Colorado   & NA & NA & NA & NA & NA & NA & NA & ... & NA & NA & NA & NA & NA & NA & NA & NA & NA & NA\\\\\n",
       "\\end{tabular}\n"
      ],
      "text/markdown": [
       "\n",
       "A data.frame: 6 × 41\n",
       "\n",
       "| <!--/--> | year &lt;int&gt; | st &lt;chr&gt; | state &lt;chr&gt; | aairpi &lt;dbl&gt; | aasstpi &lt;dbl&gt; | aasstpia &lt;dbl&gt; | acorrpi &lt;dbl&gt; | adebtpi &lt;dbl&gt; | adebtpia &lt;dbl&gt; | aedpi &lt;dbl&gt; | ... ... | apkgpi &lt;dbl&gt; | apolpi &lt;dbl&gt; | apwpi &lt;dbl&gt; | asanpi &lt;dbl&gt; | atotpi &lt;dbl&gt; | atotpib &lt;dbl&gt; | atotpic &lt;dbl&gt; | aunempi &lt;dbl&gt; | autilpi &lt;dbl&gt; | awtpi &lt;dbl&gt; |\n",
       "|---|---|---|---|---|---|---|---|---|---|---|---|---|---|---|---|---|---|---|---|---|---|\n",
       "| 1 | 2003 | AL | Alabama    | NA | NA | NA | NA | NA | NA | NA | ... | NA | NA | NA | NA | NA | NA | NA | NA | NA | NA |\n",
       "| 2 | 2003 | AK | Alaska     | NA | NA | NA | NA | NA | NA | NA | ... | NA | NA | NA | NA | NA | NA | NA | NA | NA | NA |\n",
       "| 3 | 2003 | AZ | Arizona    | NA | NA | NA | NA | NA | NA | NA | ... | NA | NA | NA | NA | NA | NA | NA | NA | NA | NA |\n",
       "| 4 | 2003 | AR | Arkansas   | NA | NA | NA | NA | NA | NA | NA | ... | NA | NA | NA | NA | NA | NA | NA | NA | NA | NA |\n",
       "| 5 | 2003 | CA | California | NA | NA | NA | NA | NA | NA | NA | ... | NA | NA | NA | NA | NA | NA | NA | NA | NA | NA |\n",
       "| 6 | 2003 | CO | Colorado   | NA | NA | NA | NA | NA | NA | NA | ... | NA | NA | NA | NA | NA | NA | NA | NA | NA | NA |\n",
       "\n"
      ],
      "text/plain": [
       "  year st state      aairpi aasstpi aasstpia acorrpi adebtpi adebtpia aedpi ...\n",
       "1 2003 AL Alabama    NA     NA      NA       NA      NA      NA       NA    ...\n",
       "2 2003 AK Alaska     NA     NA      NA       NA      NA      NA       NA    ...\n",
       "3 2003 AZ Arizona    NA     NA      NA       NA      NA      NA       NA    ...\n",
       "4 2003 AR Arkansas   NA     NA      NA       NA      NA      NA       NA    ...\n",
       "5 2003 CA California NA     NA      NA       NA      NA      NA       NA    ...\n",
       "6 2003 CO Colorado   NA     NA      NA       NA      NA      NA       NA    ...\n",
       "  apkgpi apolpi apwpi asanpi atotpi atotpib atotpic aunempi autilpi awtpi\n",
       "1 NA     NA     NA    NA     NA     NA      NA      NA      NA      NA   \n",
       "2 NA     NA     NA    NA     NA     NA      NA      NA      NA      NA   \n",
       "3 NA     NA     NA    NA     NA     NA      NA      NA      NA      NA   \n",
       "4 NA     NA     NA    NA     NA     NA      NA      NA      NA      NA   \n",
       "5 NA     NA     NA    NA     NA     NA      NA      NA      NA      NA   \n",
       "6 NA     NA     NA    NA     NA     NA      NA      NA      NA      NA   "
      ]
     },
     "metadata": {},
     "output_type": "display_data"
    },
    {
     "data": {
      "text/html": [
       "<style>\n",
       ".list-inline {list-style: none; margin:0; padding: 0}\n",
       ".list-inline>li {display: inline-block}\n",
       ".list-inline>li:not(:last-child)::after {content: \"\\00b7\"; padding: 0 .5ex}\n",
       "</style>\n",
       "<ol class=list-inline><li>867</li><li>29</li></ol>\n"
      ],
      "text/latex": [
       "\\begin{enumerate*}\n",
       "\\item 867\n",
       "\\item 29\n",
       "\\end{enumerate*}\n"
      ],
      "text/markdown": [
       "1. 867\n",
       "2. 29\n",
       "\n",
       "\n"
      ],
      "text/plain": [
       "[1] 867  29"
      ]
     },
     "metadata": {},
     "output_type": "display_data"
    },
    {
     "data": {
      "text/html": [
       "<table>\n",
       "<caption>A data.frame: 6 × 29</caption>\n",
       "<thead>\n",
       "\t<tr><th></th><th scope=col>year</th><th scope=col>st</th><th scope=col>state</th><th scope=col>fgastax1</th><th scope=col>w_environment_solar_taxcredit</th><th scope=col>fgastax1.1</th><th scope=col>cigtax</th><th scope=col>beer_tax</th><th scope=col>beer_tax_rank</th><th scope=col>spirit_tax</th><th scope=col>...</th><th scope=col>cwinetav</th><th scope=col>cwinetex</th><th scope=col>cspirp</th><th scope=col>cspirt</th><th scope=col>cspirtav</th><th scope=col>cspirtex</th><th scope=col>icigtaxraw</th><th scope=col>icigtax</th><th scope=col>iindex</th><th scope=col>z_cigarette_taxes</th></tr>\n",
       "\t<tr><th></th><th scope=col>&lt;int&gt;</th><th scope=col>&lt;chr&gt;</th><th scope=col>&lt;chr&gt;</th><th scope=col>&lt;dbl&gt;</th><th scope=col>&lt;int&gt;</th><th scope=col>&lt;dbl&gt;</th><th scope=col>&lt;int&gt;</th><th scope=col>&lt;dbl&gt;</th><th scope=col>&lt;int&gt;</th><th scope=col>&lt;dbl&gt;</th><th scope=col>...</th><th scope=col>&lt;dbl&gt;</th><th scope=col>&lt;dbl&gt;</th><th scope=col>&lt;dbl&gt;</th><th scope=col>&lt;dbl&gt;</th><th scope=col>&lt;dbl&gt;</th><th scope=col>&lt;dbl&gt;</th><th scope=col>&lt;dbl&gt;</th><th scope=col>&lt;dbl&gt;</th><th scope=col>&lt;dbl&gt;</th><th scope=col>&lt;dbl&gt;</th></tr>\n",
       "</thead>\n",
       "<tbody>\n",
       "\t<tr><th scope=row>1</th><td>2003</td><td>AL</td><td>Alabama   </td><td>0.160</td><td>0</td><td>0.160</td><td>1</td><td>NA</td><td>NA</td><td>NA</td><td>...</td><td>0.00</td><td>1.70</td><td>45.2</td><td>       NA</td><td>0.519</td><td> 0.00</td><td>NA</td><td>NA</td><td>NA</td><td>0.21</td></tr>\n",
       "\t<tr><th scope=row>2</th><td>2003</td><td>AK</td><td>Alaska    </td><td>0.080</td><td>0</td><td>0.080</td><td>0</td><td>NA</td><td>NA</td><td>NA</td><td>...</td><td>0.00</td><td>2.50</td><td>45.2</td><td>14.977600</td><td>0.000</td><td>12.80</td><td>NA</td><td>NA</td><td>NA</td><td>1.11</td></tr>\n",
       "\t<tr><th scope=row>3</th><td>2003</td><td>AZ</td><td>Arizona   </td><td>0.180</td><td>2</td><td>0.180</td><td>1</td><td>NA</td><td>NA</td><td>NA</td><td>...</td><td>0.00</td><td>0.84</td><td>45.2</td><td> 3.510375</td><td>0.000</td><td> 3.00</td><td>NA</td><td>NA</td><td>NA</td><td>1.40</td></tr>\n",
       "\t<tr><th scope=row>4</th><td>2003</td><td>AR</td><td>Arkansas  </td><td>0.215</td><td>0</td><td>0.215</td><td>1</td><td>NA</td><td>NA</td><td>NA</td><td>...</td><td>0.03</td><td>0.75</td><td>45.2</td><td> 4.281313</td><td>0.030</td><td> 2.50</td><td>NA</td><td>NA</td><td>NA</td><td>0.44</td></tr>\n",
       "\t<tr><th scope=row>5</th><td>2003</td><td>CA</td><td>California</td><td>0.180</td><td>2</td><td>0.180</td><td>1</td><td>NA</td><td>NA</td><td>NA</td><td>...</td><td>0.00</td><td>0.20</td><td>45.2</td><td> 3.861413</td><td>0.000</td><td> 3.30</td><td>NA</td><td>NA</td><td>NA</td><td>0.92</td></tr>\n",
       "\t<tr><th scope=row>6</th><td>2003</td><td>CO</td><td>Colorado  </td><td>0.220</td><td>0</td><td>0.220</td><td>1</td><td>NA</td><td>NA</td><td>NA</td><td>...</td><td>0.00</td><td>0.32</td><td>45.2</td><td> 2.667885</td><td>0.000</td><td> 2.28</td><td>NA</td><td>NA</td><td>NA</td><td>0.22</td></tr>\n",
       "</tbody>\n",
       "</table>\n"
      ],
      "text/latex": [
       "A data.frame: 6 × 29\n",
       "\\begin{tabular}{r|lllllllllllllllllllll}\n",
       "  & year & st & state & fgastax1 & w\\_environment\\_solar\\_taxcredit & fgastax1.1 & cigtax & beer\\_tax & beer\\_tax\\_rank & spirit\\_tax & ... & cwinetav & cwinetex & cspirp & cspirt & cspirtav & cspirtex & icigtaxraw & icigtax & iindex & z\\_cigarette\\_taxes\\\\\n",
       "  & <int> & <chr> & <chr> & <dbl> & <int> & <dbl> & <int> & <dbl> & <int> & <dbl> & ... & <dbl> & <dbl> & <dbl> & <dbl> & <dbl> & <dbl> & <dbl> & <dbl> & <dbl> & <dbl>\\\\\n",
       "\\hline\n",
       "\t1 & 2003 & AL & Alabama    & 0.160 & 0 & 0.160 & 1 & NA & NA & NA & ... & 0.00 & 1.70 & 45.2 &        NA & 0.519 &  0.00 & NA & NA & NA & 0.21\\\\\n",
       "\t2 & 2003 & AK & Alaska     & 0.080 & 0 & 0.080 & 0 & NA & NA & NA & ... & 0.00 & 2.50 & 45.2 & 14.977600 & 0.000 & 12.80 & NA & NA & NA & 1.11\\\\\n",
       "\t3 & 2003 & AZ & Arizona    & 0.180 & 2 & 0.180 & 1 & NA & NA & NA & ... & 0.00 & 0.84 & 45.2 &  3.510375 & 0.000 &  3.00 & NA & NA & NA & 1.40\\\\\n",
       "\t4 & 2003 & AR & Arkansas   & 0.215 & 0 & 0.215 & 1 & NA & NA & NA & ... & 0.03 & 0.75 & 45.2 &  4.281313 & 0.030 &  2.50 & NA & NA & NA & 0.44\\\\\n",
       "\t5 & 2003 & CA & California & 0.180 & 2 & 0.180 & 1 & NA & NA & NA & ... & 0.00 & 0.20 & 45.2 &  3.861413 & 0.000 &  3.30 & NA & NA & NA & 0.92\\\\\n",
       "\t6 & 2003 & CO & Colorado   & 0.220 & 0 & 0.220 & 1 & NA & NA & NA & ... & 0.00 & 0.32 & 45.2 &  2.667885 & 0.000 &  2.28 & NA & NA & NA & 0.22\\\\\n",
       "\\end{tabular}\n"
      ],
      "text/markdown": [
       "\n",
       "A data.frame: 6 × 29\n",
       "\n",
       "| <!--/--> | year &lt;int&gt; | st &lt;chr&gt; | state &lt;chr&gt; | fgastax1 &lt;dbl&gt; | w_environment_solar_taxcredit &lt;int&gt; | fgastax1.1 &lt;dbl&gt; | cigtax &lt;int&gt; | beer_tax &lt;dbl&gt; | beer_tax_rank &lt;int&gt; | spirit_tax &lt;dbl&gt; | ... ... | cwinetav &lt;dbl&gt; | cwinetex &lt;dbl&gt; | cspirp &lt;dbl&gt; | cspirt &lt;dbl&gt; | cspirtav &lt;dbl&gt; | cspirtex &lt;dbl&gt; | icigtaxraw &lt;dbl&gt; | icigtax &lt;dbl&gt; | iindex &lt;dbl&gt; | z_cigarette_taxes &lt;dbl&gt; |\n",
       "|---|---|---|---|---|---|---|---|---|---|---|---|---|---|---|---|---|---|---|---|---|---|\n",
       "| 1 | 2003 | AL | Alabama    | 0.160 | 0 | 0.160 | 1 | NA | NA | NA | ... | 0.00 | 1.70 | 45.2 |        NA | 0.519 |  0.00 | NA | NA | NA | 0.21 |\n",
       "| 2 | 2003 | AK | Alaska     | 0.080 | 0 | 0.080 | 0 | NA | NA | NA | ... | 0.00 | 2.50 | 45.2 | 14.977600 | 0.000 | 12.80 | NA | NA | NA | 1.11 |\n",
       "| 3 | 2003 | AZ | Arizona    | 0.180 | 2 | 0.180 | 1 | NA | NA | NA | ... | 0.00 | 0.84 | 45.2 |  3.510375 | 0.000 |  3.00 | NA | NA | NA | 1.40 |\n",
       "| 4 | 2003 | AR | Arkansas   | 0.215 | 0 | 0.215 | 1 | NA | NA | NA | ... | 0.03 | 0.75 | 45.2 |  4.281313 | 0.030 |  2.50 | NA | NA | NA | 0.44 |\n",
       "| 5 | 2003 | CA | California | 0.180 | 2 | 0.180 | 1 | NA | NA | NA | ... | 0.00 | 0.20 | 45.2 |  3.861413 | 0.000 |  3.30 | NA | NA | NA | 0.92 |\n",
       "| 6 | 2003 | CO | Colorado   | 0.220 | 0 | 0.220 | 1 | NA | NA | NA | ... | 0.00 | 0.32 | 45.2 |  2.667885 | 0.000 |  2.28 | NA | NA | NA | 0.22 |\n",
       "\n"
      ],
      "text/plain": [
       "  year st state      fgastax1 w_environment_solar_taxcredit fgastax1.1 cigtax\n",
       "1 2003 AL Alabama    0.160    0                             0.160      1     \n",
       "2 2003 AK Alaska     0.080    0                             0.080      0     \n",
       "3 2003 AZ Arizona    0.180    2                             0.180      1     \n",
       "4 2003 AR Arkansas   0.215    0                             0.215      1     \n",
       "5 2003 CA California 0.180    2                             0.180      1     \n",
       "6 2003 CO Colorado   0.220    0                             0.220      1     \n",
       "  beer_tax beer_tax_rank spirit_tax ... cwinetav cwinetex cspirp cspirt   \n",
       "1 NA       NA            NA         ... 0.00     1.70     45.2          NA\n",
       "2 NA       NA            NA         ... 0.00     2.50     45.2   14.977600\n",
       "3 NA       NA            NA         ... 0.00     0.84     45.2    3.510375\n",
       "4 NA       NA            NA         ... 0.03     0.75     45.2    4.281313\n",
       "5 NA       NA            NA         ... 0.00     0.20     45.2    3.861413\n",
       "6 NA       NA            NA         ... 0.00     0.32     45.2    2.667885\n",
       "  cspirtav cspirtex icigtaxraw icigtax iindex z_cigarette_taxes\n",
       "1 0.519     0.00    NA         NA      NA     0.21             \n",
       "2 0.000    12.80    NA         NA      NA     1.11             \n",
       "3 0.000     3.00    NA         NA      NA     1.40             \n",
       "4 0.030     2.50    NA         NA      NA     0.44             \n",
       "5 0.000     3.30    NA         NA      NA     0.92             \n",
       "6 0.000     2.28    NA         NA      NA     0.22             "
      ]
     },
     "metadata": {},
     "output_type": "display_data"
    }
   ],
   "source": [
    "dim(state_spending)\n",
    "head(state_spending)\n",
    "dim(state_tax)\n",
    "head(state_tax)"
   ]
  },
  {
   "cell_type": "markdown",
   "metadata": {},
   "source": [
    "## Question: is there a positive correlation between a state's spending on parks and recreation and exercise for people in the state?"
   ]
  },
  {
   "cell_type": "code",
   "execution_count": 8,
   "metadata": {},
   "outputs": [
    {
     "name": "stderr",
     "output_type": "stream",
     "text": [
      "Joining, by = c(\"year\", \"st\")\n",
      "\n"
     ]
    }
   ],
   "source": [
    "# the matched columns in brfss_table is: year, state\n",
    "# the matched columns in state_spending and state_tax is year, st\n",
    "\n",
    "test_tbl = brfss_table %>% rename(st = state) %>% \n",
    "    left_join(state_spending[, c('year', 'st', 'aparkpi'), by = c('year', 'st')]) %>%\n",
    "    drop_na(aparkpi)"
   ]
  },
  {
   "cell_type": "code",
   "execution_count": 9,
   "metadata": {},
   "outputs": [
    {
     "data": {
      "text/html": [
       "<table>\n",
       "<caption>A data.frame: 6 × 13</caption>\n",
       "<thead>\n",
       "\t<tr><th></th><th scope=col>mmsa</th><th scope=col>age</th><th scope=col>income</th><th scope=col>exercise</th><th scope=col>flushot</th><th scope=col>binging</th><th scope=col>heavy_drink</th><th scope=col>smoker</th><th scope=col>smoking_now</th><th scope=col>year</th><th scope=col>st</th><th scope=col>hpi</th><th scope=col>aparkpi</th></tr>\n",
       "\t<tr><th></th><th scope=col>&lt;int&gt;</th><th scope=col>&lt;int&gt;</th><th scope=col>&lt;int&gt;</th><th scope=col>&lt;int&gt;</th><th scope=col>&lt;int&gt;</th><th scope=col>&lt;int&gt;</th><th scope=col>&lt;int&gt;</th><th scope=col>&lt;int&gt;</th><th scope=col>&lt;int&gt;</th><th scope=col>&lt;int&gt;</th><th scope=col>&lt;chr&gt;</th><th scope=col>&lt;dbl&gt;</th><th scope=col>&lt;dbl&gt;</th></tr>\n",
       "</thead>\n",
       "<tbody>\n",
       "\t<tr><th scope=row>129780</th><td>10420</td><td>1</td><td>1</td><td>1</td><td>NA</td><td>1</td><td>1</td><td>4</td><td>1</td><td>2004</td><td>OH</td><td>144.61</td><td>0.00285944</td></tr>\n",
       "\t<tr><th scope=row>129781</th><td>10420</td><td>1</td><td>1</td><td>2</td><td>NA</td><td>2</td><td>1</td><td>1</td><td>2</td><td>2004</td><td>OH</td><td>144.61</td><td>0.00285944</td></tr>\n",
       "\t<tr><th scope=row>129782</th><td>10420</td><td>1</td><td>2</td><td>1</td><td>NA</td><td>1</td><td>1</td><td>4</td><td>1</td><td>2004</td><td>OH</td><td>144.61</td><td>0.00285944</td></tr>\n",
       "\t<tr><th scope=row>129783</th><td>10420</td><td>1</td><td>1</td><td>1</td><td>NA</td><td>1</td><td>1</td><td>4</td><td>1</td><td>2004</td><td>OH</td><td>144.61</td><td>0.00285944</td></tr>\n",
       "\t<tr><th scope=row>129784</th><td>10420</td><td>1</td><td>2</td><td>1</td><td>NA</td><td>2</td><td>1</td><td>4</td><td>1</td><td>2004</td><td>OH</td><td>144.61</td><td>0.00285944</td></tr>\n",
       "\t<tr><th scope=row>129785</th><td>10420</td><td>1</td><td>2</td><td>2</td><td>NA</td><td>1</td><td>1</td><td>1</td><td>2</td><td>2004</td><td>OH</td><td>144.61</td><td>0.00285944</td></tr>\n",
       "</tbody>\n",
       "</table>\n"
      ],
      "text/latex": [
       "A data.frame: 6 × 13\n",
       "\\begin{tabular}{r|lllllllllllll}\n",
       "  & mmsa & age & income & exercise & flushot & binging & heavy\\_drink & smoker & smoking\\_now & year & st & hpi & aparkpi\\\\\n",
       "  & <int> & <int> & <int> & <int> & <int> & <int> & <int> & <int> & <int> & <int> & <chr> & <dbl> & <dbl>\\\\\n",
       "\\hline\n",
       "\t129780 & 10420 & 1 & 1 & 1 & NA & 1 & 1 & 4 & 1 & 2004 & OH & 144.61 & 0.00285944\\\\\n",
       "\t129781 & 10420 & 1 & 1 & 2 & NA & 2 & 1 & 1 & 2 & 2004 & OH & 144.61 & 0.00285944\\\\\n",
       "\t129782 & 10420 & 1 & 2 & 1 & NA & 1 & 1 & 4 & 1 & 2004 & OH & 144.61 & 0.00285944\\\\\n",
       "\t129783 & 10420 & 1 & 1 & 1 & NA & 1 & 1 & 4 & 1 & 2004 & OH & 144.61 & 0.00285944\\\\\n",
       "\t129784 & 10420 & 1 & 2 & 1 & NA & 2 & 1 & 4 & 1 & 2004 & OH & 144.61 & 0.00285944\\\\\n",
       "\t129785 & 10420 & 1 & 2 & 2 & NA & 1 & 1 & 1 & 2 & 2004 & OH & 144.61 & 0.00285944\\\\\n",
       "\\end{tabular}\n"
      ],
      "text/markdown": [
       "\n",
       "A data.frame: 6 × 13\n",
       "\n",
       "| <!--/--> | mmsa &lt;int&gt; | age &lt;int&gt; | income &lt;int&gt; | exercise &lt;int&gt; | flushot &lt;int&gt; | binging &lt;int&gt; | heavy_drink &lt;int&gt; | smoker &lt;int&gt; | smoking_now &lt;int&gt; | year &lt;int&gt; | st &lt;chr&gt; | hpi &lt;dbl&gt; | aparkpi &lt;dbl&gt; |\n",
       "|---|---|---|---|---|---|---|---|---|---|---|---|---|---|\n",
       "| 129780 | 10420 | 1 | 1 | 1 | NA | 1 | 1 | 4 | 1 | 2004 | OH | 144.61 | 0.00285944 |\n",
       "| 129781 | 10420 | 1 | 1 | 2 | NA | 2 | 1 | 1 | 2 | 2004 | OH | 144.61 | 0.00285944 |\n",
       "| 129782 | 10420 | 1 | 2 | 1 | NA | 1 | 1 | 4 | 1 | 2004 | OH | 144.61 | 0.00285944 |\n",
       "| 129783 | 10420 | 1 | 1 | 1 | NA | 1 | 1 | 4 | 1 | 2004 | OH | 144.61 | 0.00285944 |\n",
       "| 129784 | 10420 | 1 | 2 | 1 | NA | 2 | 1 | 4 | 1 | 2004 | OH | 144.61 | 0.00285944 |\n",
       "| 129785 | 10420 | 1 | 2 | 2 | NA | 1 | 1 | 1 | 2 | 2004 | OH | 144.61 | 0.00285944 |\n",
       "\n"
      ],
      "text/plain": [
       "       mmsa  age income exercise flushot binging heavy_drink smoker smoking_now\n",
       "129780 10420 1   1      1        NA      1       1           4      1          \n",
       "129781 10420 1   1      2        NA      2       1           1      2          \n",
       "129782 10420 1   2      1        NA      1       1           4      1          \n",
       "129783 10420 1   1      1        NA      1       1           4      1          \n",
       "129784 10420 1   2      1        NA      2       1           4      1          \n",
       "129785 10420 1   2      2        NA      1       1           1      2          \n",
       "       year st hpi    aparkpi   \n",
       "129780 2004 OH 144.61 0.00285944\n",
       "129781 2004 OH 144.61 0.00285944\n",
       "129782 2004 OH 144.61 0.00285944\n",
       "129783 2004 OH 144.61 0.00285944\n",
       "129784 2004 OH 144.61 0.00285944\n",
       "129785 2004 OH 144.61 0.00285944"
      ]
     },
     "metadata": {},
     "output_type": "display_data"
    },
    {
     "data": {
      "text/html": [
       "<style>\n",
       ".list-inline {list-style: none; margin:0; padding: 0}\n",
       ".list-inline>li {display: inline-block}\n",
       ".list-inline>li:not(:last-child)::after {content: \"\\00b7\"; padding: 0 .5ex}\n",
       "</style>\n",
       "<ol class=list-inline><li>1470191</li><li>13</li></ol>\n"
      ],
      "text/latex": [
       "\\begin{enumerate*}\n",
       "\\item 1470191\n",
       "\\item 13\n",
       "\\end{enumerate*}\n"
      ],
      "text/markdown": [
       "1. 1470191\n",
       "2. 13\n",
       "\n",
       "\n"
      ],
      "text/plain": [
       "[1] 1470191      13"
      ]
     },
     "metadata": {},
     "output_type": "display_data"
    }
   ],
   "source": [
    "head(test_tbl)\n",
    "dim(test_tbl)"
   ]
  },
  {
   "cell_type": "code",
   "execution_count": 10,
   "metadata": {},
   "outputs": [
    {
     "data": {
      "text/plain": [
       "\n",
       "Call:\n",
       "lm(formula = exercise ~ aparkpi, data = tbl)\n",
       "\n",
       "Residuals:\n",
       "    Min      1Q  Median      3Q     Max \n",
       "-0.2687 -0.2511 -0.2410 -0.1869  0.8144 \n",
       "\n",
       "Coefficients:\n",
       "              Estimate Std. Error t value Pr(>|t|)    \n",
       "(Intercept)  1.283e+00  9.367e-04  1369.7   <2e-16 ***\n",
       "aparkpi     -1.332e+01  2.979e-01   -44.7   <2e-16 ***\n",
       "---\n",
       "Signif. codes:  0 '***' 0.001 '**' 0.01 '*' 0.05 '.' 0.1 ' ' 1\n",
       "\n",
       "Residual standard error: 0.4294 on 1431036 degrees of freedom\n",
       "Multiple R-squared:  0.001395,\tAdjusted R-squared:  0.001394 \n",
       "F-statistic:  1999 on 1 and 1431036 DF,  p-value: < 2.2e-16\n"
      ]
     },
     "metadata": {},
     "output_type": "display_data"
    },
    {
     "data": {
      "text/plain": [
       "\n",
       "Call:\n",
       "lm(formula = flushot ~ aparkpi, data = tbl)\n",
       "\n",
       "Residuals:\n",
       "    Min      1Q  Median      3Q     Max \n",
       "-0.3511 -0.3430 -0.3365  0.6555  0.6861 \n",
       "\n",
       "Coefficients:\n",
       "             Estimate Std. Error t value Pr(>|t|)    \n",
       "(Intercept)  1.357536   0.001982 685.080   <2e-16 ***\n",
       "aparkpi     -5.974766   0.643608  -9.283   <2e-16 ***\n",
       "---\n",
       "Signif. codes:  0 '***' 0.001 '**' 0.01 '*' 0.05 '.' 0.1 ' ' 1\n",
       "\n",
       "Residual standard error: 0.4738 on 396048 degrees of freedom\n",
       "Multiple R-squared:  0.0002175,\tAdjusted R-squared:  0.000215 \n",
       "F-statistic: 86.18 on 1 and 396048 DF,  p-value: < 2.2e-16\n"
      ]
     },
     "metadata": {},
     "output_type": "display_data"
    },
    {
     "data": {
      "text/plain": [
       "\n",
       "Call:\n",
       "lm(formula = binging ~ aparkpi, data = tbl)\n",
       "\n",
       "Residuals:\n",
       "    Min      1Q  Median      3Q     Max \n",
       "-0.1277 -0.1220 -0.1207 -0.1195  0.8814 \n",
       "\n",
       "Coefficients:\n",
       "             Estimate Std. Error  t value Pr(>|t|)    \n",
       "(Intercept) 1.1170809  0.0007179 1556.026  < 2e-16 ***\n",
       "aparkpi     1.4499696  0.2284429    6.347 2.19e-10 ***\n",
       "---\n",
       "Signif. codes:  0 '***' 0.001 '**' 0.01 '*' 0.05 '.' 0.1 ' ' 1\n",
       "\n",
       "Residual standard error: 0.3265 on 1414213 degrees of freedom\n",
       "Multiple R-squared:  2.849e-05,\tAdjusted R-squared:  2.778e-05 \n",
       "F-statistic: 40.29 on 1 and 1414213 DF,  p-value: 2.194e-10\n"
      ]
     },
     "metadata": {},
     "output_type": "display_data"
    },
    {
     "data": {
      "text/plain": [
       "\n",
       "Call:\n",
       "lm(formula = heavy_drink ~ aparkpi, data = tbl)\n",
       "\n",
       "Residuals:\n",
       "     Min       1Q   Median       3Q      Max \n",
       "-0.05272 -0.05159 -0.05131 -0.05110  0.94914 \n",
       "\n",
       "Coefficients:\n",
       "             Estimate Std. Error t value Pr(>|t|)    \n",
       "(Intercept) 1.0505368  0.0004863 2160.34   <2e-16 ***\n",
       "aparkpi     0.2985796  0.1547326    1.93   0.0537 .  \n",
       "---\n",
       "Signif. codes:  0 '***' 0.001 '**' 0.01 '*' 0.05 '.' 0.1 ' ' 1\n",
       "\n",
       "Residual standard error: 0.2208 on 1410689 degrees of freedom\n",
       "Multiple R-squared:  2.64e-06,\tAdjusted R-squared:  1.931e-06 \n",
       "F-statistic: 3.724 on 1 and 1410689 DF,  p-value: 0.05365\n"
      ]
     },
     "metadata": {},
     "output_type": "display_data"
    },
    {
     "data": {
      "text/plain": [
       "\n",
       "Call:\n",
       "lm(formula = smoker ~ aparkpi, data = tbl)\n",
       "\n",
       "Residuals:\n",
       "    Min      1Q  Median      3Q     Max \n",
       "-2.3202 -0.2725  0.7104  0.7361  0.7537 \n",
       "\n",
       "Coefficients:\n",
       "             Estimate Std. Error t value Pr(>|t|)    \n",
       "(Intercept)  3.233556   0.002172 1488.99   <2e-16 ***\n",
       "aparkpi     11.856046   0.691012   17.16   <2e-16 ***\n",
       "---\n",
       "Signif. codes:  0 '***' 0.001 '**' 0.01 '*' 0.05 '.' 0.1 ' ' 1\n",
       "\n",
       "Residual standard error: 0.9971 on 1438065 degrees of freedom\n",
       "Multiple R-squared:  0.0002047,\tAdjusted R-squared:  0.000204 \n",
       "F-statistic: 294.4 on 1 and 1438065 DF,  p-value: < 2.2e-16\n"
      ]
     },
     "metadata": {},
     "output_type": "display_data"
    },
    {
     "data": {
      "text/plain": [
       "\n",
       "Call:\n",
       "lm(formula = smoking_now ~ aparkpi, data = tbl)\n",
       "\n",
       "Residuals:\n",
       "    Min      1Q  Median      3Q     Max \n",
       "-0.1663 -0.1640 -0.1631 -0.1601  0.8448 \n",
       "\n",
       "Coefficients:\n",
       "              Estimate Std. Error  t value Pr(>|t|)    \n",
       "(Intercept)  1.1681779  0.0008045 1452.056  < 2e-16 ***\n",
       "aparkpi     -1.7736704  0.2559899   -6.929 4.25e-12 ***\n",
       "---\n",
       "Signif. codes:  0 '***' 0.001 '**' 0.01 '*' 0.05 '.' 0.1 ' ' 1\n",
       "\n",
       "Residual standard error: 0.3694 on 1438065 degrees of freedom\n",
       "Multiple R-squared:  3.338e-05,\tAdjusted R-squared:  3.269e-05 \n",
       "F-statistic: 48.01 on 1 and 1438065 DF,  p-value: 4.25e-12\n"
      ]
     },
     "metadata": {},
     "output_type": "display_data"
    }
   ],
   "source": [
    "# 1 - exercise\n",
    "tbl = test_tbl %>% filter(exercise < 9)\n",
    "summary(lm(exercise ~ aparkpi, data = tbl))\n",
    "# 2- flushot\n",
    "tbl = test_tbl %>% filter(flushot < 9)\n",
    "summary(lm(flushot ~ aparkpi, data = tbl))\n",
    "# 3 - binging\n",
    "tbl = test_tbl %>% filter(binging < 9)\n",
    "summary(lm(binging ~ aparkpi, data = tbl))\n",
    "# 4 - heavy_drink\n",
    "tbl = test_tbl %>% filter(heavy_drink < 9)\n",
    "summary(lm(heavy_drink ~ aparkpi, data = tbl))\n",
    "# 5 - smoker\n",
    "tbl = test_tbl %>% filter(smoker < 9)\n",
    "summary(lm(smoker ~ aparkpi, data = tbl))\n",
    "# 6 - smoking_now\n",
    "tbl = test_tbl %>% filter(smoking_now < 9)\n",
    "summary(lm(smoking_now ~ aparkpi, data = tbl))"
   ]
  },
  {
   "cell_type": "markdown",
   "metadata": {},
   "source": [
    "parks and recreation spending (aparkpi) has a pretty convincing t-statistic of -44.7 with exercise, though it must be noted that this is a simple correlational study with no implication of causality, and more care needs to be taken in terms of covariates, etc.\n",
    "\n",
    "Still, it is encouraging that we get something. Let's try to plot this to see it in action:"
   ]
  },
  {
   "cell_type": "code",
   "execution_count": 14,
   "metadata": {},
   "outputs": [
    {
     "data": {
      "image/png": "[encoded data removed]",
      "text/plain": [
       "plot without title"
      ]
     },
     "metadata": {
      "image/png": {
       "height": 240,
       "width": 480
      }
     },
     "output_type": "display_data"
    }
   ],
   "source": [
    "options(repr.plot.width=8, repr.plot.height=4)\n",
    "ggplot(test_tbl %>% filter(exercise < 9), aes(x = aparkpi, color = factor(exercise))) + geom_density()"
   ]
  },
  {
   "cell_type": "markdown",
   "metadata": {},
   "source": [
    "exercise value of 1 corresponds to people reporting having exercised, and for higher values of state spending, the density is higher. Meanwhile, for lower values of state spending, density of exercise value of 2 (no exercise) is higher.\n",
    "\n",
    "### Conclusion: although this is just a correlational study with lots of room for improvement, there is initial evidence that state's spending on parks & rec has a positive correlation with exercise for people in the state"
   ]
  },
  {
   "cell_type": "markdown",
   "metadata": {},
   "source": [
    "## Question: can we find a similar relationship between alcohol taxes and prevalence of binging and heavy drinkers?"
   ]
  },
  {
   "cell_type": "code",
   "execution_count": 92,
   "metadata": {},
   "outputs": [
    {
     "name": "stderr",
     "output_type": "stream",
     "text": [
      "Joining, by = c(\"year\", \"st\")\n",
      "\n"
     ]
    },
    {
     "data": {
      "text/html": [
       "<table>\n",
       "<caption>A data.frame: 12 × 3</caption>\n",
       "<thead>\n",
       "\t<tr><th scope=col>type</th><th scope=col>stat</th><th scope=col>tax_type</th></tr>\n",
       "\t<tr><th scope=col>&lt;fct&gt;</th><th scope=col>&lt;dbl&gt;</th><th scope=col>&lt;fct&gt;</th></tr>\n",
       "</thead>\n",
       "<tbody>\n",
       "\t<tr><td>beer  </td><td>-19.859197</td><td>excise    </td></tr>\n",
       "\t<tr><td>beer  </td><td> -6.822646</td><td>net       </td></tr>\n",
       "\t<tr><td>beer  </td><td>-23.043938</td><td>per_g     </td></tr>\n",
       "\t<tr><td>beer  </td><td>-12.301831</td><td>ad_valorem</td></tr>\n",
       "\t<tr><td>wine  </td><td> -5.261611</td><td>excise    </td></tr>\n",
       "\t<tr><td>wine  </td><td> -6.822646</td><td>net       </td></tr>\n",
       "\t<tr><td>wine  </td><td>-15.501061</td><td>per_g     </td></tr>\n",
       "\t<tr><td>wine  </td><td>-13.289259</td><td>ad_valorem</td></tr>\n",
       "\t<tr><td>spirit</td><td> -2.545096</td><td>excise    </td></tr>\n",
       "\t<tr><td>spirit</td><td> -6.822646</td><td>net       </td></tr>\n",
       "\t<tr><td>spirit</td><td> -8.103989</td><td>per_g     </td></tr>\n",
       "\t<tr><td>spirit</td><td> -9.390480</td><td>ad_valorem</td></tr>\n",
       "</tbody>\n",
       "</table>\n"
      ],
      "text/latex": [
       "A data.frame: 12 × 3\n",
       "\\begin{tabular}{lll}\n",
       " type & stat & tax\\_type\\\\\n",
       " <fct> & <dbl> & <fct>\\\\\n",
       "\\hline\n",
       "\t beer   & -19.859197 & excise    \\\\\n",
       "\t beer   &  -6.822646 & net       \\\\\n",
       "\t beer   & -23.043938 & per\\_g     \\\\\n",
       "\t beer   & -12.301831 & ad\\_valorem\\\\\n",
       "\t wine   &  -5.261611 & excise    \\\\\n",
       "\t wine   &  -6.822646 & net       \\\\\n",
       "\t wine   & -15.501061 & per\\_g     \\\\\n",
       "\t wine   & -13.289259 & ad\\_valorem\\\\\n",
       "\t spirit &  -2.545096 & excise    \\\\\n",
       "\t spirit &  -6.822646 & net       \\\\\n",
       "\t spirit &  -8.103989 & per\\_g     \\\\\n",
       "\t spirit &  -9.390480 & ad\\_valorem\\\\\n",
       "\\end{tabular}\n"
      ],
      "text/markdown": [
       "\n",
       "A data.frame: 12 × 3\n",
       "\n",
       "| type &lt;fct&gt; | stat &lt;dbl&gt; | tax_type &lt;fct&gt; |\n",
       "|---|---|---|\n",
       "| beer   | -19.859197 | excise     |\n",
       "| beer   |  -6.822646 | net        |\n",
       "| beer   | -23.043938 | per_g      |\n",
       "| beer   | -12.301831 | ad_valorem |\n",
       "| wine   |  -5.261611 | excise     |\n",
       "| wine   |  -6.822646 | net        |\n",
       "| wine   | -15.501061 | per_g      |\n",
       "| wine   | -13.289259 | ad_valorem |\n",
       "| spirit |  -2.545096 | excise     |\n",
       "| spirit |  -6.822646 | net        |\n",
       "| spirit |  -8.103989 | per_g      |\n",
       "| spirit |  -9.390480 | ad_valorem |\n",
       "\n"
      ],
      "text/plain": [
       "   type   stat       tax_type  \n",
       "1  beer   -19.859197 excise    \n",
       "2  beer    -6.822646 net       \n",
       "3  beer   -23.043938 per_g     \n",
       "4  beer   -12.301831 ad_valorem\n",
       "5  wine    -5.261611 excise    \n",
       "6  wine    -6.822646 net       \n",
       "7  wine   -15.501061 per_g     \n",
       "8  wine   -13.289259 ad_valorem\n",
       "9  spirit  -2.545096 excise    \n",
       "10 spirit  -6.822646 net       \n",
       "11 spirit  -8.103989 per_g     \n",
       "12 spirit  -9.390480 ad_valorem"
      ]
     },
     "metadata": {},
     "output_type": "display_data"
    },
    {
     "data": {
      "text/html": [
       "<table>\n",
       "<caption>A data.frame: 12 × 3</caption>\n",
       "<thead>\n",
       "\t<tr><th scope=col>type</th><th scope=col>stat</th><th scope=col>tax_type</th></tr>\n",
       "\t<tr><th scope=col>&lt;fct&gt;</th><th scope=col>&lt;dbl&gt;</th><th scope=col>&lt;fct&gt;</th></tr>\n",
       "</thead>\n",
       "<tbody>\n",
       "\t<tr><td>beer  </td><td> -1.4509359</td><td>excise    </td></tr>\n",
       "\t<tr><td>beer  </td><td>-10.1151764</td><td>net       </td></tr>\n",
       "\t<tr><td>beer  </td><td> -4.7752300</td><td>per_g     </td></tr>\n",
       "\t<tr><td>beer  </td><td> -6.1274857</td><td>ad_valorem</td></tr>\n",
       "\t<tr><td>wine  </td><td>  7.2053408</td><td>excise    </td></tr>\n",
       "\t<tr><td>wine  </td><td>-10.1151764</td><td>net       </td></tr>\n",
       "\t<tr><td>wine  </td><td>-15.8275622</td><td>per_g     </td></tr>\n",
       "\t<tr><td>wine  </td><td>-16.2206854</td><td>ad_valorem</td></tr>\n",
       "\t<tr><td>spirit</td><td>  6.5125153</td><td>excise    </td></tr>\n",
       "\t<tr><td>spirit</td><td>-10.1151764</td><td>net       </td></tr>\n",
       "\t<tr><td>spirit</td><td>  0.8097696</td><td>per_g     </td></tr>\n",
       "\t<tr><td>spirit</td><td>-10.1644351</td><td>ad_valorem</td></tr>\n",
       "</tbody>\n",
       "</table>\n"
      ],
      "text/latex": [
       "A data.frame: 12 × 3\n",
       "\\begin{tabular}{lll}\n",
       " type & stat & tax\\_type\\\\\n",
       " <fct> & <dbl> & <fct>\\\\\n",
       "\\hline\n",
       "\t beer   &  -1.4509359 & excise    \\\\\n",
       "\t beer   & -10.1151764 & net       \\\\\n",
       "\t beer   &  -4.7752300 & per\\_g     \\\\\n",
       "\t beer   &  -6.1274857 & ad\\_valorem\\\\\n",
       "\t wine   &   7.2053408 & excise    \\\\\n",
       "\t wine   & -10.1151764 & net       \\\\\n",
       "\t wine   & -15.8275622 & per\\_g     \\\\\n",
       "\t wine   & -16.2206854 & ad\\_valorem\\\\\n",
       "\t spirit &   6.5125153 & excise    \\\\\n",
       "\t spirit & -10.1151764 & net       \\\\\n",
       "\t spirit &   0.8097696 & per\\_g     \\\\\n",
       "\t spirit & -10.1644351 & ad\\_valorem\\\\\n",
       "\\end{tabular}\n"
      ],
      "text/markdown": [
       "\n",
       "A data.frame: 12 × 3\n",
       "\n",
       "| type &lt;fct&gt; | stat &lt;dbl&gt; | tax_type &lt;fct&gt; |\n",
       "|---|---|---|\n",
       "| beer   |  -1.4509359 | excise     |\n",
       "| beer   | -10.1151764 | net        |\n",
       "| beer   |  -4.7752300 | per_g      |\n",
       "| beer   |  -6.1274857 | ad_valorem |\n",
       "| wine   |   7.2053408 | excise     |\n",
       "| wine   | -10.1151764 | net        |\n",
       "| wine   | -15.8275622 | per_g      |\n",
       "| wine   | -16.2206854 | ad_valorem |\n",
       "| spirit |   6.5125153 | excise     |\n",
       "| spirit | -10.1151764 | net        |\n",
       "| spirit |   0.8097696 | per_g      |\n",
       "| spirit | -10.1644351 | ad_valorem |\n",
       "\n"
      ],
      "text/plain": [
       "   type   stat        tax_type  \n",
       "1  beer    -1.4509359 excise    \n",
       "2  beer   -10.1151764 net       \n",
       "3  beer    -4.7752300 per_g     \n",
       "4  beer    -6.1274857 ad_valorem\n",
       "5  wine     7.2053408 excise    \n",
       "6  wine   -10.1151764 net       \n",
       "7  wine   -15.8275622 per_g     \n",
       "8  wine   -16.2206854 ad_valorem\n",
       "9  spirit   6.5125153 excise    \n",
       "10 spirit -10.1151764 net       \n",
       "11 spirit   0.8097696 per_g     \n",
       "12 spirit -10.1644351 ad_valorem"
      ]
     },
     "metadata": {},
     "output_type": "display_data"
    }
   ],
   "source": [
    "# There are three types of alcohol taxes - beer, wine and spirits.\n",
    "# For each type of alcohol, there are four tax variables. In the case of beer:\n",
    "# 'cbeertex' - Beer excise tax rates\n",
    "# 'cbeerp' - Net-of-tax beer price per gallon\n",
    "# 'cbeert' - Beer taxes per gallon\n",
    "# 'cbeertav' - Beer ad valorem tax rates\n",
    "# The same applies for wine and spirits\n",
    "\n",
    "test_tbl = brfss_table %>% rename(st = state) %>% \n",
    "    left_join(state_tax[, c('year', 'st', 'cbeertex', 'cbeerp', 'cbeert', 'cbeertav',\n",
    "        'cwinetex', 'cwinep', 'cwinet', 'cwinetav',\n",
    "        'cspirtex', 'cspirp', 'cspirt', 'cspirtav')])\n",
    "\n",
    "tbl = test_tbl %>% filter(binging < 9)\n",
    "data_points = rep(0, 12)\n",
    "# we're storing the t-stastistics for each linear test\n",
    "data_points[1] = summary(lm(binging ~ cbeertex, data = tbl))$coefficients[2, 3]\n",
    "data_points[2] = summary(lm(binging ~ cbeerp, data = tbl))$coefficients[2, 3]\n",
    "data_points[3] = summary(lm(binging ~ cbeert, data = tbl))$coefficients[2, 3]\n",
    "data_points[4] = summary(lm(binging ~ cbeertav, data = tbl))$coefficients[2, 3]\n",
    "data_points[5] = summary(lm(binging ~ cwinetex, data = tbl))$coefficients[2, 3]\n",
    "data_points[6] = summary(lm(binging ~ cwinep, data = tbl))$coefficients[2, 3]\n",
    "data_points[7] = summary(lm(binging ~ cwinet, data = tbl))$coefficients[2, 3]\n",
    "data_points[8] = summary(lm(binging ~ cwinetav, data = tbl))$coefficients[2, 3]\n",
    "data_points[9] = summary(lm(binging ~ cspirtex, data = tbl))$coefficients[2, 3]\n",
    "data_points[10] = summary(lm(binging ~ cspirp, data = tbl))$coefficients[2, 3]\n",
    "data_points[11] = summary(lm(binging ~ cspirt, data = tbl))$coefficients[2, 3]\n",
    "data_points[12] = summary(lm(binging ~ cspirtav, data = tbl))$coefficients[2, 3]\n",
    "\n",
    "binge_tbl = data.frame(type = c(rep('beer', 4), rep('wine', 4), rep('spirit', 4)), \n",
    "    stat = data_points, tax_type = rep(c('excise', 'net', 'per_g', 'ad_valorem'), 3))\n",
    "\n",
    "tbl = test_tbl %>% filter(heavy_drink < 9)\n",
    "data_points = rep(0, 12)\n",
    "data_points[1] = summary(lm(heavy_drink ~ cbeertex, data = tbl))$coefficients[2, 3]\n",
    "data_points[2] = summary(lm(heavy_drink ~ cbeerp, data = tbl))$coefficients[2, 3]\n",
    "data_points[3] = summary(lm(heavy_drink ~ cbeert, data = tbl))$coefficients[2, 3]\n",
    "data_points[4] = summary(lm(heavy_drink ~ cbeertav, data = tbl))$coefficients[2, 3]\n",
    "data_points[5] = summary(lm(heavy_drink ~ cwinetex, data = tbl))$coefficients[2, 3]\n",
    "data_points[6] = summary(lm(heavy_drink ~ cwinep, data = tbl))$coefficients[2, 3]\n",
    "data_points[7] = summary(lm(heavy_drink ~ cwinet, data = tbl))$coefficients[2, 3]\n",
    "data_points[8] = summary(lm(heavy_drink ~ cwinetav, data = tbl))$coefficients[2, 3]\n",
    "data_points[9] = summary(lm(heavy_drink ~ cspirtex, data = tbl))$coefficients[2, 3]\n",
    "data_points[10] = summary(lm(heavy_drink ~ cspirp, data = tbl))$coefficients[2, 3]\n",
    "data_points[11] = summary(lm(heavy_drink ~ cspirt, data = tbl))$coefficients[2, 3]\n",
    "data_points[12] = summary(lm(heavy_drink ~ cspirtav, data = tbl))$coefficients[2, 3]\n",
    "\n",
    "heavy_tbl = data.frame(type = c(rep('beer', 4), rep('wine', 4), rep('spirit', 4)), \n",
    "    stat = data_points, tax_type = rep(c('excise', 'net', 'per_g', 'ad_valorem'), 3))\n",
    "\n",
    "binge_tbl\n",
    "heavy_tbl"
   ]
  },
  {
   "cell_type": "code",
   "execution_count": 100,
   "metadata": {},
   "outputs": [
    {
     "data": {
      "image/png": "[encoded data removed]",
      "text/plain": [
       "plot without title"
      ]
     },
     "metadata": {
      "image/png": {
       "height": 240,
       "width": 480
      }
     },
     "output_type": "display_data"
    }
   ],
   "source": [
    "ggplot(binge_tbl, aes(x = factor(type), y = -stat, fill = factor(tax_type))) + \n",
    "    geom_bar(stat = 'identity', position = 'dodge')"
   ]
  },
  {
   "cell_type": "code",
   "execution_count": 99,
   "metadata": {},
   "outputs": [
    {
     "data": {
      "image/png": "[encoded data removed]",
      "text/plain": [
       "plot without title"
      ]
     },
     "metadata": {
      "image/png": {
       "height": 240,
       "width": 480
      }
     },
     "output_type": "display_data"
    }
   ],
   "source": [
    "ggplot(heavy_tbl, aes(x = factor(type), y = -stat, fill = factor(tax_type))) + \n",
    "    geom_bar(stat = 'identity', position = 'dodge')"
   ]
  },
  {
   "cell_type": "markdown",
   "metadata": {},
   "source": [
    "### Conclusion: in general, beer taxes have larger correlation with binge drinking, while wine taxes have larger correlation with heavy drinking. However, a better understanding of what 4 different types of taxes do (and which states implement them) is needed."
   ]
  },
  {
   "cell_type": "markdown",
   "metadata": {},
   "source": [
    "## Question: are there any interventions that appear to affect behavioral risk factors?\n",
    "\n",
    "This question gets the closest to the stated goal of this project. In order to do this, we'll actually have to look at the time-series data and identify 'interventions' that occurred at state-level. Let's go back to the parks & rec spending.\n",
    "\n",
    "Let's first identify states that had 'interventions': states that had a significant change in this field over the time we are studying"
   ]
  },
  {
   "cell_type": "code",
   "execution_count": 35,
   "metadata": {},
   "outputs": [
    {
     "name": "stderr",
     "output_type": "stream",
     "text": [
      "`summarise()` ungrouping output (override with `.groups` argument)\n",
      "\n",
      "`summarise()` ungrouping output (override with `.groups` argument)\n",
      "\n"
     ]
    }
   ],
   "source": [
    "max_spend = state_spending %>% drop_na(aparkpi) %>% group_by(st) %>% summarize(max(aparkpi))\n",
    "min_spend = state_spending %>% drop_na(aparkpi) %>% group_by(st) %>% summarize(min(aparkpi))"
   ]
  },
  {
   "cell_type": "code",
   "execution_count": 47,
   "metadata": {},
   "outputs": [],
   "source": [
    "combined = cbind(max_spend, min_spend)[, c(1, 2, 4)]\n",
    "combined$diff = combined[,2] - combined[,3]\n",
    "combined = combined %>% arrange(desc(diff))"
   ]
  },
  {
   "cell_type": "code",
   "execution_count": 56,
   "metadata": {},
   "outputs": [
    {
     "data": {
      "text/html": [
       "<table>\n",
       "<caption>A data.frame: 10 × 4</caption>\n",
       "<thead>\n",
       "\t<tr><th></th><th scope=col>st</th><th scope=col>max(aparkpi)</th><th scope=col>min(aparkpi)</th><th scope=col>diff</th></tr>\n",
       "\t<tr><th></th><th scope=col>&lt;chr&gt;</th><th scope=col>&lt;dbl&gt;</th><th scope=col>&lt;dbl&gt;</th><th scope=col>&lt;dbl&gt;</th></tr>\n",
       "</thead>\n",
       "<tbody>\n",
       "\t<tr><th scope=row>1</th><td>AZ</td><td>0.00629511</td><td>0.00235514</td><td>0.00393997</td></tr>\n",
       "\t<tr><th scope=row>2</th><td>CO</td><td>0.00721305</td><td>0.00419727</td><td>0.00301578</td></tr>\n",
       "\t<tr><th scope=row>3</th><td>AK</td><td>0.00573851</td><td>0.00283452</td><td>0.00290399</td></tr>\n",
       "\t<tr><th scope=row>4</th><td>NV</td><td>0.00755669</td><td>0.00493620</td><td>0.00262049</td></tr>\n",
       "\t<tr><th scope=row>5</th><td>NE</td><td>0.00472166</td><td>0.00241370</td><td>0.00230796</td></tr>\n",
       "\t<tr><th scope=row>6</th><td>ND</td><td>0.00647063</td><td>0.00416624</td><td>0.00230439</td></tr>\n",
       "\t<tr><th scope=row>7</th><td>IN</td><td>0.00383087</td><td>0.00153526</td><td>0.00229561</td></tr>\n",
       "\t<tr><th scope=row>8</th><td>MN</td><td>0.00555489</td><td>0.00383617</td><td>0.00171872</td></tr>\n",
       "\t<tr><th scope=row>9</th><td>MD</td><td>0.00421059</td><td>0.00249513</td><td>0.00171546</td></tr>\n",
       "\t<tr><th scope=row>10</th><td>MO</td><td>0.00417350</td><td>0.00246438</td><td>0.00170912</td></tr>\n",
       "</tbody>\n",
       "</table>\n"
      ],
      "text/latex": [
       "A data.frame: 10 × 4\n",
       "\\begin{tabular}{r|llll}\n",
       "  & st & max(aparkpi) & min(aparkpi) & diff\\\\\n",
       "  & <chr> & <dbl> & <dbl> & <dbl>\\\\\n",
       "\\hline\n",
       "\t1 & AZ & 0.00629511 & 0.00235514 & 0.00393997\\\\\n",
       "\t2 & CO & 0.00721305 & 0.00419727 & 0.00301578\\\\\n",
       "\t3 & AK & 0.00573851 & 0.00283452 & 0.00290399\\\\\n",
       "\t4 & NV & 0.00755669 & 0.00493620 & 0.00262049\\\\\n",
       "\t5 & NE & 0.00472166 & 0.00241370 & 0.00230796\\\\\n",
       "\t6 & ND & 0.00647063 & 0.00416624 & 0.00230439\\\\\n",
       "\t7 & IN & 0.00383087 & 0.00153526 & 0.00229561\\\\\n",
       "\t8 & MN & 0.00555489 & 0.00383617 & 0.00171872\\\\\n",
       "\t9 & MD & 0.00421059 & 0.00249513 & 0.00171546\\\\\n",
       "\t10 & MO & 0.00417350 & 0.00246438 & 0.00170912\\\\\n",
       "\\end{tabular}\n"
      ],
      "text/markdown": [
       "\n",
       "A data.frame: 10 × 4\n",
       "\n",
       "| <!--/--> | st &lt;chr&gt; | max(aparkpi) &lt;dbl&gt; | min(aparkpi) &lt;dbl&gt; | diff &lt;dbl&gt; |\n",
       "|---|---|---|---|---|\n",
       "| 1 | AZ | 0.00629511 | 0.00235514 | 0.00393997 |\n",
       "| 2 | CO | 0.00721305 | 0.00419727 | 0.00301578 |\n",
       "| 3 | AK | 0.00573851 | 0.00283452 | 0.00290399 |\n",
       "| 4 | NV | 0.00755669 | 0.00493620 | 0.00262049 |\n",
       "| 5 | NE | 0.00472166 | 0.00241370 | 0.00230796 |\n",
       "| 6 | ND | 0.00647063 | 0.00416624 | 0.00230439 |\n",
       "| 7 | IN | 0.00383087 | 0.00153526 | 0.00229561 |\n",
       "| 8 | MN | 0.00555489 | 0.00383617 | 0.00171872 |\n",
       "| 9 | MD | 0.00421059 | 0.00249513 | 0.00171546 |\n",
       "| 10 | MO | 0.00417350 | 0.00246438 | 0.00170912 |\n",
       "\n"
      ],
      "text/plain": [
       "   st max(aparkpi) min(aparkpi) diff      \n",
       "1  AZ 0.00629511   0.00235514   0.00393997\n",
       "2  CO 0.00721305   0.00419727   0.00301578\n",
       "3  AK 0.00573851   0.00283452   0.00290399\n",
       "4  NV 0.00755669   0.00493620   0.00262049\n",
       "5  NE 0.00472166   0.00241370   0.00230796\n",
       "6  ND 0.00647063   0.00416624   0.00230439\n",
       "7  IN 0.00383087   0.00153526   0.00229561\n",
       "8  MN 0.00555489   0.00383617   0.00171872\n",
       "9  MD 0.00421059   0.00249513   0.00171546\n",
       "10 MO 0.00417350   0.00246438   0.00170912"
      ]
     },
     "metadata": {},
     "output_type": "display_data"
    }
   ],
   "source": [
    "head(combined, 10)"
   ]
  },
  {
   "cell_type": "markdown",
   "metadata": {},
   "source": [
    "Looks like there was a pretty big change for Arizona - let's take a look at this in more detail:"
   ]
  },
  {
   "cell_type": "code",
   "execution_count": 50,
   "metadata": {},
   "outputs": [
    {
     "data": {
      "image/png": "[encoded data removed]",
      "text/plain": [
       "plot without title"
      ]
     },
     "metadata": {
      "image/png": {
       "height": 240,
       "width": 480
      }
     },
     "output_type": "display_data"
    }
   ],
   "source": [
    "ggplot(state_spending %>% drop_na(aparkpi) %>% filter(st == 'AZ'), aes(x = year, y = aparkpi)) + geom_line()"
   ]
  },
  {
   "cell_type": "markdown",
   "metadata": {},
   "source": [
    "Arizona had a pretty big cut in its parks & rec spending over this period. Unfortunately, this was a period of big economic downturn and it was hard to find states that actually raised this spending. North Dakota was one prominent exception:"
   ]
  },
  {
   "cell_type": "code",
   "execution_count": 81,
   "metadata": {},
   "outputs": [
    {
     "data": {
      "image/png": "[encoded data removed]",
      "text/plain": [
       "plot without title"
      ]
     },
     "metadata": {
      "image/png": {
       "height": 240,
       "width": 480
      }
     },
     "output_type": "display_data"
    }
   ],
   "source": [
    "ggplot(state_spending %>% drop_na(aparkpi) %>% filter(st == 'ND'), aes(x = year, y = aparkpi)) + geom_line()"
   ]
  },
  {
   "cell_type": "code",
   "execution_count": 84,
   "metadata": {},
   "outputs": [
    {
     "data": {
      "image/png": "[encoded data removed]",
      "text/plain": [
       "plot without title"
      ]
     },
     "metadata": {
      "image/png": {
       "height": 240,
       "width": 480
      }
     },
     "output_type": "display_data"
    }
   ],
   "source": [
    "cols_eval = c('year', 'exercise')\n",
    "plot_df = brfss_table %>% filter(exercise < 9)\n",
    "# ggplot(plot_df, aes(x = year, fill = factor(exercise))) + geom_bar(position = 'dodge')\n",
    "counts_df = plot_df %>% count(year)\n",
    "counts_df_AZ = plot_df %>% filter(state == 'AZ') %>% count(year)\n",
    "counts_df_ND = plot_df %>% filter(state == 'ND') %>% count(year)\n",
    "\n",
    "proportion_plot_df = rbind(\n",
    "    data.frame(area = 'US', year = counts_df$year,\n",
    "        proportion = sapply(counts_df$year, function(x) {nrow(plot_df %>% filter(year == x, exercise == 1))}) / counts_df$n),\n",
    "    data.frame(area = 'AZ', year = counts_df_AZ$year,\n",
    "        proportion = sapply(counts_df_AZ$year, function(x) {nrow(plot_df %>% filter(year == x, state == 'AZ', exercise == 1))}) / counts_df_AZ$n),\n",
    "    data.frame(area = 'ND', year = counts_df_ND$year,\n",
    "        proportion = sapply(counts_df_ND$year, function(x) {nrow(plot_df %>% filter(year == x, state == 'ND', exercise == 1))}) / counts_df_ND$n)\n",
    ")\n",
    "\n",
    "ggplot(proportion_plot_df, aes(x = year, y = proportion, color = factor(area))) + geom_line()"
   ]
  },
  {
   "cell_type": "markdown",
   "metadata": {},
   "source": [
    "It is hard to say - if anything, there doesn't seem to be a significant difference in the trajectories for AZ and ND, as well as US in general. Low sample size could be an issue, and we also would expect interventions to have an effect after a time delay. For the project, a wider scan for multiple policies and multiple health behaviors using more proper models would need to be employed."
   ]
  },
  {
   "cell_type": "markdown",
   "metadata": {},
   "source": [
    "### Conclusion: in order to properly establish evidence of 'intervention' having an effect, a more proper model (for example, time-series logistic regression analysis) needs to be used. However, this exploratory analysis demonstrates the direction I'm planning to take this capstone project."
   ]
  },
  {
   "cell_type": "code",
   "execution_count": null,
   "metadata": {},
   "outputs": [],
   "source": []
  }
 ],
 "metadata": {
  "kernelspec": {
   "display_name": "R",
   "language": "R",
   "name": "ir"
  },
  "language_info": {
   "codemirror_mode": "r",
   "file_extension": ".r",
   "mimetype": "text/x-r-source",
   "name": "R",
   "pygments_lexer": "r",
   "version": "3.6.1"
  }
 },
 "nbformat": 4,
 "nbformat_minor": 4
}
