{
 "cells": [
  {
   "cell_type": "markdown",
   "metadata": {},
   "source": [
    "# Part 2 - Data challenge"
   ]
  },
  {
   "cell_type": "code",
   "execution_count": 2,
   "metadata": {},
   "outputs": [],
   "source": [
    "library(tidyverse)\n",
    "library(lubridate)"
   ]
  },
  {
   "cell_type": "code",
   "execution_count": 3,
   "metadata": {},
   "outputs": [
    {
     "data": {
      "text/html": [
       "<style>\n",
       ".list-inline {list-style: none; margin:0; padding: 0}\n",
       ".list-inline>li {display: inline-block}\n",
       ".list-inline>li:not(:last-child)::after {content: \"\\00b7\"; padding: 0 .5ex}\n",
       "</style>\n",
       "<ol class=list-inline><li>2518758</li><li>24</li></ol>\n"
      ],
      "text/latex": [
       "\\begin{enumerate*}\n",
       "\\item 2518758\n",
       "\\item 24\n",
       "\\end{enumerate*}\n"
      ],
      "text/markdown": [
       "1. 2518758\n",
       "2. 24\n",
       "\n",
       "\n"
      ],
      "text/plain": [
       "[1] 2518758      24"
      ]
     },
     "metadata": {},
     "output_type": "display_data"
    },
    {
     "data": {
      "text/html": [
       "<table>\n",
       "<caption>A data.frame: 6 × 24</caption>\n",
       "<thead>\n",
       "\t<tr><th></th><th scope=col>IM_INCIDENT_KEY</th><th scope=col>FIRE_BOX</th><th scope=col>INCIDENT_TYPE_DESC</th><th scope=col>INCIDENT_DATE_TIME</th><th scope=col>ARRIVAL_DATE_TIME</th><th scope=col>UNITS_ONSCENE</th><th scope=col>LAST_UNIT_CLEARED_DATE_TIME</th><th scope=col>HIGHEST_LEVEL_DESC</th><th scope=col>TOTAL_INCIDENT_DURATION</th><th scope=col>ACTION_TAKEN1_DESC</th><th scope=col>...</th><th scope=col>ZIP_CODE</th><th scope=col>BOROUGH_DESC</th><th scope=col>FLOOR</th><th scope=col>CO_DETECTOR_PRESENT_DESC</th><th scope=col>FIRE_ORIGIN_BELOW_GRADE_FLAG</th><th scope=col>STORY_FIRE_ORIGIN_COUNT</th><th scope=col>FIRE_SPREAD_DESC</th><th scope=col>DETECTOR_PRESENCE_DESC</th><th scope=col>AES_PRESENCE_DESC</th><th scope=col>STANDPIPE_SYS_PRESENT_FLAG</th></tr>\n",
       "\t<tr><th></th><th scope=col>&lt;int&gt;</th><th scope=col>&lt;chr&gt;</th><th scope=col>&lt;chr&gt;</th><th scope=col>&lt;chr&gt;</th><th scope=col>&lt;chr&gt;</th><th scope=col>&lt;int&gt;</th><th scope=col>&lt;chr&gt;</th><th scope=col>&lt;chr&gt;</th><th scope=col>&lt;int&gt;</th><th scope=col>&lt;chr&gt;</th><th scope=col>...</th><th scope=col>&lt;chr&gt;</th><th scope=col>&lt;chr&gt;</th><th scope=col>&lt;chr&gt;</th><th scope=col>&lt;chr&gt;</th><th scope=col>&lt;int&gt;</th><th scope=col>&lt;int&gt;</th><th scope=col>&lt;chr&gt;</th><th scope=col>&lt;chr&gt;</th><th scope=col>&lt;chr&gt;</th><th scope=col>&lt;int&gt;</th></tr>\n",
       "</thead>\n",
       "<tbody>\n",
       "\t<tr><th scope=row>1</th><td>55672688</td><td>2147</td><td>300 - Rescue, EMS incident, other                           </td><td>01/01/2013 12:00:20 AM</td><td>01/01/2013 12:14:23 AM</td><td>1</td><td>01/01/2013 12:20:06 AM</td><td>1 - More than initial alarm, less than Signal 7-5</td><td>1186</td><td>00 - Action taken, other                           </td><td>...</td><td>10454</td><td>2 - Bronx    </td><td> </td><td></td><td>NA</td><td>NA</td><td></td><td></td><td></td><td>NA</td></tr>\n",
       "\t<tr><th scope=row>2</th><td>55672692</td><td>0818</td><td>735A - Unwarranted alarm/defective condition of alarm system</td><td>01/01/2013 12:00:37 AM</td><td>01/01/2013 12:09:03 AM</td><td>3</td><td>01/01/2013 12:30:06 AM</td><td>1 - More than initial alarm, less than Signal 7-5</td><td>1769</td><td>86 - Investigate                                   </td><td>...</td><td>10036</td><td>1 - Manhattan</td><td> </td><td></td><td>NA</td><td>NA</td><td></td><td></td><td></td><td>NA</td></tr>\n",
       "\t<tr><th scope=row>3</th><td>55672693</td><td>9656</td><td>300 - Rescue, EMS incident, other                           </td><td>01/01/2013 12:01:17 AM</td><td>01/01/2013 12:04:55 AM</td><td>1</td><td>01/01/2013 12:15:18 AM</td><td>1 - More than initial alarm, less than Signal 7-5</td><td> 841</td><td>00 - Action taken, other                           </td><td>...</td><td>11418</td><td>5 - Queens   </td><td> </td><td></td><td>NA</td><td>NA</td><td></td><td></td><td></td><td>NA</td></tr>\n",
       "\t<tr><th scope=row>4</th><td>55672695</td><td>7412</td><td><span style=white-space:pre-wrap>412 - Gas leak (natural gas or LPG)                         </span></td><td>01/01/2013 12:02:32 AM</td><td>01/01/2013 12:07:48 AM</td><td>4</td><td>01/01/2013 12:40:11 AM</td><td>1 - More than initial alarm, less than Signal 7-5</td><td>2259</td><td>44 - Hazardous materials leak control &amp; containment</td><td>...</td><td>11103</td><td><span style=white-space:pre-wrap>5 - Queens   </span></td><td>1</td><td></td><td>NA</td><td>NA</td><td></td><td></td><td></td><td>NA</td></tr>\n",
       "\t<tr><th scope=row>5</th><td>55672697</td><td>4019</td><td>735A - Unwarranted alarm/defective condition of alarm system</td><td>01/01/2013 12:01:49 AM</td><td>01/01/2013 12:06:27 AM</td><td>6</td><td>01/01/2013 12:24:56 AM</td><td>1 - More than initial alarm, less than Signal 7-5</td><td>1387</td><td>86 - Investigate                                   </td><td>...</td><td>11385</td><td>5 - Queens   </td><td> </td><td></td><td>NA</td><td>NA</td><td></td><td></td><td></td><td>NA</td></tr>\n",
       "\t<tr><th scope=row>6</th><td>55672698</td><td>1328</td><td>735A - Unwarranted alarm/defective condition of alarm system</td><td>01/01/2013 12:02:45 AM</td><td>01/01/2013 12:07:55 AM</td><td>3</td><td>01/01/2013 12:18:20 AM</td><td>1 - More than initial alarm, less than Signal 7-5</td><td> 935</td><td>86 - Investigate                                   </td><td>...</td><td>11215</td><td>4 - Brooklyn </td><td> </td><td></td><td>NA</td><td>NA</td><td></td><td></td><td></td><td>NA</td></tr>\n",
       "</tbody>\n",
       "</table>\n"
      ],
      "text/latex": [
       "A data.frame: 6 × 24\n",
       "\\begin{tabular}{r|lllllllllllllllllllll}\n",
       "  & IM\\_INCIDENT\\_KEY & FIRE\\_BOX & INCIDENT\\_TYPE\\_DESC & INCIDENT\\_DATE\\_TIME & ARRIVAL\\_DATE\\_TIME & UNITS\\_ONSCENE & LAST\\_UNIT\\_CLEARED\\_DATE\\_TIME & HIGHEST\\_LEVEL\\_DESC & TOTAL\\_INCIDENT\\_DURATION & ACTION\\_TAKEN1\\_DESC & ... & ZIP\\_CODE & BOROUGH\\_DESC & FLOOR & CO\\_DETECTOR\\_PRESENT\\_DESC & FIRE\\_ORIGIN\\_BELOW\\_GRADE\\_FLAG & STORY\\_FIRE\\_ORIGIN\\_COUNT & FIRE\\_SPREAD\\_DESC & DETECTOR\\_PRESENCE\\_DESC & AES\\_PRESENCE\\_DESC & STANDPIPE\\_SYS\\_PRESENT\\_FLAG\\\\\n",
       "  & <int> & <chr> & <chr> & <chr> & <chr> & <int> & <chr> & <chr> & <int> & <chr> & ... & <chr> & <chr> & <chr> & <chr> & <int> & <int> & <chr> & <chr> & <chr> & <int>\\\\\n",
       "\\hline\n",
       "\t1 & 55672688 & 2147 & 300 - Rescue, EMS incident, other                            & 01/01/2013 12:00:20 AM & 01/01/2013 12:14:23 AM & 1 & 01/01/2013 12:20:06 AM & 1 - More than initial alarm, less than Signal 7-5 & 1186 & 00 - Action taken, other                            & ... & 10454 & 2 - Bronx     &   &  & NA & NA &  &  &  & NA\\\\\n",
       "\t2 & 55672692 & 0818 & 735A - Unwarranted alarm/defective condition of alarm system & 01/01/2013 12:00:37 AM & 01/01/2013 12:09:03 AM & 3 & 01/01/2013 12:30:06 AM & 1 - More than initial alarm, less than Signal 7-5 & 1769 & 86 - Investigate                                    & ... & 10036 & 1 - Manhattan &   &  & NA & NA &  &  &  & NA\\\\\n",
       "\t3 & 55672693 & 9656 & 300 - Rescue, EMS incident, other                            & 01/01/2013 12:01:17 AM & 01/01/2013 12:04:55 AM & 1 & 01/01/2013 12:15:18 AM & 1 - More than initial alarm, less than Signal 7-5 &  841 & 00 - Action taken, other                            & ... & 11418 & 5 - Queens    &   &  & NA & NA &  &  &  & NA\\\\\n",
       "\t4 & 55672695 & 7412 & 412 - Gas leak (natural gas or LPG)                          & 01/01/2013 12:02:32 AM & 01/01/2013 12:07:48 AM & 4 & 01/01/2013 12:40:11 AM & 1 - More than initial alarm, less than Signal 7-5 & 2259 & 44 - Hazardous materials leak control \\& containment & ... & 11103 & 5 - Queens    & 1 &  & NA & NA &  &  &  & NA\\\\\n",
       "\t5 & 55672697 & 4019 & 735A - Unwarranted alarm/defective condition of alarm system & 01/01/2013 12:01:49 AM & 01/01/2013 12:06:27 AM & 6 & 01/01/2013 12:24:56 AM & 1 - More than initial alarm, less than Signal 7-5 & 1387 & 86 - Investigate                                    & ... & 11385 & 5 - Queens    &   &  & NA & NA &  &  &  & NA\\\\\n",
       "\t6 & 55672698 & 1328 & 735A - Unwarranted alarm/defective condition of alarm system & 01/01/2013 12:02:45 AM & 01/01/2013 12:07:55 AM & 3 & 01/01/2013 12:18:20 AM & 1 - More than initial alarm, less than Signal 7-5 &  935 & 86 - Investigate                                    & ... & 11215 & 4 - Brooklyn  &   &  & NA & NA &  &  &  & NA\\\\\n",
       "\\end{tabular}\n"
      ],
      "text/markdown": [
       "\n",
       "A data.frame: 6 × 24\n",
       "\n",
       "| <!--/--> | IM_INCIDENT_KEY &lt;int&gt; | FIRE_BOX &lt;chr&gt; | INCIDENT_TYPE_DESC &lt;chr&gt; | INCIDENT_DATE_TIME &lt;chr&gt; | ARRIVAL_DATE_TIME &lt;chr&gt; | UNITS_ONSCENE &lt;int&gt; | LAST_UNIT_CLEARED_DATE_TIME &lt;chr&gt; | HIGHEST_LEVEL_DESC &lt;chr&gt; | TOTAL_INCIDENT_DURATION &lt;int&gt; | ACTION_TAKEN1_DESC &lt;chr&gt; | ... ... | ZIP_CODE &lt;chr&gt; | BOROUGH_DESC &lt;chr&gt; | FLOOR &lt;chr&gt; | CO_DETECTOR_PRESENT_DESC &lt;chr&gt; | FIRE_ORIGIN_BELOW_GRADE_FLAG &lt;int&gt; | STORY_FIRE_ORIGIN_COUNT &lt;int&gt; | FIRE_SPREAD_DESC &lt;chr&gt; | DETECTOR_PRESENCE_DESC &lt;chr&gt; | AES_PRESENCE_DESC &lt;chr&gt; | STANDPIPE_SYS_PRESENT_FLAG &lt;int&gt; |\n",
       "|---|---|---|---|---|---|---|---|---|---|---|---|---|---|---|---|---|---|---|---|---|---|\n",
       "| 1 | 55672688 | 2147 | 300 - Rescue, EMS incident, other                            | 01/01/2013 12:00:20 AM | 01/01/2013 12:14:23 AM | 1 | 01/01/2013 12:20:06 AM | 1 - More than initial alarm, less than Signal 7-5 | 1186 | 00 - Action taken, other                            | ... | 10454 | 2 - Bronx     | <!----> | <!----> | NA | NA | <!----> | <!----> | <!----> | NA |\n",
       "| 2 | 55672692 | 0818 | 735A - Unwarranted alarm/defective condition of alarm system | 01/01/2013 12:00:37 AM | 01/01/2013 12:09:03 AM | 3 | 01/01/2013 12:30:06 AM | 1 - More than initial alarm, less than Signal 7-5 | 1769 | 86 - Investigate                                    | ... | 10036 | 1 - Manhattan | <!----> | <!----> | NA | NA | <!----> | <!----> | <!----> | NA |\n",
       "| 3 | 55672693 | 9656 | 300 - Rescue, EMS incident, other                            | 01/01/2013 12:01:17 AM | 01/01/2013 12:04:55 AM | 1 | 01/01/2013 12:15:18 AM | 1 - More than initial alarm, less than Signal 7-5 |  841 | 00 - Action taken, other                            | ... | 11418 | 5 - Queens    | <!----> | <!----> | NA | NA | <!----> | <!----> | <!----> | NA |\n",
       "| 4 | 55672695 | 7412 | 412 - Gas leak (natural gas or LPG)                          | 01/01/2013 12:02:32 AM | 01/01/2013 12:07:48 AM | 4 | 01/01/2013 12:40:11 AM | 1 - More than initial alarm, less than Signal 7-5 | 2259 | 44 - Hazardous materials leak control &amp; containment | ... | 11103 | 5 - Queens    | 1 | <!----> | NA | NA | <!----> | <!----> | <!----> | NA |\n",
       "| 5 | 55672697 | 4019 | 735A - Unwarranted alarm/defective condition of alarm system | 01/01/2013 12:01:49 AM | 01/01/2013 12:06:27 AM | 6 | 01/01/2013 12:24:56 AM | 1 - More than initial alarm, less than Signal 7-5 | 1387 | 86 - Investigate                                    | ... | 11385 | 5 - Queens    | <!----> | <!----> | NA | NA | <!----> | <!----> | <!----> | NA |\n",
       "| 6 | 55672698 | 1328 | 735A - Unwarranted alarm/defective condition of alarm system | 01/01/2013 12:02:45 AM | 01/01/2013 12:07:55 AM | 3 | 01/01/2013 12:18:20 AM | 1 - More than initial alarm, less than Signal 7-5 |  935 | 86 - Investigate                                    | ... | 11215 | 4 - Brooklyn  | <!----> | <!----> | NA | NA | <!----> | <!----> | <!----> | NA |\n",
       "\n"
      ],
      "text/plain": [
       "  IM_INCIDENT_KEY FIRE_BOX\n",
       "1 55672688        2147    \n",
       "2 55672692        0818    \n",
       "3 55672693        9656    \n",
       "4 55672695        7412    \n",
       "5 55672697        4019    \n",
       "6 55672698        1328    \n",
       "  INCIDENT_TYPE_DESC                                          \n",
       "1 300 - Rescue, EMS incident, other                           \n",
       "2 735A - Unwarranted alarm/defective condition of alarm system\n",
       "3 300 - Rescue, EMS incident, other                           \n",
       "4 412 - Gas leak (natural gas or LPG)                         \n",
       "5 735A - Unwarranted alarm/defective condition of alarm system\n",
       "6 735A - Unwarranted alarm/defective condition of alarm system\n",
       "  INCIDENT_DATE_TIME     ARRIVAL_DATE_TIME      UNITS_ONSCENE\n",
       "1 01/01/2013 12:00:20 AM 01/01/2013 12:14:23 AM 1            \n",
       "2 01/01/2013 12:00:37 AM 01/01/2013 12:09:03 AM 3            \n",
       "3 01/01/2013 12:01:17 AM 01/01/2013 12:04:55 AM 1            \n",
       "4 01/01/2013 12:02:32 AM 01/01/2013 12:07:48 AM 4            \n",
       "5 01/01/2013 12:01:49 AM 01/01/2013 12:06:27 AM 6            \n",
       "6 01/01/2013 12:02:45 AM 01/01/2013 12:07:55 AM 3            \n",
       "  LAST_UNIT_CLEARED_DATE_TIME HIGHEST_LEVEL_DESC                               \n",
       "1 01/01/2013 12:20:06 AM      1 - More than initial alarm, less than Signal 7-5\n",
       "2 01/01/2013 12:30:06 AM      1 - More than initial alarm, less than Signal 7-5\n",
       "3 01/01/2013 12:15:18 AM      1 - More than initial alarm, less than Signal 7-5\n",
       "4 01/01/2013 12:40:11 AM      1 - More than initial alarm, less than Signal 7-5\n",
       "5 01/01/2013 12:24:56 AM      1 - More than initial alarm, less than Signal 7-5\n",
       "6 01/01/2013 12:18:20 AM      1 - More than initial alarm, less than Signal 7-5\n",
       "  TOTAL_INCIDENT_DURATION ACTION_TAKEN1_DESC                                 \n",
       "1 1186                    00 - Action taken, other                           \n",
       "2 1769                    86 - Investigate                                   \n",
       "3  841                    00 - Action taken, other                           \n",
       "4 2259                    44 - Hazardous materials leak control & containment\n",
       "5 1387                    86 - Investigate                                   \n",
       "6  935                    86 - Investigate                                   \n",
       "  ... ZIP_CODE BOROUGH_DESC  FLOOR CO_DETECTOR_PRESENT_DESC\n",
       "1 ... 10454    2 - Bronx                                   \n",
       "2 ... 10036    1 - Manhattan                               \n",
       "3 ... 11418    5 - Queens                                  \n",
       "4 ... 11103    5 - Queens    1                             \n",
       "5 ... 11385    5 - Queens                                  \n",
       "6 ... 11215    4 - Brooklyn                                \n",
       "  FIRE_ORIGIN_BELOW_GRADE_FLAG STORY_FIRE_ORIGIN_COUNT FIRE_SPREAD_DESC\n",
       "1 NA                           NA                                      \n",
       "2 NA                           NA                                      \n",
       "3 NA                           NA                                      \n",
       "4 NA                           NA                                      \n",
       "5 NA                           NA                                      \n",
       "6 NA                           NA                                      \n",
       "  DETECTOR_PRESENCE_DESC AES_PRESENCE_DESC STANDPIPE_SYS_PRESENT_FLAG\n",
       "1                                          NA                        \n",
       "2                                          NA                        \n",
       "3                                          NA                        \n",
       "4                                          NA                        \n",
       "5                                          NA                        \n",
       "6                                          NA                        "
      ]
     },
     "metadata": {},
     "output_type": "display_data"
    }
   ],
   "source": [
    "# import data - we're using the FDNY dataset\n",
    "# https://data.cityofnewyork.us/Public-Safety/Incidents-Responded-to-by-Fire-Companies/tm6d-hbzd\n",
    "master_tbl = read.csv('../../Data/Data_Wrangling/Incidents_Responded_to_by_Fire_Companies.csv',\n",
    "    header = T, stringsAsFactors = F)\n",
    "dim(master_tbl)\n",
    "head(master_tbl)"
   ]
  },
  {
   "cell_type": "code",
   "execution_count": 4,
   "metadata": {},
   "outputs": [],
   "source": [
    "# Define some constants that will be used for this portion\n",
    "BFIRE = '111 - Building fire'\n",
    "SMOKE = '651 - Smoke scare, odor of smoke'\n",
    "MALIC = '710 - Malicious, mischievous false call, other'\n",
    "COOKF = '113 - Cooking fire, confined to container'\n",
    "# unique(master_tbl$BOROUGH_DESC)\n",
    "BOROS = c('1 - Manhattan', '2 - Bronx', '3 - Staten Island', '4 - Brooklyn',  '5 - Queens')"
   ]
  },
  {
   "cell_type": "code",
   "execution_count": 4,
   "metadata": {},
   "outputs": [
    {
     "data": {
      "text/html": [
       "182"
      ],
      "text/latex": [
       "182"
      ],
      "text/markdown": [
       "182"
      ],
      "text/plain": [
       "[1] 182"
      ]
     },
     "metadata": {},
     "output_type": "display_data"
    }
   ],
   "source": [
    "length(unique(master_tbl$INCIDENT_TYPE_DESC))"
   ]
  },
  {
   "cell_type": "code",
   "execution_count": 8,
   "metadata": {},
   "outputs": [
    {
     "data": {
      "text/html": [
       "<table>\n",
       "<caption>A data.frame: 6 × 2</caption>\n",
       "<thead>\n",
       "\t<tr><th></th><th scope=col>INCIDENT_TYPE_DESC</th><th scope=col>n</th></tr>\n",
       "\t<tr><th></th><th scope=col>&lt;chr&gt;</th><th scope=col>&lt;int&gt;</th></tr>\n",
       "</thead>\n",
       "<tbody>\n",
       "\t<tr><th scope=row>1</th><td>300 - Rescue, EMS incident, other               </td><td>906466</td></tr>\n",
       "\t<tr><th scope=row>2</th><td>651 - Smoke scare, odor of smoke                </td><td>161886</td></tr>\n",
       "\t<tr><th scope=row>3</th><td>353 - Removal of victim(s) from stalled elevator</td><td>131509</td></tr>\n",
       "\t<tr><th scope=row>4</th><td>710 - Malicious, mischievous false call, other  </td><td>129466</td></tr>\n",
       "\t<tr><th scope=row>5</th><td>522 - Water or steam leak                       </td><td>122716</td></tr>\n",
       "\t<tr><th scope=row>6</th><td>412 - Gas leak (natural gas or LPG)             </td><td>119324</td></tr>\n",
       "</tbody>\n",
       "</table>\n"
      ],
      "text/latex": [
       "A data.frame: 6 × 2\n",
       "\\begin{tabular}{r|ll}\n",
       "  & INCIDENT\\_TYPE\\_DESC & n\\\\\n",
       "  & <chr> & <int>\\\\\n",
       "\\hline\n",
       "\t1 & 300 - Rescue, EMS incident, other                & 906466\\\\\n",
       "\t2 & 651 - Smoke scare, odor of smoke                 & 161886\\\\\n",
       "\t3 & 353 - Removal of victim(s) from stalled elevator & 131509\\\\\n",
       "\t4 & 710 - Malicious, mischievous false call, other   & 129466\\\\\n",
       "\t5 & 522 - Water or steam leak                        & 122716\\\\\n",
       "\t6 & 412 - Gas leak (natural gas or LPG)              & 119324\\\\\n",
       "\\end{tabular}\n"
      ],
      "text/markdown": [
       "\n",
       "A data.frame: 6 × 2\n",
       "\n",
       "| <!--/--> | INCIDENT_TYPE_DESC &lt;chr&gt; | n &lt;int&gt; |\n",
       "|---|---|---|\n",
       "| 1 | 300 - Rescue, EMS incident, other                | 906466 |\n",
       "| 2 | 651 - Smoke scare, odor of smoke                 | 161886 |\n",
       "| 3 | 353 - Removal of victim(s) from stalled elevator | 131509 |\n",
       "| 4 | 710 - Malicious, mischievous false call, other   | 129466 |\n",
       "| 5 | 522 - Water or steam leak                        | 122716 |\n",
       "| 6 | 412 - Gas leak (natural gas or LPG)              | 119324 |\n",
       "\n"
      ],
      "text/plain": [
       "  INCIDENT_TYPE_DESC                               n     \n",
       "1 300 - Rescue, EMS incident, other                906466\n",
       "2 651 - Smoke scare, odor of smoke                 161886\n",
       "3 353 - Removal of victim(s) from stalled elevator 131509\n",
       "4 710 - Malicious, mischievous false call, other   129466\n",
       "5 522 - Water or steam leak                        122716\n",
       "6 412 - Gas leak (natural gas or LPG)              119324"
      ]
     },
     "metadata": {},
     "output_type": "display_data"
    },
    {
     "name": "stdout",
     "output_type": "stream",
     "text": [
      "[1] \"The most common type is: 300 - Rescue, EMS incident, other\"\n"
     ]
    },
    {
     "data": {
      "text/html": [
       "0.359886102595009"
      ],
      "text/latex": [
       "0.359886102595009"
      ],
      "text/markdown": [
       "0.359886102595009"
      ],
      "text/plain": [
       "[1] 0.3598861"
      ]
     },
     "metadata": {},
     "output_type": "display_data"
    }
   ],
   "source": [
    "# For all answers, I'm going to report up to 5 decimals, same as the coding challenge\n",
    "# Q1 - most common call proportion\n",
    "counter = master_tbl %>% count(INCIDENT_TYPE_DESC) %>% arrange(desc(n))\n",
    "head(counter)\n",
    "print(paste0('The most common type is: ', counter$INCIDENT_TYPE_DESC[1]))\n",
    "# Incident type 300 takes up about 36% of all rows\n",
    "counter$n[1] / nrow(master_tbl)"
   ]
  },
  {
   "cell_type": "code",
   "execution_count": 14,
   "metadata": {},
   "outputs": [
    {
     "data": {
      "text/html": [
       "14048"
      ],
      "text/latex": [
       "14048"
      ],
      "text/markdown": [
       "14048"
      ],
      "text/plain": [
       "[1] 14048"
      ]
     },
     "metadata": {},
     "output_type": "display_data"
    },
    {
     "data": {
      "text/html": [
       "160934"
      ],
      "text/latex": [
       "160934"
      ],
      "text/markdown": [
       "160934"
      ],
      "text/plain": [
       "[1] 160934"
      ]
     },
     "metadata": {},
     "output_type": "display_data"
    },
    {
     "data": {
      "text/html": [
       "<table>\n",
       "<caption>A data.frame: 6 × 24</caption>\n",
       "<thead>\n",
       "\t<tr><th></th><th scope=col>IM_INCIDENT_KEY</th><th scope=col>FIRE_BOX</th><th scope=col>INCIDENT_TYPE_DESC</th><th scope=col>INCIDENT_DATE_TIME</th><th scope=col>ARRIVAL_DATE_TIME</th><th scope=col>UNITS_ONSCENE</th><th scope=col>LAST_UNIT_CLEARED_DATE_TIME</th><th scope=col>HIGHEST_LEVEL_DESC</th><th scope=col>TOTAL_INCIDENT_DURATION</th><th scope=col>ACTION_TAKEN1_DESC</th><th scope=col>...</th><th scope=col>ZIP_CODE</th><th scope=col>BOROUGH_DESC</th><th scope=col>FLOOR</th><th scope=col>CO_DETECTOR_PRESENT_DESC</th><th scope=col>FIRE_ORIGIN_BELOW_GRADE_FLAG</th><th scope=col>STORY_FIRE_ORIGIN_COUNT</th><th scope=col>FIRE_SPREAD_DESC</th><th scope=col>DETECTOR_PRESENCE_DESC</th><th scope=col>AES_PRESENCE_DESC</th><th scope=col>STANDPIPE_SYS_PRESENT_FLAG</th></tr>\n",
       "\t<tr><th></th><th scope=col>&lt;int&gt;</th><th scope=col>&lt;chr&gt;</th><th scope=col>&lt;chr&gt;</th><th scope=col>&lt;chr&gt;</th><th scope=col>&lt;chr&gt;</th><th scope=col>&lt;int&gt;</th><th scope=col>&lt;chr&gt;</th><th scope=col>&lt;chr&gt;</th><th scope=col>&lt;int&gt;</th><th scope=col>&lt;chr&gt;</th><th scope=col>...</th><th scope=col>&lt;chr&gt;</th><th scope=col>&lt;chr&gt;</th><th scope=col>&lt;chr&gt;</th><th scope=col>&lt;chr&gt;</th><th scope=col>&lt;int&gt;</th><th scope=col>&lt;int&gt;</th><th scope=col>&lt;chr&gt;</th><th scope=col>&lt;chr&gt;</th><th scope=col>&lt;chr&gt;</th><th scope=col>&lt;int&gt;</th></tr>\n",
       "</thead>\n",
       "<tbody>\n",
       "\t<tr><th scope=row>1</th><td>55672688</td><td>2147</td><td>300 - Rescue, EMS incident, other                           </td><td>01/01/2013 12:00:20 AM</td><td>01/01/2013 12:14:23 AM</td><td>1</td><td>01/01/2013 12:20:06 AM</td><td>1 - More than initial alarm, less than Signal 7-5</td><td>1186</td><td>00 - Action taken, other                           </td><td>...</td><td>10454</td><td>2 - Bronx    </td><td> </td><td></td><td>NA</td><td>NA</td><td></td><td></td><td></td><td>NA</td></tr>\n",
       "\t<tr><th scope=row>2</th><td>55672692</td><td>0818</td><td>735A - Unwarranted alarm/defective condition of alarm system</td><td>01/01/2013 12:00:37 AM</td><td>01/01/2013 12:09:03 AM</td><td>3</td><td>01/01/2013 12:30:06 AM</td><td>1 - More than initial alarm, less than Signal 7-5</td><td>1769</td><td>86 - Investigate                                   </td><td>...</td><td>10036</td><td>1 - Manhattan</td><td> </td><td></td><td>NA</td><td>NA</td><td></td><td></td><td></td><td>NA</td></tr>\n",
       "\t<tr><th scope=row>3</th><td>55672693</td><td>9656</td><td>300 - Rescue, EMS incident, other                           </td><td>01/01/2013 12:01:17 AM</td><td>01/01/2013 12:04:55 AM</td><td>1</td><td>01/01/2013 12:15:18 AM</td><td>1 - More than initial alarm, less than Signal 7-5</td><td> 841</td><td>00 - Action taken, other                           </td><td>...</td><td>11418</td><td>5 - Queens   </td><td> </td><td></td><td>NA</td><td>NA</td><td></td><td></td><td></td><td>NA</td></tr>\n",
       "\t<tr><th scope=row>4</th><td>55672695</td><td>7412</td><td><span style=white-space:pre-wrap>412 - Gas leak (natural gas or LPG)                         </span></td><td>01/01/2013 12:02:32 AM</td><td>01/01/2013 12:07:48 AM</td><td>4</td><td>01/01/2013 12:40:11 AM</td><td>1 - More than initial alarm, less than Signal 7-5</td><td>2259</td><td>44 - Hazardous materials leak control &amp; containment</td><td>...</td><td>11103</td><td><span style=white-space:pre-wrap>5 - Queens   </span></td><td>1</td><td></td><td>NA</td><td>NA</td><td></td><td></td><td></td><td>NA</td></tr>\n",
       "\t<tr><th scope=row>5</th><td>55672697</td><td>4019</td><td>735A - Unwarranted alarm/defective condition of alarm system</td><td>01/01/2013 12:01:49 AM</td><td>01/01/2013 12:06:27 AM</td><td>6</td><td>01/01/2013 12:24:56 AM</td><td>1 - More than initial alarm, less than Signal 7-5</td><td>1387</td><td>86 - Investigate                                   </td><td>...</td><td>11385</td><td>5 - Queens   </td><td> </td><td></td><td>NA</td><td>NA</td><td></td><td></td><td></td><td>NA</td></tr>\n",
       "\t<tr><th scope=row>6</th><td>55672698</td><td>1328</td><td>735A - Unwarranted alarm/defective condition of alarm system</td><td>01/01/2013 12:02:45 AM</td><td>01/01/2013 12:07:55 AM</td><td>3</td><td>01/01/2013 12:18:20 AM</td><td>1 - More than initial alarm, less than Signal 7-5</td><td> 935</td><td>86 - Investigate                                   </td><td>...</td><td>11215</td><td>4 - Brooklyn </td><td> </td><td></td><td>NA</td><td>NA</td><td></td><td></td><td></td><td>NA</td></tr>\n",
       "</tbody>\n",
       "</table>\n"
      ],
      "text/latex": [
       "A data.frame: 6 × 24\n",
       "\\begin{tabular}{r|lllllllllllllllllllll}\n",
       "  & IM\\_INCIDENT\\_KEY & FIRE\\_BOX & INCIDENT\\_TYPE\\_DESC & INCIDENT\\_DATE\\_TIME & ARRIVAL\\_DATE\\_TIME & UNITS\\_ONSCENE & LAST\\_UNIT\\_CLEARED\\_DATE\\_TIME & HIGHEST\\_LEVEL\\_DESC & TOTAL\\_INCIDENT\\_DURATION & ACTION\\_TAKEN1\\_DESC & ... & ZIP\\_CODE & BOROUGH\\_DESC & FLOOR & CO\\_DETECTOR\\_PRESENT\\_DESC & FIRE\\_ORIGIN\\_BELOW\\_GRADE\\_FLAG & STORY\\_FIRE\\_ORIGIN\\_COUNT & FIRE\\_SPREAD\\_DESC & DETECTOR\\_PRESENCE\\_DESC & AES\\_PRESENCE\\_DESC & STANDPIPE\\_SYS\\_PRESENT\\_FLAG\\\\\n",
       "  & <int> & <chr> & <chr> & <chr> & <chr> & <int> & <chr> & <chr> & <int> & <chr> & ... & <chr> & <chr> & <chr> & <chr> & <int> & <int> & <chr> & <chr> & <chr> & <int>\\\\\n",
       "\\hline\n",
       "\t1 & 55672688 & 2147 & 300 - Rescue, EMS incident, other                            & 01/01/2013 12:00:20 AM & 01/01/2013 12:14:23 AM & 1 & 01/01/2013 12:20:06 AM & 1 - More than initial alarm, less than Signal 7-5 & 1186 & 00 - Action taken, other                            & ... & 10454 & 2 - Bronx     &   &  & NA & NA &  &  &  & NA\\\\\n",
       "\t2 & 55672692 & 0818 & 735A - Unwarranted alarm/defective condition of alarm system & 01/01/2013 12:00:37 AM & 01/01/2013 12:09:03 AM & 3 & 01/01/2013 12:30:06 AM & 1 - More than initial alarm, less than Signal 7-5 & 1769 & 86 - Investigate                                    & ... & 10036 & 1 - Manhattan &   &  & NA & NA &  &  &  & NA\\\\\n",
       "\t3 & 55672693 & 9656 & 300 - Rescue, EMS incident, other                            & 01/01/2013 12:01:17 AM & 01/01/2013 12:04:55 AM & 1 & 01/01/2013 12:15:18 AM & 1 - More than initial alarm, less than Signal 7-5 &  841 & 00 - Action taken, other                            & ... & 11418 & 5 - Queens    &   &  & NA & NA &  &  &  & NA\\\\\n",
       "\t4 & 55672695 & 7412 & 412 - Gas leak (natural gas or LPG)                          & 01/01/2013 12:02:32 AM & 01/01/2013 12:07:48 AM & 4 & 01/01/2013 12:40:11 AM & 1 - More than initial alarm, less than Signal 7-5 & 2259 & 44 - Hazardous materials leak control \\& containment & ... & 11103 & 5 - Queens    & 1 &  & NA & NA &  &  &  & NA\\\\\n",
       "\t5 & 55672697 & 4019 & 735A - Unwarranted alarm/defective condition of alarm system & 01/01/2013 12:01:49 AM & 01/01/2013 12:06:27 AM & 6 & 01/01/2013 12:24:56 AM & 1 - More than initial alarm, less than Signal 7-5 & 1387 & 86 - Investigate                                    & ... & 11385 & 5 - Queens    &   &  & NA & NA &  &  &  & NA\\\\\n",
       "\t6 & 55672698 & 1328 & 735A - Unwarranted alarm/defective condition of alarm system & 01/01/2013 12:02:45 AM & 01/01/2013 12:07:55 AM & 3 & 01/01/2013 12:18:20 AM & 1 - More than initial alarm, less than Signal 7-5 &  935 & 86 - Investigate                                    & ... & 11215 & 4 - Brooklyn  &   &  & NA & NA &  &  &  & NA\\\\\n",
       "\\end{tabular}\n"
      ],
      "text/markdown": [
       "\n",
       "A data.frame: 6 × 24\n",
       "\n",
       "| <!--/--> | IM_INCIDENT_KEY &lt;int&gt; | FIRE_BOX &lt;chr&gt; | INCIDENT_TYPE_DESC &lt;chr&gt; | INCIDENT_DATE_TIME &lt;chr&gt; | ARRIVAL_DATE_TIME &lt;chr&gt; | UNITS_ONSCENE &lt;int&gt; | LAST_UNIT_CLEARED_DATE_TIME &lt;chr&gt; | HIGHEST_LEVEL_DESC &lt;chr&gt; | TOTAL_INCIDENT_DURATION &lt;int&gt; | ACTION_TAKEN1_DESC &lt;chr&gt; | ... ... | ZIP_CODE &lt;chr&gt; | BOROUGH_DESC &lt;chr&gt; | FLOOR &lt;chr&gt; | CO_DETECTOR_PRESENT_DESC &lt;chr&gt; | FIRE_ORIGIN_BELOW_GRADE_FLAG &lt;int&gt; | STORY_FIRE_ORIGIN_COUNT &lt;int&gt; | FIRE_SPREAD_DESC &lt;chr&gt; | DETECTOR_PRESENCE_DESC &lt;chr&gt; | AES_PRESENCE_DESC &lt;chr&gt; | STANDPIPE_SYS_PRESENT_FLAG &lt;int&gt; |\n",
       "|---|---|---|---|---|---|---|---|---|---|---|---|---|---|---|---|---|---|---|---|---|---|\n",
       "| 1 | 55672688 | 2147 | 300 - Rescue, EMS incident, other                            | 01/01/2013 12:00:20 AM | 01/01/2013 12:14:23 AM | 1 | 01/01/2013 12:20:06 AM | 1 - More than initial alarm, less than Signal 7-5 | 1186 | 00 - Action taken, other                            | ... | 10454 | 2 - Bronx     | <!----> | <!----> | NA | NA | <!----> | <!----> | <!----> | NA |\n",
       "| 2 | 55672692 | 0818 | 735A - Unwarranted alarm/defective condition of alarm system | 01/01/2013 12:00:37 AM | 01/01/2013 12:09:03 AM | 3 | 01/01/2013 12:30:06 AM | 1 - More than initial alarm, less than Signal 7-5 | 1769 | 86 - Investigate                                    | ... | 10036 | 1 - Manhattan | <!----> | <!----> | NA | NA | <!----> | <!----> | <!----> | NA |\n",
       "| 3 | 55672693 | 9656 | 300 - Rescue, EMS incident, other                            | 01/01/2013 12:01:17 AM | 01/01/2013 12:04:55 AM | 1 | 01/01/2013 12:15:18 AM | 1 - More than initial alarm, less than Signal 7-5 |  841 | 00 - Action taken, other                            | ... | 11418 | 5 - Queens    | <!----> | <!----> | NA | NA | <!----> | <!----> | <!----> | NA |\n",
       "| 4 | 55672695 | 7412 | 412 - Gas leak (natural gas or LPG)                          | 01/01/2013 12:02:32 AM | 01/01/2013 12:07:48 AM | 4 | 01/01/2013 12:40:11 AM | 1 - More than initial alarm, less than Signal 7-5 | 2259 | 44 - Hazardous materials leak control &amp; containment | ... | 11103 | 5 - Queens    | 1 | <!----> | NA | NA | <!----> | <!----> | <!----> | NA |\n",
       "| 5 | 55672697 | 4019 | 735A - Unwarranted alarm/defective condition of alarm system | 01/01/2013 12:01:49 AM | 01/01/2013 12:06:27 AM | 6 | 01/01/2013 12:24:56 AM | 1 - More than initial alarm, less than Signal 7-5 | 1387 | 86 - Investigate                                    | ... | 11385 | 5 - Queens    | <!----> | <!----> | NA | NA | <!----> | <!----> | <!----> | NA |\n",
       "| 6 | 55672698 | 1328 | 735A - Unwarranted alarm/defective condition of alarm system | 01/01/2013 12:02:45 AM | 01/01/2013 12:07:55 AM | 3 | 01/01/2013 12:18:20 AM | 1 - More than initial alarm, less than Signal 7-5 |  935 | 86 - Investigate                                    | ... | 11215 | 4 - Brooklyn  | <!----> | <!----> | NA | NA | <!----> | <!----> | <!----> | NA |\n",
       "\n"
      ],
      "text/plain": [
       "  IM_INCIDENT_KEY FIRE_BOX\n",
       "1 55672688        2147    \n",
       "2 55672692        0818    \n",
       "3 55672693        9656    \n",
       "4 55672695        7412    \n",
       "5 55672697        4019    \n",
       "6 55672698        1328    \n",
       "  INCIDENT_TYPE_DESC                                          \n",
       "1 300 - Rescue, EMS incident, other                           \n",
       "2 735A - Unwarranted alarm/defective condition of alarm system\n",
       "3 300 - Rescue, EMS incident, other                           \n",
       "4 412 - Gas leak (natural gas or LPG)                         \n",
       "5 735A - Unwarranted alarm/defective condition of alarm system\n",
       "6 735A - Unwarranted alarm/defective condition of alarm system\n",
       "  INCIDENT_DATE_TIME     ARRIVAL_DATE_TIME      UNITS_ONSCENE\n",
       "1 01/01/2013 12:00:20 AM 01/01/2013 12:14:23 AM 1            \n",
       "2 01/01/2013 12:00:37 AM 01/01/2013 12:09:03 AM 3            \n",
       "3 01/01/2013 12:01:17 AM 01/01/2013 12:04:55 AM 1            \n",
       "4 01/01/2013 12:02:32 AM 01/01/2013 12:07:48 AM 4            \n",
       "5 01/01/2013 12:01:49 AM 01/01/2013 12:06:27 AM 6            \n",
       "6 01/01/2013 12:02:45 AM 01/01/2013 12:07:55 AM 3            \n",
       "  LAST_UNIT_CLEARED_DATE_TIME HIGHEST_LEVEL_DESC                               \n",
       "1 01/01/2013 12:20:06 AM      1 - More than initial alarm, less than Signal 7-5\n",
       "2 01/01/2013 12:30:06 AM      1 - More than initial alarm, less than Signal 7-5\n",
       "3 01/01/2013 12:15:18 AM      1 - More than initial alarm, less than Signal 7-5\n",
       "4 01/01/2013 12:40:11 AM      1 - More than initial alarm, less than Signal 7-5\n",
       "5 01/01/2013 12:24:56 AM      1 - More than initial alarm, less than Signal 7-5\n",
       "6 01/01/2013 12:18:20 AM      1 - More than initial alarm, less than Signal 7-5\n",
       "  TOTAL_INCIDENT_DURATION ACTION_TAKEN1_DESC                                 \n",
       "1 1186                    00 - Action taken, other                           \n",
       "2 1769                    86 - Investigate                                   \n",
       "3  841                    00 - Action taken, other                           \n",
       "4 2259                    44 - Hazardous materials leak control & containment\n",
       "5 1387                    86 - Investigate                                   \n",
       "6  935                    86 - Investigate                                   \n",
       "  ... ZIP_CODE BOROUGH_DESC  FLOOR CO_DETECTOR_PRESENT_DESC\n",
       "1 ... 10454    2 - Bronx                                   \n",
       "2 ... 10036    1 - Manhattan                               \n",
       "3 ... 11418    5 - Queens                                  \n",
       "4 ... 11103    5 - Queens    1                             \n",
       "5 ... 11385    5 - Queens                                  \n",
       "6 ... 11215    4 - Brooklyn                                \n",
       "  FIRE_ORIGIN_BELOW_GRADE_FLAG STORY_FIRE_ORIGIN_COUNT FIRE_SPREAD_DESC\n",
       "1 NA                           NA                                      \n",
       "2 NA                           NA                                      \n",
       "3 NA                           NA                                      \n",
       "4 NA                           NA                                      \n",
       "5 NA                           NA                                      \n",
       "6 NA                           NA                                      \n",
       "  DETECTOR_PRESENCE_DESC AES_PRESENCE_DESC STANDPIPE_SYS_PRESENT_FLAG\n",
       "1                                          NA                        \n",
       "2                                          NA                        \n",
       "3                                          NA                        \n",
       "4                                          NA                        \n",
       "5                                          NA                        \n",
       "6                                          NA                        "
      ]
     },
     "metadata": {},
     "output_type": "display_data"
    },
    {
     "data": {
      "text/html": [
       "11.2201025056948"
      ],
      "text/latex": [
       "11.2201025056948"
      ],
      "text/markdown": [
       "11.2201025056948"
      ],
      "text/plain": [
       "[1] 11.2201"
      ]
     },
     "metadata": {},
     "output_type": "display_data"
    },
    {
     "data": {
      "text/html": [
       "4.00552400362882"
      ],
      "text/latex": [
       "4.00552400362882"
      ],
      "text/markdown": [
       "4.00552400362882"
      ],
      "text/plain": [
       "[1] 4.005524"
      ]
     },
     "metadata": {},
     "output_type": "display_data"
    },
    {
     "data": {
      "text/html": [
       "2.8011572257537"
      ],
      "text/latex": [
       "2.8011572257537"
      ],
      "text/markdown": [
       "2.8011572257537"
      ],
      "text/plain": [
       "[1] 2.801157"
      ]
     },
     "metadata": {},
     "output_type": "display_data"
    }
   ],
   "source": [
    "# Q2 - differences in number of units arriving by incident type\n",
    "# Note - for calculation of means, NA's were omitted\n",
    "# (default assumption for missing data with no need for imputation)\n",
    "sub_tbl = master_tbl %>% drop_na(UNITS_ONSCENE)\n",
    "sum(sub_tbl$INCIDENT_TYPE_DESC == BFIRE)\n",
    "sum(sub_tbl$INCIDENT_TYPE_DESC == SMOKE)\n",
    "head(sub_tbl)\n",
    "mu_1 = mean((sub_tbl %>% filter(INCIDENT_TYPE_DESC == BFIRE))[['UNITS_ONSCENE']])\n",
    "mu_2 = mean((sub_tbl %>% filter(INCIDENT_TYPE_DESC == SMOKE))[['UNITS_ONSCENE']])\n",
    "mu_1\n",
    "mu_2\n",
    "# average for BFIRE is about 11.2, while for SMOKE it is 4.0\n",
    "mu_1 / mu_2"
   ]
  },
  {
   "cell_type": "code",
   "execution_count": 15,
   "metadata": {},
   "outputs": [
    {
     "data": {
      "image/png": "[encoded data removed]",
      "text/plain": [
       "Plot with title \"Histogram of (sub_tbl %>% filter(INCIDENT_TYPE_DESC == BFIRE))[[\"UNITS_ONSCENE\"]]\""
      ]
     },
     "metadata": {
      "image/png": {
       "height": 420,
       "width": 420
      }
     },
     "output_type": "display_data"
    }
   ],
   "source": [
    "# average seems pretty skewed by outliers\n",
    "hist((sub_tbl %>% filter(INCIDENT_TYPE_DESC == BFIRE))[['UNITS_ONSCENE']])"
   ]
  },
  {
   "cell_type": "code",
   "execution_count": 18,
   "metadata": {},
   "outputs": [
    {
     "data": {
      "text/html": [
       "641825"
      ],
      "text/latex": [
       "641825"
      ],
      "text/markdown": [
       "641825"
      ],
      "text/plain": [
       "[1] 641825"
      ]
     },
     "metadata": {},
     "output_type": "display_data"
    },
    {
     "data": {
      "text/html": [
       "509106"
      ],
      "text/latex": [
       "509106"
      ],
      "text/markdown": [
       "509106"
      ],
      "text/plain": [
       "[1] 509106"
      ]
     },
     "metadata": {},
     "output_type": "display_data"
    },
    {
     "data": {
      "text/html": [
       "129466"
      ],
      "text/latex": [
       "129466"
      ],
      "text/markdown": [
       "129466"
      ],
      "text/plain": [
       "[1] 129466"
      ]
     },
     "metadata": {},
     "output_type": "display_data"
    },
    {
     "data": {
      "text/html": [
       "0.0556092444402541"
      ],
      "text/latex": [
       "0.0556092444402541"
      ],
      "text/markdown": [
       "0.0556092444402541"
      ],
      "text/plain": [
       "[1] 0.05560924"
      ]
     },
     "metadata": {},
     "output_type": "display_data"
    },
    {
     "data": {
      "text/html": [
       "0.0429260312390449"
      ],
      "text/latex": [
       "0.0429260312390449"
      ],
      "text/markdown": [
       "0.0429260312390449"
      ],
      "text/plain": [
       "[1] 0.04292603"
      ]
     },
     "metadata": {},
     "output_type": "display_data"
    },
    {
     "data": {
      "text/html": [
       "1.29546670947937"
      ],
      "text/latex": [
       "1.29546670947937"
      ],
      "text/markdown": [
       "1.29546670947937"
      ],
      "text/plain": [
       "[1] 1.295467"
      ]
     },
     "metadata": {},
     "output_type": "display_data"
    }
   ],
   "source": [
    "# Q3 - false call in diff. boroughs\n",
    "sum(master_tbl$BOROUGH_DESC == BOROS[1])\n",
    "sum(master_tbl$BOROUGH_DESC == BOROS[5])\n",
    "sum(master_tbl$INCIDENT_TYPE_DESC == MALIC)\n",
    "# Staten Island is BORO[5] and Manhattan is BORO[1]\n",
    "# Calculate the ratio of MALIC for each boro, and calculate the final ratio\n",
    "sub_tbl_5 = master_tbl %>% filter(BOROUGH_DESC == BOROS[5])\n",
    "prop_5 = sum(sub_tbl_5$INCIDENT_TYPE_DESC == MALIC) / nrow(sub_tbl_5)\n",
    "sub_tbl_1 = master_tbl %>% filter(BOROUGH_DESC == BOROS[1])\n",
    "prop_1 = sum(sub_tbl_1$INCIDENT_TYPE_DESC == MALIC) / nrow(sub_tbl_1)\n",
    "prop_5\n",
    "prop_1\n",
    "# false call rate for BORO[5] is about 0.556, for BORO[1] is about 0.0429\n",
    "prop_5 / prop_1"
   ]
  },
  {
   "cell_type": "code",
   "execution_count": 20,
   "metadata": {},
   "outputs": [
    {
     "data": {
      "text/html": [
       "2.66666666666667"
      ],
      "text/latex": [
       "2.66666666666667"
      ],
      "text/markdown": [
       "2.66666666666667"
      ],
      "text/plain": [
       "[1] 2.666667"
      ]
     },
     "metadata": {},
     "output_type": "display_data"
    },
    {
     "data": {
      "text/html": [
       "<table>\n",
       "<caption>A data.frame: 6 × 5</caption>\n",
       "<thead>\n",
       "\t<tr><th></th><th scope=col>IM_INCIDENT_KEY</th><th scope=col>INCIDENT_TYPE_DESC</th><th scope=col>INCIDENT_DATE_TIME</th><th scope=col>ARRIVAL_DATE_TIME</th><th scope=col>int_minutes</th></tr>\n",
       "\t<tr><th></th><th scope=col>&lt;int&gt;</th><th scope=col>&lt;chr&gt;</th><th scope=col>&lt;chr&gt;</th><th scope=col>&lt;chr&gt;</th><th scope=col>&lt;dbl&gt;</th></tr>\n",
       "</thead>\n",
       "<tbody>\n",
       "\t<tr><th scope=row>14197</th><td>63470467</td><td>111 - Building fire</td><td>06/29/2018 09:47:44 PM</td><td>06/29/2018 09:51:47 PM</td><td>4.050000</td></tr>\n",
       "\t<tr><th scope=row>14198</th><td>63472868</td><td>111 - Building fire</td><td>06/30/2018 10:36:51 AM</td><td>06/30/2018 10:39:36 AM</td><td>2.750000</td></tr>\n",
       "\t<tr><th scope=row>14199</th><td>63473162</td><td>111 - Building fire</td><td>06/30/2018 12:00:32 PM</td><td>06/30/2018 12:03:48 PM</td><td>3.266667</td></tr>\n",
       "\t<tr><th scope=row>14200</th><td>63474272</td><td>111 - Building fire</td><td>06/30/2018 03:48:42 PM</td><td>06/30/2018 03:52:25 PM</td><td>3.716667</td></tr>\n",
       "\t<tr><th scope=row>14201</th><td>63474545</td><td>111 - Building fire</td><td>06/30/2018 04:45:17 PM</td><td>06/30/2018 04:49:52 PM</td><td>4.583333</td></tr>\n",
       "\t<tr><th scope=row>14202</th><td>63475053</td><td>111 - Building fire</td><td>06/30/2018 06:20:20 PM</td><td>06/30/2018 06:24:00 PM</td><td>3.666667</td></tr>\n",
       "</tbody>\n",
       "</table>\n"
      ],
      "text/latex": [
       "A data.frame: 6 × 5\n",
       "\\begin{tabular}{r|lllll}\n",
       "  & IM\\_INCIDENT\\_KEY & INCIDENT\\_TYPE\\_DESC & INCIDENT\\_DATE\\_TIME & ARRIVAL\\_DATE\\_TIME & int\\_minutes\\\\\n",
       "  & <int> & <chr> & <chr> & <chr> & <dbl>\\\\\n",
       "\\hline\n",
       "\t14197 & 63470467 & 111 - Building fire & 06/29/2018 09:47:44 PM & 06/29/2018 09:51:47 PM & 4.050000\\\\\n",
       "\t14198 & 63472868 & 111 - Building fire & 06/30/2018 10:36:51 AM & 06/30/2018 10:39:36 AM & 2.750000\\\\\n",
       "\t14199 & 63473162 & 111 - Building fire & 06/30/2018 12:00:32 PM & 06/30/2018 12:03:48 PM & 3.266667\\\\\n",
       "\t14200 & 63474272 & 111 - Building fire & 06/30/2018 03:48:42 PM & 06/30/2018 03:52:25 PM & 3.716667\\\\\n",
       "\t14201 & 63474545 & 111 - Building fire & 06/30/2018 04:45:17 PM & 06/30/2018 04:49:52 PM & 4.583333\\\\\n",
       "\t14202 & 63475053 & 111 - Building fire & 06/30/2018 06:20:20 PM & 06/30/2018 06:24:00 PM & 3.666667\\\\\n",
       "\\end{tabular}\n"
      ],
      "text/markdown": [
       "\n",
       "A data.frame: 6 × 5\n",
       "\n",
       "| <!--/--> | IM_INCIDENT_KEY &lt;int&gt; | INCIDENT_TYPE_DESC &lt;chr&gt; | INCIDENT_DATE_TIME &lt;chr&gt; | ARRIVAL_DATE_TIME &lt;chr&gt; | int_minutes &lt;dbl&gt; |\n",
       "|---|---|---|---|---|---|\n",
       "| 14197 | 63470467 | 111 - Building fire | 06/29/2018 09:47:44 PM | 06/29/2018 09:51:47 PM | 4.050000 |\n",
       "| 14198 | 63472868 | 111 - Building fire | 06/30/2018 10:36:51 AM | 06/30/2018 10:39:36 AM | 2.750000 |\n",
       "| 14199 | 63473162 | 111 - Building fire | 06/30/2018 12:00:32 PM | 06/30/2018 12:03:48 PM | 3.266667 |\n",
       "| 14200 | 63474272 | 111 - Building fire | 06/30/2018 03:48:42 PM | 06/30/2018 03:52:25 PM | 3.716667 |\n",
       "| 14201 | 63474545 | 111 - Building fire | 06/30/2018 04:45:17 PM | 06/30/2018 04:49:52 PM | 4.583333 |\n",
       "| 14202 | 63475053 | 111 - Building fire | 06/30/2018 06:20:20 PM | 06/30/2018 06:24:00 PM | 3.666667 |\n",
       "\n"
      ],
      "text/plain": [
       "      IM_INCIDENT_KEY INCIDENT_TYPE_DESC  INCIDENT_DATE_TIME    \n",
       "14197 63470467        111 - Building fire 06/29/2018 09:47:44 PM\n",
       "14198 63472868        111 - Building fire 06/30/2018 10:36:51 AM\n",
       "14199 63473162        111 - Building fire 06/30/2018 12:00:32 PM\n",
       "14200 63474272        111 - Building fire 06/30/2018 03:48:42 PM\n",
       "14201 63474545        111 - Building fire 06/30/2018 04:45:17 PM\n",
       "14202 63475053        111 - Building fire 06/30/2018 06:20:20 PM\n",
       "      ARRIVAL_DATE_TIME      int_minutes\n",
       "14197 06/29/2018 09:51:47 PM 4.050000   \n",
       "14198 06/30/2018 10:39:36 AM 2.750000   \n",
       "14199 06/30/2018 12:03:48 PM 3.266667   \n",
       "14200 06/30/2018 03:52:25 PM 3.716667   \n",
       "14201 06/30/2018 04:49:52 PM 4.583333   \n",
       "14202 06/30/2018 06:24:00 PM 3.666667   "
      ]
     },
     "metadata": {},
     "output_type": "display_data"
    },
    {
     "data": {
      "text/html": [
       "<style>\n",
       ".dl-inline {width: auto; margin:0; padding: 0}\n",
       ".dl-inline>dt, .dl-inline>dd {float: none; width: auto; display: inline-block}\n",
       ".dl-inline>dt::after {content: \":\\0020\"; padding-right: .5ex}\n",
       ".dl-inline>dt:not(:first-of-type) {padding-left: .5ex}\n",
       "</style><dl class=dl-inline><dt>0%</dt><dd>-5.08333333333333</dd><dt>25%</dt><dd>2.86666666666667</dd><dt>50%</dt><dd>3.46666666666667</dd><dt>75%</dt><dd>4.16666666666667</dd><dt>100%</dt><dd>88.9833333333333</dd></dl>\n"
      ],
      "text/latex": [
       "\\begin{description*}\n",
       "\\item[0\\textbackslash{}\\%] -5.08333333333333\n",
       "\\item[25\\textbackslash{}\\%] 2.86666666666667\n",
       "\\item[50\\textbackslash{}\\%] 3.46666666666667\n",
       "\\item[75\\textbackslash{}\\%] 4.16666666666667\n",
       "\\item[100\\textbackslash{}\\%] 88.9833333333333\n",
       "\\end{description*}\n"
      ],
      "text/markdown": [
       "0%\n",
       ":   -5.0833333333333325%\n",
       ":   2.8666666666666750%\n",
       ":   3.4666666666666775%\n",
       ":   4.16666666666667100%\n",
       ":   88.9833333333333\n",
       "\n"
      ],
      "text/plain": [
       "       0%       25%       50%       75%      100% \n",
       "-5.083333  2.866667  3.466667  4.166667 88.983333 "
      ]
     },
     "metadata": {},
     "output_type": "display_data"
    },
    {
     "data": {
      "image/png": "[encoded data removed]",
      "text/plain": [
       "Plot with title \"Histogram of sub_tbl$int_minutes\""
      ]
     },
     "metadata": {
      "image/png": {
       "height": 420,
       "width": 420
      }
     },
     "output_type": "display_data"
    }
   ],
   "source": [
    "# Q4 - distribution of amount of time it takes for the first unit to arrive\n",
    "# define a function that calculates the number of minutes between two dt entries from our datasets\n",
    "# uses int_length() and interval() from lubridate\n",
    "int_minutes = function(dt1, dt2) {\n",
    "    # Assumes that the dt1, dt2 strings come in the right format and timezone is EST,\n",
    "    # as supplied by this dataset. Also assumes dt2 is after dt1\n",
    "    return(int_length(\n",
    "        interval(mdy_hms(dt1, tz = 'EST'), mdy_hms(dt2, tz = 'EST'))\n",
    "    ) / 60)\n",
    "}\n",
    "dt1 = '01/01/2013 12:58:10 AM'\n",
    "dt2 = '01/01/2013 01:00:50 AM'\n",
    "int_minutes(dt1, dt2)\n",
    "\n",
    "sub_tbl = master_tbl %>% filter(INCIDENT_TYPE_DESC == BFIRE) %>% select(\n",
    "    c('IM_INCIDENT_KEY', 'INCIDENT_TYPE_DESC', 'INCIDENT_DATE_TIME', 'ARRIVAL_DATE_TIME'))\n",
    "sub_tbl$int_minutes = do.call(int_minutes, sub_tbl %>% \n",
    "    rename(dt1 = 'INCIDENT_DATE_TIME', dt2 = 'ARRIVAL_DATE_TIME') %>% select(c('dt1', 'dt2')))\n",
    "tail(sub_tbl)\n",
    "# Some rows are missing entries and thus yielding NA\n",
    "sub_tbl = sub_tbl %>% drop_na(int_minutes)\n",
    "hist(sub_tbl$int_minutes)\n",
    "# there was one quirky data point where dt2 was before dt1?\n",
    "# obtain the third quartile (75%), as directed\n",
    "quantile(sub_tbl$int_minutes)"
   ]
  },
  {
   "cell_type": "code",
   "execution_count": 17,
   "metadata": {},
   "outputs": [
    {
     "data": {
      "text/html": [
       "<table>\n",
       "<caption>A data.frame: 24 × 4</caption>\n",
       "<thead>\n",
       "\t<tr><th scope=col>hr</th><th scope=col>n</th><th scope=col>COOKF_n</th><th scope=col>proportion</th></tr>\n",
       "\t<tr><th scope=col>&lt;int&gt;</th><th scope=col>&lt;int&gt;</th><th scope=col>&lt;int&gt;</th><th scope=col>&lt;dbl&gt;</th></tr>\n",
       "</thead>\n",
       "<tbody>\n",
       "\t<tr><td>18</td><td>148219</td><td>7573</td><td>0.05109331</td></tr>\n",
       "\t<tr><td>19</td><td>141356</td><td>7157</td><td>0.05063103</td></tr>\n",
       "\t<tr><td>17</td><td>151173</td><td>7165</td><td>0.04739603</td></tr>\n",
       "\t<tr><td>20</td><td>133364</td><td>6120</td><td>0.04588945</td></tr>\n",
       "\t<tr><td>16</td><td>142248</td><td>6262</td><td>0.04402171</td></tr>\n",
       "\t<tr><td>12</td><td>129813</td><td>5479</td><td>0.04220687</td></tr>\n",
       "\t<tr><td>15</td><td>140070</td><td>5700</td><td>0.04069394</td></tr>\n",
       "\t<tr><td>13</td><td>134589</td><td>5423</td><td>0.04029304</td></tr>\n",
       "\t<tr><td>14</td><td>139537</td><td>5512</td><td>0.03950207</td></tr>\n",
       "\t<tr><td>21</td><td>121795</td><td>4764</td><td>0.03911491</td></tr>\n",
       "\t<tr><td>11</td><td>126143</td><td>4871</td><td>0.03861491</td></tr>\n",
       "\t<tr><td>10</td><td>121205</td><td>4400</td><td>0.03630213</td></tr>\n",
       "\t<tr><td> 9</td><td>113900</td><td>3850</td><td>0.03380158</td></tr>\n",
       "\t<tr><td>22</td><td>109015</td><td>3500</td><td>0.03210567</td></tr>\n",
       "\t<tr><td> 8</td><td>101228</td><td>3114</td><td>0.03076224</td></tr>\n",
       "\t<tr><td>23</td><td> 97306</td><td>2777</td><td>0.02853884</td></tr>\n",
       "\t<tr><td> 0</td><td> 79006</td><td>2249</td><td>0.02846619</td></tr>\n",
       "\t<tr><td> 6</td><td> 57574</td><td>1614</td><td>0.02803349</td></tr>\n",
       "\t<tr><td> 7</td><td> 80613</td><td>2238</td><td>0.02776227</td></tr>\n",
       "\t<tr><td> 1</td><td> 63215</td><td>1723</td><td>0.02725619</td></tr>\n",
       "\t<tr><td> 3</td><td> 45423</td><td>1163</td><td>0.02560377</td></tr>\n",
       "\t<tr><td> 2</td><td> 51949</td><td>1326</td><td>0.02552503</td></tr>\n",
       "\t<tr><td> 4</td><td> 43749</td><td>1060</td><td>0.02422913</td></tr>\n",
       "\t<tr><td> 5</td><td> 46268</td><td>1102</td><td>0.02381776</td></tr>\n",
       "</tbody>\n",
       "</table>\n"
      ],
      "text/latex": [
       "A data.frame: 24 × 4\n",
       "\\begin{tabular}{llll}\n",
       " hr & n & COOKF\\_n & proportion\\\\\n",
       " <int> & <int> & <int> & <dbl>\\\\\n",
       "\\hline\n",
       "\t 18 & 148219 & 7573 & 0.05109331\\\\\n",
       "\t 19 & 141356 & 7157 & 0.05063103\\\\\n",
       "\t 17 & 151173 & 7165 & 0.04739603\\\\\n",
       "\t 20 & 133364 & 6120 & 0.04588945\\\\\n",
       "\t 16 & 142248 & 6262 & 0.04402171\\\\\n",
       "\t 12 & 129813 & 5479 & 0.04220687\\\\\n",
       "\t 15 & 140070 & 5700 & 0.04069394\\\\\n",
       "\t 13 & 134589 & 5423 & 0.04029304\\\\\n",
       "\t 14 & 139537 & 5512 & 0.03950207\\\\\n",
       "\t 21 & 121795 & 4764 & 0.03911491\\\\\n",
       "\t 11 & 126143 & 4871 & 0.03861491\\\\\n",
       "\t 10 & 121205 & 4400 & 0.03630213\\\\\n",
       "\t  9 & 113900 & 3850 & 0.03380158\\\\\n",
       "\t 22 & 109015 & 3500 & 0.03210567\\\\\n",
       "\t  8 & 101228 & 3114 & 0.03076224\\\\\n",
       "\t 23 &  97306 & 2777 & 0.02853884\\\\\n",
       "\t  0 &  79006 & 2249 & 0.02846619\\\\\n",
       "\t  6 &  57574 & 1614 & 0.02803349\\\\\n",
       "\t  7 &  80613 & 2238 & 0.02776227\\\\\n",
       "\t  1 &  63215 & 1723 & 0.02725619\\\\\n",
       "\t  3 &  45423 & 1163 & 0.02560377\\\\\n",
       "\t  2 &  51949 & 1326 & 0.02552503\\\\\n",
       "\t  4 &  43749 & 1060 & 0.02422913\\\\\n",
       "\t  5 &  46268 & 1102 & 0.02381776\\\\\n",
       "\\end{tabular}\n"
      ],
      "text/markdown": [
       "\n",
       "A data.frame: 24 × 4\n",
       "\n",
       "| hr &lt;int&gt; | n &lt;int&gt; | COOKF_n &lt;int&gt; | proportion &lt;dbl&gt; |\n",
       "|---|---|---|---|\n",
       "| 18 | 148219 | 7573 | 0.05109331 |\n",
       "| 19 | 141356 | 7157 | 0.05063103 |\n",
       "| 17 | 151173 | 7165 | 0.04739603 |\n",
       "| 20 | 133364 | 6120 | 0.04588945 |\n",
       "| 16 | 142248 | 6262 | 0.04402171 |\n",
       "| 12 | 129813 | 5479 | 0.04220687 |\n",
       "| 15 | 140070 | 5700 | 0.04069394 |\n",
       "| 13 | 134589 | 5423 | 0.04029304 |\n",
       "| 14 | 139537 | 5512 | 0.03950207 |\n",
       "| 21 | 121795 | 4764 | 0.03911491 |\n",
       "| 11 | 126143 | 4871 | 0.03861491 |\n",
       "| 10 | 121205 | 4400 | 0.03630213 |\n",
       "|  9 | 113900 | 3850 | 0.03380158 |\n",
       "| 22 | 109015 | 3500 | 0.03210567 |\n",
       "|  8 | 101228 | 3114 | 0.03076224 |\n",
       "| 23 |  97306 | 2777 | 0.02853884 |\n",
       "|  0 |  79006 | 2249 | 0.02846619 |\n",
       "|  6 |  57574 | 1614 | 0.02803349 |\n",
       "|  7 |  80613 | 2238 | 0.02776227 |\n",
       "|  1 |  63215 | 1723 | 0.02725619 |\n",
       "|  3 |  45423 | 1163 | 0.02560377 |\n",
       "|  2 |  51949 | 1326 | 0.02552503 |\n",
       "|  4 |  43749 | 1060 | 0.02422913 |\n",
       "|  5 |  46268 | 1102 | 0.02381776 |\n",
       "\n"
      ],
      "text/plain": [
       "   hr n      COOKF_n proportion\n",
       "1  18 148219 7573    0.05109331\n",
       "2  19 141356 7157    0.05063103\n",
       "3  17 151173 7165    0.04739603\n",
       "4  20 133364 6120    0.04588945\n",
       "5  16 142248 6262    0.04402171\n",
       "6  12 129813 5479    0.04220687\n",
       "7  15 140070 5700    0.04069394\n",
       "8  13 134589 5423    0.04029304\n",
       "9  14 139537 5512    0.03950207\n",
       "10 21 121795 4764    0.03911491\n",
       "11 11 126143 4871    0.03861491\n",
       "12 10 121205 4400    0.03630213\n",
       "13  9 113900 3850    0.03380158\n",
       "14 22 109015 3500    0.03210567\n",
       "15  8 101228 3114    0.03076224\n",
       "16 23  97306 2777    0.02853884\n",
       "17  0  79006 2249    0.02846619\n",
       "18  6  57574 1614    0.02803349\n",
       "19  7  80613 2238    0.02776227\n",
       "20  1  63215 1723    0.02725619\n",
       "21  3  45423 1163    0.02560377\n",
       "22  2  51949 1326    0.02552503\n",
       "23  4  43749 1060    0.02422913\n",
       "24  5  46268 1102    0.02381776"
      ]
     },
     "metadata": {},
     "output_type": "display_data"
    }
   ],
   "source": [
    "# Q5 - cooking hours inferred by incident type\n",
    "# calculate the hour of the incidents using hour() function of lubridate\n",
    "master_tbl$hr = hour(mdy_hms(master_tbl$INCIDENT_DATE_TIME, tz = 'EST'))\n",
    "# head(master_tbl)\n",
    "# Calculate total number of incidents by hour\n",
    "hour_counts = master_tbl %>% count(hr)\n",
    "# Calculate cooking fire incidents by hour\n",
    "hour_counts$COOKF_n = sapply(hour_counts$hr, function(x) {nrow(master_tbl %>% \n",
    "    filter(hr == x, INCIDENT_TYPE_DESC == COOKF))})\n",
    "hour_counts$proportion = hour_counts$COOKF_n / hour_counts$n\n",
    "hour_counts %>% arrange(desc(proportion))"
   ]
  },
  {
   "cell_type": "code",
   "execution_count": 16,
   "metadata": {},
   "outputs": [
    {
     "data": {
      "image/png": "[encoded data removed]",
      "text/plain": [
       "plot without title"
      ]
     },
     "metadata": {
      "image/png": {
       "height": 420,
       "width": 420
      }
     },
     "output_type": "display_data"
    }
   ],
   "source": [
    "# we see the spike during dinner hours - esp. hours 17, 18, 19\n",
    "qplot(hour_counts$hr, hour_counts$proportion)"
   ]
  },
  {
   "cell_type": "code",
   "execution_count": 18,
   "metadata": {},
   "outputs": [
    {
     "data": {
      "text/html": [
       "<table>\n",
       "<caption>A data.frame: 6 × 3</caption>\n",
       "<thead>\n",
       "\t<tr><th></th><th scope=col>ZIP_CODE</th><th scope=col>n</th><th scope=col>Population</th></tr>\n",
       "\t<tr><th></th><th scope=col>&lt;dbl&gt;</th><th scope=col>&lt;int&gt;</th><th scope=col>&lt;int&gt;</th></tr>\n",
       "</thead>\n",
       "<tbody>\n",
       "\t<tr><th scope=row>1</th><td>10001</td><td> 88</td><td>24117</td></tr>\n",
       "\t<tr><th scope=row>2</th><td>10002</td><td>122</td><td>74479</td></tr>\n",
       "\t<tr><th scope=row>3</th><td>10003</td><td> 94</td><td>53977</td></tr>\n",
       "\t<tr><th scope=row>4</th><td>10004</td><td>  9</td><td> 3335</td></tr>\n",
       "\t<tr><th scope=row>5</th><td>10005</td><td>  7</td><td> 8701</td></tr>\n",
       "\t<tr><th scope=row>6</th><td>10006</td><td>  5</td><td> 3092</td></tr>\n",
       "</tbody>\n",
       "</table>\n"
      ],
      "text/latex": [
       "A data.frame: 6 × 3\n",
       "\\begin{tabular}{r|lll}\n",
       "  & ZIP\\_CODE & n & Population\\\\\n",
       "  & <dbl> & <int> & <int>\\\\\n",
       "\\hline\n",
       "\t1 & 10001 &  88 & 24117\\\\\n",
       "\t2 & 10002 & 122 & 74479\\\\\n",
       "\t3 & 10003 &  94 & 53977\\\\\n",
       "\t4 & 10004 &   9 &  3335\\\\\n",
       "\t5 & 10005 &   7 &  8701\\\\\n",
       "\t6 & 10006 &   5 &  3092\\\\\n",
       "\\end{tabular}\n"
      ],
      "text/markdown": [
       "\n",
       "A data.frame: 6 × 3\n",
       "\n",
       "| <!--/--> | ZIP_CODE &lt;dbl&gt; | n &lt;int&gt; | Population &lt;int&gt; |\n",
       "|---|---|---|---|\n",
       "| 1 | 10001 |  88 | 24117 |\n",
       "| 2 | 10002 | 122 | 74479 |\n",
       "| 3 | 10003 |  94 | 53977 |\n",
       "| 4 | 10004 |   9 |  3335 |\n",
       "| 5 | 10005 |   7 |  8701 |\n",
       "| 6 | 10006 |   5 |  3092 |\n",
       "\n"
      ],
      "text/plain": [
       "  ZIP_CODE n   Population\n",
       "1 10001     88 24117     \n",
       "2 10002    122 74479     \n",
       "3 10003     94 53977     \n",
       "4 10004      9  3335     \n",
       "5 10005      7  8701     \n",
       "6 10006      5  3092     "
      ]
     },
     "metadata": {},
     "output_type": "display_data"
    },
    {
     "data": {
      "text/html": [
       "0.791139444219266"
      ],
      "text/latex": [
       "0.791139444219266"
      ],
      "text/markdown": [
       "0.791139444219266"
      ],
      "text/plain": [
       "[1] 0.7911394"
      ]
     },
     "metadata": {},
     "output_type": "display_data"
    },
    {
     "data": {
      "image/png": "[encoded data removed]",
      "text/plain": [
       "plot without title"
      ]
     },
     "metadata": {
      "image/png": {
       "height": 420,
       "width": 420
      }
     },
     "output_type": "display_data"
    }
   ],
   "source": [
    "# Q6 - r^2 between population and building fires\n",
    "# read in the parsed table:\n",
    "# this part was run by a python snippet. The code is in Scripts/simple_web_scraper.py and also copied below:\n",
    "# # python snippet to import data table for part 2\n",
    "# # from https://www.newyork-demographics.com/zip_codes_by_population\n",
    "# # lxml was installed along with python for nice parsing of the table\n",
    "# import urllib.request as urllib2\n",
    "# import pandas as pd\n",
    "# link = 'https://www.newyork-demographics.com/zip_codes_by_population'\n",
    "# response = urllib2.urlopen(link)\n",
    "# contents = response.read()\n",
    "# tbl = pd.read_html(contents)[0]\n",
    "# # However, some zip code entries need to be parsed manually\n",
    "# # Since this table is small (~1600 rows) and main processing is being done in another script,\n",
    "# # I'm going to write the rows manually\n",
    "# out_file = '../../Table/zip_pop.tsv'\n",
    "# out_fhandle = open(out_f, 'w')\n",
    "# out_fhandle.write('ZIP_CODE\\tPopulation\\n')\n",
    "# for i in range(len(tbl)-1):\n",
    "#     zip_array = tbl['Zip Code'][i].replace(' and ', ', ').replace(',,', ',').split(', ')\n",
    "#     for z in zip_array:\n",
    "#         out_fhandle.write('%s\\t%s\\n' % (z, tbl['Population'][i]))\n",
    "# out_fhandle.close()\n",
    "\n",
    "# Now we can read in the processed zip code table\n",
    "sub_tbl = master_tbl %>% filter(INCIDENT_TYPE_DESC == BFIRE)\n",
    "zip_pop = read.table('../../Table/zip_pop.tsv', sep = '\\t', header = T, stringsAsFactors = F)\n",
    "zip_counts = sub_tbl %>% count(ZIP_CODE)\n",
    "# convert strings into numeric type\n",
    "zip_counts$ZIP_CODE = as.numeric(zip_counts$ZIP_CODE)\n",
    "# do a left_join() to merge the metadata table\n",
    "# some zip codes are missing in the table imported from website - remove these rows\n",
    "zip_counts = zip_counts %>% left_join(zip_pop, by = 'ZIP_CODE') %>% drop_na(Population)\n",
    "head(zip_counts)\n",
    "qplot(zip_counts$Population, zip_counts$n)\n",
    "cor(zip_counts$n, zip_counts$Population)"
   ]
  },
  {
   "cell_type": "code",
   "execution_count": 23,
   "metadata": {},
   "outputs": [
    {
     "data": {
      "text/html": [
       "<style>\n",
       ".list-inline {list-style: none; margin:0; padding: 0}\n",
       ".list-inline>li {display: inline-block}\n",
       ".list-inline>li:not(:last-child)::after {content: \"\\00b7\"; padding: 0 .5ex}\n",
       "</style>\n",
       "<ol class=list-inline><li>941</li><li>927</li><li>6273</li><li>26729</li></ol>\n"
      ],
      "text/latex": [
       "\\begin{enumerate*}\n",
       "\\item 941\n",
       "\\item 927\n",
       "\\item 6273\n",
       "\\item 26729\n",
       "\\end{enumerate*}\n"
      ],
      "text/markdown": [
       "1. 941\n",
       "2. 927\n",
       "3. 6273\n",
       "4. 26729\n",
       "\n",
       "\n"
      ],
      "text/plain": [
       "[1]   941   927  6273 26729"
      ]
     },
     "metadata": {},
     "output_type": "display_data"
    },
    {
     "data": {
      "text/plain": [
       "\n",
       "\tChi-squared test for given probabilities\n",
       "\n",
       "data:  tbl\n",
       "X-squared = 51799, df = 3, p-value < 2.2e-16\n"
      ]
     },
     "metadata": {},
     "output_type": "display_data"
    }
   ],
   "source": [
    "# Q7 - CO detector and fire duration, sig. testing\n",
    "# unique(master_tbl$CO_DETECTOR_PRESENT_DESC)\n",
    "# Let's only take 'Yes' and 'No' counts\n",
    "with_CO_detect = master_tbl %>% filter(CO_DETECTOR_PRESENT_DESC == 'Yes')\n",
    "without_CO_detect = master_tbl %>% filter(CO_DETECTOR_PRESENT_DESC == 'No')\n",
    "# construct contingency table\n",
    "threshold = 3600\n",
    "tbl = c(c(\n",
    "        sum(without_CO_detect$TOTAL_INCIDENT_DURATION > threshold),\n",
    "        sum(with_CO_detect$TOTAL_INCIDENT_DURATION > threshold)), \n",
    "    c(nrow(without_CO_detect), nrow(with_CO_detect)))\n",
    "tbl\n",
    "chisq.test(tbl)\n",
    "# X-squared = 51799, df = 3, p-value < 2.2e-16"
   ]
  }
 ],
 "metadata": {
  "kernelspec": {
   "display_name": "R",
   "language": "R",
   "name": "ir"
  },
  "language_info": {
   "codemirror_mode": "r",
   "file_extension": ".r",
   "mimetype": "text/x-r-source",
   "name": "R",
   "pygments_lexer": "r",
   "version": "3.6.1"
  }
 },
 "nbformat": 4,
 "nbformat_minor": 4
}
