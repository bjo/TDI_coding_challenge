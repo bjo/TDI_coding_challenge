{
 "cells": [
  {
   "cell_type": "markdown",
   "metadata": {},
   "source": [
    "# Diving deeper into the BRFSS dataset"
   ]
  },
  {
   "cell_type": "code",
   "execution_count": 2,
   "metadata": {},
   "outputs": [],
   "source": [
    "library(tidyverse)\n",
    "library(ggplot2)"
   ]
  },
  {
   "cell_type": "code",
   "execution_count": 3,
   "metadata": {},
   "outputs": [
    {
     "data": {
      "text/html": [
       "<table>\n",
       "<caption>A data.frame: 6 × 12</caption>\n",
       "<thead>\n",
       "\t<tr><th></th><th scope=col>mmsa</th><th scope=col>age</th><th scope=col>income</th><th scope=col>exercise</th><th scope=col>flushot</th><th scope=col>binging</th><th scope=col>heavy_drink</th><th scope=col>smoker</th><th scope=col>smoking_now</th><th scope=col>year</th><th scope=col>state</th><th scope=col>hpi</th></tr>\n",
       "\t<tr><th></th><th scope=col>&lt;int&gt;</th><th scope=col>&lt;int&gt;</th><th scope=col>&lt;int&gt;</th><th scope=col>&lt;int&gt;</th><th scope=col>&lt;int&gt;</th><th scope=col>&lt;int&gt;</th><th scope=col>&lt;int&gt;</th><th scope=col>&lt;int&gt;</th><th scope=col>&lt;int&gt;</th><th scope=col>&lt;int&gt;</th><th scope=col>&lt;chr&gt;</th><th scope=col>&lt;dbl&gt;</th></tr>\n",
       "</thead>\n",
       "<tbody>\n",
       "\t<tr><th scope=row>1</th><td>10740</td><td>1</td><td>3</td><td>1</td><td>NA</td><td>2</td><td>1</td><td>1</td><td>2</td><td>2003</td><td>NM</td><td>120.21</td></tr>\n",
       "\t<tr><th scope=row>2</th><td>10740</td><td>1</td><td>2</td><td>1</td><td>NA</td><td>2</td><td>1</td><td>3</td><td>1</td><td>2003</td><td>NM</td><td>120.21</td></tr>\n",
       "\t<tr><th scope=row>3</th><td>10740</td><td>1</td><td>4</td><td>1</td><td>NA</td><td>2</td><td>1</td><td>2</td><td>2</td><td>2003</td><td>NM</td><td>120.21</td></tr>\n",
       "\t<tr><th scope=row>4</th><td>10740</td><td>1</td><td>5</td><td>1</td><td>NA</td><td>1</td><td>1</td><td>1</td><td>2</td><td>2003</td><td>NM</td><td>120.21</td></tr>\n",
       "\t<tr><th scope=row>5</th><td>10740</td><td>1</td><td>3</td><td>1</td><td>NA</td><td>1</td><td>1</td><td>4</td><td>1</td><td>2003</td><td>NM</td><td>120.21</td></tr>\n",
       "\t<tr><th scope=row>6</th><td>10740</td><td>1</td><td>2</td><td>1</td><td>NA</td><td>1</td><td>1</td><td>4</td><td>1</td><td>2003</td><td>NM</td><td>120.21</td></tr>\n",
       "</tbody>\n",
       "</table>\n"
      ],
      "text/latex": [
       "A data.frame: 6 × 12\n",
       "\\begin{tabular}{r|llllllllllll}\n",
       "  & mmsa & age & income & exercise & flushot & binging & heavy\\_drink & smoker & smoking\\_now & year & state & hpi\\\\\n",
       "  & <int> & <int> & <int> & <int> & <int> & <int> & <int> & <int> & <int> & <int> & <chr> & <dbl>\\\\\n",
       "\\hline\n",
       "\t1 & 10740 & 1 & 3 & 1 & NA & 2 & 1 & 1 & 2 & 2003 & NM & 120.21\\\\\n",
       "\t2 & 10740 & 1 & 2 & 1 & NA & 2 & 1 & 3 & 1 & 2003 & NM & 120.21\\\\\n",
       "\t3 & 10740 & 1 & 4 & 1 & NA & 2 & 1 & 2 & 2 & 2003 & NM & 120.21\\\\\n",
       "\t4 & 10740 & 1 & 5 & 1 & NA & 1 & 1 & 1 & 2 & 2003 & NM & 120.21\\\\\n",
       "\t5 & 10740 & 1 & 3 & 1 & NA & 1 & 1 & 4 & 1 & 2003 & NM & 120.21\\\\\n",
       "\t6 & 10740 & 1 & 2 & 1 & NA & 1 & 1 & 4 & 1 & 2003 & NM & 120.21\\\\\n",
       "\\end{tabular}\n"
      ],
      "text/markdown": [
       "\n",
       "A data.frame: 6 × 12\n",
       "\n",
       "| <!--/--> | mmsa &lt;int&gt; | age &lt;int&gt; | income &lt;int&gt; | exercise &lt;int&gt; | flushot &lt;int&gt; | binging &lt;int&gt; | heavy_drink &lt;int&gt; | smoker &lt;int&gt; | smoking_now &lt;int&gt; | year &lt;int&gt; | state &lt;chr&gt; | hpi &lt;dbl&gt; |\n",
       "|---|---|---|---|---|---|---|---|---|---|---|---|---|\n",
       "| 1 | 10740 | 1 | 3 | 1 | NA | 2 | 1 | 1 | 2 | 2003 | NM | 120.21 |\n",
       "| 2 | 10740 | 1 | 2 | 1 | NA | 2 | 1 | 3 | 1 | 2003 | NM | 120.21 |\n",
       "| 3 | 10740 | 1 | 4 | 1 | NA | 2 | 1 | 2 | 2 | 2003 | NM | 120.21 |\n",
       "| 4 | 10740 | 1 | 5 | 1 | NA | 1 | 1 | 1 | 2 | 2003 | NM | 120.21 |\n",
       "| 5 | 10740 | 1 | 3 | 1 | NA | 1 | 1 | 4 | 1 | 2003 | NM | 120.21 |\n",
       "| 6 | 10740 | 1 | 2 | 1 | NA | 1 | 1 | 4 | 1 | 2003 | NM | 120.21 |\n",
       "\n"
      ],
      "text/plain": [
       "  mmsa  age income exercise flushot binging heavy_drink smoker smoking_now year\n",
       "1 10740 1   3      1        NA      2       1           1      2           2003\n",
       "2 10740 1   2      1        NA      2       1           3      1           2003\n",
       "3 10740 1   4      1        NA      2       1           2      2           2003\n",
       "4 10740 1   5      1        NA      1       1           1      2           2003\n",
       "5 10740 1   3      1        NA      1       1           4      1           2003\n",
       "6 10740 1   2      1        NA      1       1           4      1           2003\n",
       "  state hpi   \n",
       "1 NM    120.21\n",
       "2 NM    120.21\n",
       "3 NM    120.21\n",
       "4 NM    120.21\n",
       "5 NM    120.21\n",
       "6 NM    120.21"
      ]
     },
     "metadata": {},
     "output_type": "display_data"
    },
    {
     "data": {
      "text/html": [
       "<style>\n",
       ".list-inline {list-style: none; margin:0; padding: 0}\n",
       ".list-inline>li {display: inline-block}\n",
       ".list-inline>li:not(:last-child)::after {content: \"\\00b7\"; padding: 0 .5ex}\n",
       "</style>\n",
       "<ol class=list-inline><li>2574386</li><li>12</li></ol>\n"
      ],
      "text/latex": [
       "\\begin{enumerate*}\n",
       "\\item 2574386\n",
       "\\item 12\n",
       "\\end{enumerate*}\n"
      ],
      "text/markdown": [
       "1. 2574386\n",
       "2. 12\n",
       "\n",
       "\n"
      ],
      "text/plain": [
       "[1] 2574386      12"
      ]
     },
     "metadata": {},
     "output_type": "display_data"
    }
   ],
   "source": [
    "brfss_table = read.table('../../Table/BRFSS/BRFSS_cleaned_master.tsv', \n",
    "    stringsAsFactors = F, sep = '\\t', header = T)\n",
    "head(brfss_table)\n",
    "dim(brfss_table)"
   ]
  },
  {
   "cell_type": "code",
   "execution_count": 4,
   "metadata": {},
   "outputs": [
    {
     "data": {
      "text/html": [
       "265"
      ],
      "text/latex": [
       "265"
      ],
      "text/markdown": [
       "265"
      ],
      "text/plain": [
       "[1] 265"
      ]
     },
     "metadata": {},
     "output_type": "display_data"
    },
    {
     "data": {
      "text/html": [
       "<style>\n",
       ".list-inline {list-style: none; margin:0; padding: 0}\n",
       ".list-inline>li {display: inline-block}\n",
       ".list-inline>li:not(:last-child)::after {content: \"\\00b7\"; padding: 0 .5ex}\n",
       "</style>\n",
       "<ol class=list-inline><li>1</li><li>2</li><li>3</li><li>4</li><li>5</li><li>14</li><li>6</li><li>7</li><li>8</li><li>9</li><li>10</li><li>11</li><li>12</li><li>13</li></ol>\n"
      ],
      "text/latex": [
       "\\begin{enumerate*}\n",
       "\\item 1\n",
       "\\item 2\n",
       "\\item 3\n",
       "\\item 4\n",
       "\\item 5\n",
       "\\item 14\n",
       "\\item 6\n",
       "\\item 7\n",
       "\\item 8\n",
       "\\item 9\n",
       "\\item 10\n",
       "\\item 11\n",
       "\\item 12\n",
       "\\item 13\n",
       "\\end{enumerate*}\n"
      ],
      "text/markdown": [
       "1. 1\n",
       "2. 2\n",
       "3. 3\n",
       "4. 4\n",
       "5. 5\n",
       "6. 14\n",
       "7. 6\n",
       "8. 7\n",
       "9. 8\n",
       "10. 9\n",
       "11. 10\n",
       "12. 11\n",
       "13. 12\n",
       "14. 13\n",
       "\n",
       "\n"
      ],
      "text/plain": [
       " [1]  1  2  3  4  5 14  6  7  8  9 10 11 12 13"
      ]
     },
     "metadata": {},
     "output_type": "display_data"
    },
    {
     "data": {
      "text/html": [
       "<style>\n",
       ".list-inline {list-style: none; margin:0; padding: 0}\n",
       ".list-inline>li {display: inline-block}\n",
       ".list-inline>li:not(:last-child)::after {content: \"\\00b7\"; padding: 0 .5ex}\n",
       "</style>\n",
       "<ol class=list-inline><li>3</li><li>2</li><li>4</li><li>5</li><li>9</li><li>1</li></ol>\n"
      ],
      "text/latex": [
       "\\begin{enumerate*}\n",
       "\\item 3\n",
       "\\item 2\n",
       "\\item 4\n",
       "\\item 5\n",
       "\\item 9\n",
       "\\item 1\n",
       "\\end{enumerate*}\n"
      ],
      "text/markdown": [
       "1. 3\n",
       "2. 2\n",
       "3. 4\n",
       "4. 5\n",
       "5. 9\n",
       "6. 1\n",
       "\n",
       "\n"
      ],
      "text/plain": [
       "[1] 3 2 4 5 9 1"
      ]
     },
     "metadata": {},
     "output_type": "display_data"
    },
    {
     "data": {
      "text/html": [
       "<style>\n",
       ".list-inline {list-style: none; margin:0; padding: 0}\n",
       ".list-inline>li {display: inline-block}\n",
       ".list-inline>li:not(:last-child)::after {content: \"\\00b7\"; padding: 0 .5ex}\n",
       "</style>\n",
       "<ol class=list-inline><li>1</li><li>2</li><li>9</li></ol>\n"
      ],
      "text/latex": [
       "\\begin{enumerate*}\n",
       "\\item 1\n",
       "\\item 2\n",
       "\\item 9\n",
       "\\end{enumerate*}\n"
      ],
      "text/markdown": [
       "1. 1\n",
       "2. 2\n",
       "3. 9\n",
       "\n",
       "\n"
      ],
      "text/plain": [
       "[1] 1 2 9"
      ]
     },
     "metadata": {},
     "output_type": "display_data"
    },
    {
     "data": {
      "text/html": [
       "<style>\n",
       ".list-inline {list-style: none; margin:0; padding: 0}\n",
       ".list-inline>li {display: inline-block}\n",
       ".list-inline>li:not(:last-child)::after {content: \"\\00b7\"; padding: 0 .5ex}\n",
       "</style>\n",
       "<ol class=list-inline><li>&lt;NA&gt;</li><li>9</li><li>2</li><li>1</li></ol>\n"
      ],
      "text/latex": [
       "\\begin{enumerate*}\n",
       "\\item <NA>\n",
       "\\item 9\n",
       "\\item 2\n",
       "\\item 1\n",
       "\\end{enumerate*}\n"
      ],
      "text/markdown": [
       "1. &lt;NA&gt;\n",
       "2. 9\n",
       "3. 2\n",
       "4. 1\n",
       "\n",
       "\n"
      ],
      "text/plain": [
       "[1] NA  9  2  1"
      ]
     },
     "metadata": {},
     "output_type": "display_data"
    },
    {
     "data": {
      "text/html": [
       "<style>\n",
       ".list-inline {list-style: none; margin:0; padding: 0}\n",
       ".list-inline>li {display: inline-block}\n",
       ".list-inline>li:not(:last-child)::after {content: \"\\00b7\"; padding: 0 .5ex}\n",
       "</style>\n",
       "<ol class=list-inline><li>2</li><li>1</li><li>9</li></ol>\n"
      ],
      "text/latex": [
       "\\begin{enumerate*}\n",
       "\\item 2\n",
       "\\item 1\n",
       "\\item 9\n",
       "\\end{enumerate*}\n"
      ],
      "text/markdown": [
       "1. 2\n",
       "2. 1\n",
       "3. 9\n",
       "\n",
       "\n"
      ],
      "text/plain": [
       "[1] 2 1 9"
      ]
     },
     "metadata": {},
     "output_type": "display_data"
    },
    {
     "data": {
      "text/html": [
       "<style>\n",
       ".list-inline {list-style: none; margin:0; padding: 0}\n",
       ".list-inline>li {display: inline-block}\n",
       ".list-inline>li:not(:last-child)::after {content: \"\\00b7\"; padding: 0 .5ex}\n",
       "</style>\n",
       "<ol class=list-inline><li>1</li><li>2</li><li>9</li></ol>\n"
      ],
      "text/latex": [
       "\\begin{enumerate*}\n",
       "\\item 1\n",
       "\\item 2\n",
       "\\item 9\n",
       "\\end{enumerate*}\n"
      ],
      "text/markdown": [
       "1. 1\n",
       "2. 2\n",
       "3. 9\n",
       "\n",
       "\n"
      ],
      "text/plain": [
       "[1] 1 2 9"
      ]
     },
     "metadata": {},
     "output_type": "display_data"
    },
    {
     "data": {
      "text/html": [
       "<style>\n",
       ".list-inline {list-style: none; margin:0; padding: 0}\n",
       ".list-inline>li {display: inline-block}\n",
       ".list-inline>li:not(:last-child)::after {content: \"\\00b7\"; padding: 0 .5ex}\n",
       "</style>\n",
       "<ol class=list-inline><li>1</li><li>3</li><li>2</li><li>4</li><li>9</li></ol>\n"
      ],
      "text/latex": [
       "\\begin{enumerate*}\n",
       "\\item 1\n",
       "\\item 3\n",
       "\\item 2\n",
       "\\item 4\n",
       "\\item 9\n",
       "\\end{enumerate*}\n"
      ],
      "text/markdown": [
       "1. 1\n",
       "2. 3\n",
       "3. 2\n",
       "4. 4\n",
       "5. 9\n",
       "\n",
       "\n"
      ],
      "text/plain": [
       "[1] 1 3 2 4 9"
      ]
     },
     "metadata": {},
     "output_type": "display_data"
    },
    {
     "data": {
      "text/html": [
       "<style>\n",
       ".list-inline {list-style: none; margin:0; padding: 0}\n",
       ".list-inline>li {display: inline-block}\n",
       ".list-inline>li:not(:last-child)::after {content: \"\\00b7\"; padding: 0 .5ex}\n",
       "</style>\n",
       "<ol class=list-inline><li>2</li><li>1</li><li>9</li></ol>\n"
      ],
      "text/latex": [
       "\\begin{enumerate*}\n",
       "\\item 2\n",
       "\\item 1\n",
       "\\item 9\n",
       "\\end{enumerate*}\n"
      ],
      "text/markdown": [
       "1. 2\n",
       "2. 1\n",
       "3. 9\n",
       "\n",
       "\n"
      ],
      "text/plain": [
       "[1] 2 1 9"
      ]
     },
     "metadata": {},
     "output_type": "display_data"
    },
    {
     "data": {
      "text/html": [
       "<style>\n",
       ".list-inline {list-style: none; margin:0; padding: 0}\n",
       ".list-inline>li {display: inline-block}\n",
       ".list-inline>li:not(:last-child)::after {content: \"\\00b7\"; padding: 0 .5ex}\n",
       "</style>\n",
       "<ol class=list-inline><li>2003</li><li>2004</li><li>2005</li><li>2006</li><li>2008</li><li>2013</li><li>2014</li><li>2015</li><li>2016</li><li>2017</li><li>2018</li><li>2019</li></ol>\n"
      ],
      "text/latex": [
       "\\begin{enumerate*}\n",
       "\\item 2003\n",
       "\\item 2004\n",
       "\\item 2005\n",
       "\\item 2006\n",
       "\\item 2008\n",
       "\\item 2013\n",
       "\\item 2014\n",
       "\\item 2015\n",
       "\\item 2016\n",
       "\\item 2017\n",
       "\\item 2018\n",
       "\\item 2019\n",
       "\\end{enumerate*}\n"
      ],
      "text/markdown": [
       "1. 2003\n",
       "2. 2004\n",
       "3. 2005\n",
       "4. 2006\n",
       "5. 2008\n",
       "6. 2013\n",
       "7. 2014\n",
       "8. 2015\n",
       "9. 2016\n",
       "10. 2017\n",
       "11. 2018\n",
       "12. 2019\n",
       "\n",
       "\n"
      ],
      "text/plain": [
       " [1] 2003 2004 2005 2006 2008 2013 2014 2015 2016 2017 2018 2019"
      ]
     },
     "metadata": {},
     "output_type": "display_data"
    }
   ],
   "source": [
    "# some basic stats on each column - we have 3 range variables and 5 binary variables\n",
    "length(unique(brfss_table$mmsa)) # data available from 265 MSA's\n",
    "unique(brfss_table$age) # range (1 to 14)\n",
    "unique(brfss_table$income) # range (1 to 5)\n",
    "unique(brfss_table$exercise) # binary (1 or 2)\n",
    "unique(brfss_table$flushot) # binary (1 or 2)\n",
    "unique(brfss_table$binging) # binary (1 or 2)\n",
    "unique(brfss_table$heavy_drink) # binary (1 or 2)\n",
    "unique(brfss_table$smoker) # range (1 to 4)\n",
    "unique(brfss_table$smoking_now) # binary (1 or 2)\n",
    "unique(brfss_table$year) # years 2003 to 2019, but some gaps in between, including 4 years between 2008 and 2013"
   ]
  },
  {
   "cell_type": "markdown",
   "metadata": {},
   "source": [
    "## Question: does income play a role in behavioral risk factors?"
   ]
  },
  {
   "cell_type": "code",
   "execution_count": 8,
   "metadata": {},
   "outputs": [
    {
     "data": {
      "text/plain": [
       "\n",
       "Call:\n",
       "lm(formula = exercise ~ income, data = tbl)\n",
       "\n",
       "Residuals:\n",
       "    Min      1Q  Median      3Q     Max \n",
       "-0.4265 -0.2238 -0.1562 -0.1562  0.8438 \n",
       "\n",
       "Coefficients:\n",
       "              Estimate Std. Error t value Pr(>|t|)    \n",
       "(Intercept)  1.4941135  0.0008073  1850.7   <2e-16 ***\n",
       "income      -0.0675884  0.0001990  -339.7   <2e-16 ***\n",
       "---\n",
       "Signif. codes:  0 '***' 0.001 '**' 0.01 '*' 0.05 '.' 0.1 ' ' 1\n",
       "\n",
       "Residual standard error: 0.4144 on 2127443 degrees of freedom\n",
       "Multiple R-squared:  0.05145,\tAdjusted R-squared:  0.05145 \n",
       "F-statistic: 1.154e+05 on 1 and 2127443 DF,  p-value: < 2.2e-16\n"
      ]
     },
     "metadata": {},
     "output_type": "display_data"
    },
    {
     "data": {
      "text/plain": [
       "\n",
       "Call:\n",
       "lm(formula = flushot ~ income, data = tbl)\n",
       "\n",
       "Residuals:\n",
       "    Min      1Q  Median      3Q     Max \n",
       "-0.4115 -0.3677 -0.3239  0.6104  0.6761 \n",
       "\n",
       "Coefficients:\n",
       "              Estimate Std. Error t value Pr(>|t|)    \n",
       "(Intercept)  1.4333783  0.0016341  877.15   <2e-16 ***\n",
       "income      -0.0219017  0.0004373  -50.08   <2e-16 ***\n",
       "---\n",
       "Signif. codes:  0 '***' 0.001 '**' 0.01 '*' 0.05 '.' 0.1 ' ' 1\n",
       "\n",
       "Residual standard error: 0.4783 on 576488 degrees of freedom\n",
       "Multiple R-squared:  0.004332,\tAdjusted R-squared:  0.00433 \n",
       "F-statistic:  2508 on 1 and 576488 DF,  p-value: < 2.2e-16\n"
      ]
     },
     "metadata": {},
     "output_type": "display_data"
    },
    {
     "data": {
      "text/plain": [
       "\n",
       "Call:\n",
       "lm(formula = binging ~ income, data = tbl)\n",
       "\n",
       "Residuals:\n",
       "    Min      1Q  Median      3Q     Max \n",
       "-0.1573 -0.1573 -0.1405 -0.1068  0.9100 \n",
       "\n",
       "Coefficients:\n",
       "             Estimate Std. Error t value Pr(>|t|)    \n",
       "(Intercept) 1.0731944  0.0006731  1594.3   <2e-16 ***\n",
       "income      0.0168165  0.0001658   101.4   <2e-16 ***\n",
       "---\n",
       "Signif. codes:  0 '***' 0.001 '**' 0.01 '*' 0.05 '.' 0.1 ' ' 1\n",
       "\n",
       "Residual standard error: 0.3431 on 2102283 degrees of freedom\n",
       "Multiple R-squared:  0.004869,\tAdjusted R-squared:  0.004868 \n",
       "F-statistic: 1.029e+04 on 1 and 2102283 DF,  p-value: < 2.2e-16\n"
      ]
     },
     "metadata": {},
     "output_type": "display_data"
    },
    {
     "data": {
      "text/plain": [
       "\n",
       "Call:\n",
       "lm(formula = heavy_drink ~ income, data = tbl)\n",
       "\n",
       "Residuals:\n",
       "     Min       1Q   Median       3Q      Max \n",
       "-0.06644 -0.06644 -0.05935 -0.04515  0.96195 \n",
       "\n",
       "Coefficients:\n",
       "             Estimate Std. Error t value Pr(>|t|)    \n",
       "(Intercept) 1.0309558  0.0004583 2249.59   <2e-16 ***\n",
       "income      0.0070975  0.0001129   62.88   <2e-16 ***\n",
       "---\n",
       "Signif. codes:  0 '***' 0.001 '**' 0.01 '*' 0.05 '.' 0.1 ' ' 1\n",
       "\n",
       "Residual standard error: 0.2334 on 2099441 degrees of freedom\n",
       "Multiple R-squared:  0.00188,\tAdjusted R-squared:  0.001879 \n",
       "F-statistic:  3954 on 1 and 2099441 DF,  p-value: < 2.2e-16\n"
      ]
     },
     "metadata": {},
     "output_type": "display_data"
    },
    {
     "data": {
      "text/plain": [
       "\n",
       "Call:\n",
       "lm(formula = smoker ~ income, data = tbl)\n",
       "\n",
       "Residuals:\n",
       "    Min      1Q  Median      3Q     Max \n",
       "-2.4143 -0.4143  0.5857  0.6937  1.0178 \n",
       "\n",
       "Coefficients:\n",
       "             Estimate Std. Error t value Pr(>|t|)    \n",
       "(Intercept) 2.8741625  0.0018951  1516.6   <2e-16 ***\n",
       "income      0.1080285  0.0004672   231.2   <2e-16 ***\n",
       "---\n",
       "Signif. codes:  0 '***' 0.001 '**' 0.01 '*' 0.05 '.' 0.1 ' ' 1\n",
       "\n",
       "Residual standard error: 0.975 on 2133966 degrees of freedom\n",
       "Multiple R-squared:  0.02444,\tAdjusted R-squared:  0.02444 \n",
       "F-statistic: 5.347e+04 on 1 and 2133966 DF,  p-value: < 2.2e-16\n"
      ]
     },
     "metadata": {},
     "output_type": "display_data"
    },
    {
     "data": {
      "text/plain": [
       "\n",
       "Call:\n",
       "lm(formula = smoking_now ~ income, data = tbl)\n",
       "\n",
       "Residuals:\n",
       "    Min      1Q  Median      3Q     Max \n",
       "-0.2750 -0.1917 -0.1084 -0.1084  0.8916 \n",
       "\n",
       "Coefficients:\n",
       "              Estimate Std. Error t value Pr(>|t|)    \n",
       "(Intercept)  1.3166116  0.0007004  1879.8   <2e-16 ***\n",
       "income      -0.0416485  0.0001727  -241.2   <2e-16 ***\n",
       "---\n",
       "Signif. codes:  0 '***' 0.001 '**' 0.01 '*' 0.05 '.' 0.1 ' ' 1\n",
       "\n",
       "Residual standard error: 0.3603 on 2133966 degrees of freedom\n",
       "Multiple R-squared:  0.02654,\tAdjusted R-squared:  0.02654 \n",
       "F-statistic: 5.818e+04 on 1 and 2133966 DF,  p-value: < 2.2e-16\n"
      ]
     },
     "metadata": {},
     "output_type": "display_data"
    }
   ],
   "source": [
    "# 1 - exercise\n",
    "tbl = brfss_table %>% filter(exercise < 9, income < 9)\n",
    "summary(lm(exercise ~ income, data = tbl))\n",
    "# 2- flushot\n",
    "tbl = brfss_table %>% filter(flushot < 9, income < 9)\n",
    "summary(lm(flushot ~ income, data = tbl))\n",
    "# 3 - binging\n",
    "tbl = brfss_table %>% filter(binging < 9, income < 9)\n",
    "summary(lm(binging ~ income, data = tbl))\n",
    "# 4 - heavy_drink\n",
    "tbl = brfss_table %>% filter(heavy_drink < 9, income < 9)\n",
    "summary(lm(heavy_drink ~ income, data = tbl))\n",
    "# 5 - smoker\n",
    "tbl = brfss_table %>% filter(smoker < 9, income < 9)\n",
    "summary(lm(smoker ~ income, data = tbl))\n",
    "# 6 - smoking_now\n",
    "tbl = brfss_table %>% filter(smoking_now < 9, income < 9)\n",
    "summary(lm(smoking_now ~ income, data = tbl))"
   ]
  },
  {
   "cell_type": "markdown",
   "metadata": {},
   "source": [
    "summary from linear regression studies - beta means effect sizes:\n",
    "- higher income means more exercise (negative beta)\n",
    "- higher income means more flu vaccination (negative beta)\n",
    "- higher income means more binging and heavy drinking (positive beta)\n",
    "- higher income means less smoking (positive beta) and higher chance of quitting (negative beta)\n",
    "\n",
    "### Higher income affects exercise, vaccination and smoking positively, but affects drinking negatively."
   ]
  },
  {
   "cell_type": "markdown",
   "metadata": {},
   "source": [
    "### Example visualization: income and smoking"
   ]
  },
  {
   "cell_type": "code",
   "execution_count": 34,
   "metadata": {},
   "outputs": [
    {
     "data": {
      "image/png": "[encoded data removed]",
      "text/plain": [
       "plot without title"
      ]
     },
     "metadata": {
      "image/png": {
       "height": 420,
       "width": 420
      }
     },
     "output_type": "display_data"
    }
   ],
   "source": [
    "options(repr.plot.width=8, repr.plot.height=4)\n",
    "# plot total number of reports by category\n",
    "cols_eval = c('income', 'smoker')\n",
    "plot_df = brfss_table %>% filter(smoker < 9, income < 9)\n",
    "ggplot(plot_df, aes(x = factor(income), fill = factor(smoker))) + geom_bar(position = 'dodge')"
   ]
  },
  {
   "cell_type": "code",
   "execution_count": 39,
   "metadata": {},
   "outputs": [
    {
     "data": {
      "image/png": "[encoded data removed]",
      "text/plain": [
       "plot without title"
      ]
     },
     "metadata": {
      "image/png": {
       "height": 420,
       "width": 420
      }
     },
     "output_type": "display_data"
    }
   ],
   "source": [
    "# also plot proportions for each income bracket:\n",
    "plot_list = list()\n",
    "counts_df = plot_df %>% count(income)\n",
    "for (i in c(1:4)) {\n",
    "    plot_list[[i]] = data.frame(income = c(1:5), smoker = i,\n",
    "        proportion = sapply(c(1:5), function(x) {nrow(plot_df %>% filter(income == x, smoker == i))}) / counts_df$n\n",
    "    )\n",
    "}\n",
    "proportion_plot_df = do.call('rbind', plot_list)\n",
    "\n",
    "ggplot(proportion_plot_df, aes(x = factor(income), y = proportion, fill = factor(smoker))) + geom_bar(position = 'dodge', stat = 'identity')"
   ]
  },
  {
   "cell_type": "markdown",
   "metadata": {},
   "source": [
    "### Conclusion: this plot shows the protective effect of income on smoking: > 60% of people with incomes over 50,000 USD say they have never smoked (smoker = 4). Meanwhile, close to 20% of people with incomes less than 15,000 USD say they are daily smokers (smoker = 1)."
   ]
  },
  {
   "cell_type": "markdown",
   "metadata": {},
   "source": [
    "## Question: are Americans engaging in more healthy behaviors over time?"
   ]
  },
  {
   "cell_type": "code",
   "execution_count": 7,
   "metadata": {},
   "outputs": [
    {
     "data": {
      "text/plain": [
       "\n",
       "Call:\n",
       "lm(formula = exercise ~ year, data = tbl)\n",
       "\n",
       "Residuals:\n",
       "    Min      1Q  Median      3Q     Max \n",
       "-0.2489 -0.2471 -0.2422 -0.2392  0.7608 \n",
       "\n",
       "Coefficients:\n",
       "             Estimate Std. Error t value Pr(>|t|)    \n",
       "(Intercept) 2.039e-02  1.020e-01     0.2    0.842    \n",
       "year        6.085e-04  5.071e-05    12.0   <2e-16 ***\n",
       "---\n",
       "Signif. codes:  0 '***' 0.001 '**' 0.01 '*' 0.05 '.' 0.1 ' ' 1\n",
       "\n",
       "Residual standard error: 0.4299 on 2502972 degrees of freedom\n",
       "Multiple R-squared:  5.752e-05,\tAdjusted R-squared:  5.712e-05 \n",
       "F-statistic:   144 on 1 and 2502972 DF,  p-value: < 2.2e-16\n"
      ]
     },
     "metadata": {},
     "output_type": "display_data"
    },
    {
     "data": {
      "text/plain": [
       "\n",
       "Call:\n",
       "lm(formula = flushot ~ year, data = tbl)\n",
       "\n",
       "Residuals:\n",
       "    Min      1Q  Median      3Q     Max \n",
       "-0.3930 -0.3706 -0.3202  0.6182  0.6965 \n",
       "\n",
       "Coefficients:\n",
       "              Estimate Std. Error t value Pr(>|t|)    \n",
       "(Intercept) -9.9002675  0.2236880  -44.26   <2e-16 ***\n",
       "year         0.0055935  0.0001111   50.33   <2e-16 ***\n",
       "---\n",
       "Signif. codes:  0 '***' 0.001 '**' 0.01 '*' 0.05 '.' 0.1 ' ' 1\n",
       "\n",
       "Residual standard error: 0.4787 on 723917 degrees of freedom\n",
       "Multiple R-squared:  0.003487,\tAdjusted R-squared:  0.003486 \n",
       "F-statistic:  2533 on 1 and 723917 DF,  p-value: < 2.2e-16\n"
      ]
     },
     "metadata": {},
     "output_type": "display_data"
    },
    {
     "data": {
      "text/plain": [
       "\n",
       "Call:\n",
       "lm(formula = binging ~ year, data = tbl)\n",
       "\n",
       "Residuals:\n",
       "    Min      1Q  Median      3Q     Max \n",
       "-0.1378 -0.1336 -0.1295 -0.1186  0.8842 \n",
       "\n",
       "Coefficients:\n",
       "              Estimate Std. Error t value Pr(>|t|)    \n",
       "(Intercept) -1.629e+00  8.009e-02  -20.34   <2e-16 ***\n",
       "year         1.370e-03  3.981e-05   34.42   <2e-16 ***\n",
       "---\n",
       "Signif. codes:  0 '***' 0.001 '**' 0.01 '*' 0.05 '.' 0.1 ' ' 1\n",
       "\n",
       "Residual standard error: 0.3342 on 2454529 degrees of freedom\n",
       "Multiple R-squared:  0.0004825,\tAdjusted R-squared:  0.0004821 \n",
       "F-statistic:  1185 on 1 and 2454529 DF,  p-value: < 2.2e-16\n"
      ]
     },
     "metadata": {},
     "output_type": "display_data"
    },
    {
     "data": {
      "text/plain": [
       "\n",
       "Call:\n",
       "lm(formula = heavy_drink ~ year, data = tbl)\n",
       "\n",
       "Residuals:\n",
       "     Min       1Q   Median       3Q      Max \n",
       "-0.06037 -0.05795 -0.05553 -0.04988  0.95254 \n",
       "\n",
       "Coefficients:\n",
       "              Estimate Std. Error t value Pr(>|t|)    \n",
       "(Intercept) -5.690e-01  5.455e-02  -10.43   <2e-16 ***\n",
       "year         8.070e-04  2.711e-05   29.76   <2e-16 ***\n",
       "---\n",
       "Signif. codes:  0 '***' 0.001 '**' 0.01 '*' 0.05 '.' 0.1 ' ' 1\n",
       "\n",
       "Residual standard error: 0.2274 on 2449879 degrees of freedom\n",
       "Multiple R-squared:  0.0003615,\tAdjusted R-squared:  0.0003611 \n",
       "F-statistic: 885.9 on 1 and 2449879 DF,  p-value: < 2.2e-16\n"
      ]
     },
     "metadata": {},
     "output_type": "display_data"
    },
    {
     "data": {
      "text/plain": [
       "\n",
       "Call:\n",
       "lm(formula = smoker ~ year, data = tbl)\n",
       "\n",
       "Residuals:\n",
       "    Min      1Q  Median      3Q     Max \n",
       "-2.3925 -0.3526  0.6208  0.6873  0.8203 \n",
       "\n",
       "Coefficients:\n",
       "              Estimate Std. Error t value Pr(>|t|)    \n",
       "(Intercept) -2.345e+01  2.319e-01  -101.1   <2e-16 ***\n",
       "year         1.330e-02  1.152e-04   115.4   <2e-16 ***\n",
       "---\n",
       "Signif. codes:  0 '***' 0.001 '**' 0.01 '*' 0.05 '.' 0.1 ' ' 1\n",
       "\n",
       "Residual standard error: 0.9753 on 2500728 degrees of freedom\n",
       "Multiple R-squared:  0.005294,\tAdjusted R-squared:  0.005294 \n",
       "F-statistic: 1.331e+04 on 1 and 2500728 DF,  p-value: < 2.2e-16\n"
      ]
     },
     "metadata": {},
     "output_type": "display_data"
    },
    {
     "data": {
      "text/plain": [
       "\n",
       "Call:\n",
       "lm(formula = smoking_now ~ year, data = tbl)\n",
       "\n",
       "Residuals:\n",
       "    Min      1Q  Median      3Q     Max \n",
       "-0.1948 -0.1720 -0.1401 -0.1264  0.8782 \n",
       "\n",
       "Coefficients:\n",
       "              Estimate Std. Error t value Pr(>|t|)    \n",
       "(Intercept) 10.3304576  0.0855217   120.8   <2e-16 ***\n",
       "year        -0.0045610  0.0000425  -107.3   <2e-16 ***\n",
       "---\n",
       "Signif. codes:  0 '***' 0.001 '**' 0.01 '*' 0.05 '.' 0.1 ' ' 1\n",
       "\n",
       "Residual standard error: 0.3597 on 2500728 degrees of freedom\n",
       "Multiple R-squared:  0.004583,\tAdjusted R-squared:  0.004583 \n",
       "F-statistic: 1.151e+04 on 1 and 2500728 DF,  p-value: < 2.2e-16\n"
      ]
     },
     "metadata": {},
     "output_type": "display_data"
    }
   ],
   "source": [
    "# 1 - exercise\n",
    "tbl = brfss_table %>% filter(exercise < 9)\n",
    "summary(lm(exercise ~ year, data = tbl))\n",
    "# 2- flushot\n",
    "tbl = brfss_table %>% filter(flushot < 9)\n",
    "summary(lm(flushot ~ year, data = tbl))\n",
    "# 3 - binging\n",
    "tbl = brfss_table %>% filter(binging < 9)\n",
    "summary(lm(binging ~ year, data = tbl))\n",
    "# 4 - heavy_drink\n",
    "tbl = brfss_table %>% filter(heavy_drink < 9)\n",
    "summary(lm(heavy_drink ~ year, data = tbl))\n",
    "# 5 - smoker\n",
    "tbl = brfss_table %>% filter(smoker < 9)\n",
    "summary(lm(smoker ~ year, data = tbl))\n",
    "# 6 - smoking_now\n",
    "tbl = brfss_table %>% filter(smoking_now < 9)\n",
    "summary(lm(smoking_now ~ year, data = tbl))"
   ]
  },
  {
   "cell_type": "markdown",
   "metadata": {},
   "source": [
    "summary from linear regression studies - beta means effect sizes:\n",
    "- over time, Americans are getting less exercise (positive beta)\n",
    "- over time, Americans are getting less flu vaccination (positive beta)\n",
    "- over time, Americans are doing more binging and heavy drinking (positive beta)\n",
    "- over time, Americans are smoking less (positive beta) and has higher chance of quitting (negative beta)\n",
    "\n",
    "### Over time, Americans are smoking less, but drinking more and getting exercise and vaccinations less.\n",
    "\n",
    "Focusing on drinking behavior, either Americans are binging more and are becoming heavier drinkers, or these behaviors simply being reported in higher frequency. Before we go into causal analysis, let's actually see what is going on:"
   ]
  },
  {
   "cell_type": "code",
   "execution_count": 47,
   "metadata": {},
   "outputs": [
    {
     "data": {
      "image/png": "[encoded data removed]",
      "text/plain": [
       "plot without title"
      ]
     },
     "metadata": {
      "image/png": {
       "height": 420,
       "width": 420
      }
     },
     "output_type": "display_data"
    },
    {
     "data": {
      "image/png": "[encoded data removed]",
      "text/plain": [
       "plot without title"
      ]
     },
     "metadata": {
      "image/png": {
       "height": 420,
       "width": 420
      }
     },
     "output_type": "display_data"
    }
   ],
   "source": [
    "# Let's look at exercise first\n",
    "cols_eval = c('year', 'exercise')\n",
    "plot_df = brfss_table %>% filter(exercise < 9)\n",
    "ggplot(plot_df, aes(x = year, fill = factor(exercise))) + geom_bar(position = 'dodge')\n",
    "\n",
    "plot_list = list()\n",
    "counts_df = plot_df %>% count(year)\n",
    "for (i in c(1:2)) {\n",
    "    plot_list[[i]] = data.frame(year = counts_df$year, exercise = i,\n",
    "        proportion = sapply(counts_df$year, function(x) {nrow(plot_df %>% filter(year == x, binging == i))}) / counts_df$n\n",
    "    )\n",
    "}\n",
    "proportion_plot_df = do.call('rbind', plot_list)\n",
    "\n",
    "ggplot(proportion_plot_df, aes(x = year, y = proportion, fill = factor(exercise))) + geom_bar(position = 'dodge', stat = 'identity')"
   ]
  },
  {
   "cell_type": "code",
   "execution_count": 57,
   "metadata": {},
   "outputs": [
    {
     "data": {
      "image/png": "[encoded data removed]",
      "text/plain": [
       "plot without title"
      ]
     },
     "metadata": {
      "image/png": {
       "height": 420,
       "width": 420
      }
     },
     "output_type": "display_data"
    }
   ],
   "source": [
    "# Let's also look at binging\n",
    "cols_eval = c('year', 'binging')\n",
    "plot_df = brfss_table %>% filter(binging < 9)\n",
    "# ggplot(plot_df, aes(x = year, fill = factor(binging))) + geom_bar(position = 'dodge')\n",
    "plot_list = list()\n",
    "counts_df = plot_df %>% count(year)\n",
    "for (i in c(1:2)) {\n",
    "    plot_list[[i]] = data.frame(year = counts_df$year, binging = i,\n",
    "        proportion = sapply(counts_df$year, function(x) {nrow(plot_df %>% filter(year == x, binging == i))}) / counts_df$n\n",
    "    )\n",
    "}\n",
    "proportion_plot_df = do.call('rbind', plot_list)\n",
    "ggplot(proportion_plot_df, aes(x = year, y = proportion, fill = factor(binging))) + geom_bar(position = 'dodge', stat = 'identity')"
   ]
  },
  {
   "cell_type": "code",
   "execution_count": 58,
   "metadata": {},
   "outputs": [
    {
     "data": {
      "text/html": [
       "<table>\n",
       "<caption>A data.frame: 6 × 3</caption>\n",
       "<thead>\n",
       "\t<tr><th></th><th scope=col>year</th><th scope=col>binging</th><th scope=col>proportion</th></tr>\n",
       "\t<tr><th></th><th scope=col>&lt;int&gt;</th><th scope=col>&lt;int&gt;</th><th scope=col>&lt;dbl&gt;</th></tr>\n",
       "</thead>\n",
       "<tbody>\n",
       "\t<tr><th scope=row>19</th><td>2014</td><td>2</td><td>0.1238323</td></tr>\n",
       "\t<tr><th scope=row>20</th><td>2015</td><td>2</td><td>0.1256734</td></tr>\n",
       "\t<tr><th scope=row>21</th><td>2016</td><td>2</td><td>0.1355804</td></tr>\n",
       "\t<tr><th scope=row>22</th><td>2017</td><td>2</td><td>0.1388585</td></tr>\n",
       "\t<tr><th scope=row>23</th><td>2018</td><td>2</td><td>0.1413872</td></tr>\n",
       "\t<tr><th scope=row>24</th><td>2019</td><td>2</td><td>0.1398778</td></tr>\n",
       "</tbody>\n",
       "</table>\n"
      ],
      "text/latex": [
       "A data.frame: 6 × 3\n",
       "\\begin{tabular}{r|lll}\n",
       "  & year & binging & proportion\\\\\n",
       "  & <int> & <int> & <dbl>\\\\\n",
       "\\hline\n",
       "\t19 & 2014 & 2 & 0.1238323\\\\\n",
       "\t20 & 2015 & 2 & 0.1256734\\\\\n",
       "\t21 & 2016 & 2 & 0.1355804\\\\\n",
       "\t22 & 2017 & 2 & 0.1388585\\\\\n",
       "\t23 & 2018 & 2 & 0.1413872\\\\\n",
       "\t24 & 2019 & 2 & 0.1398778\\\\\n",
       "\\end{tabular}\n"
      ],
      "text/markdown": [
       "\n",
       "A data.frame: 6 × 3\n",
       "\n",
       "| <!--/--> | year &lt;int&gt; | binging &lt;int&gt; | proportion &lt;dbl&gt; |\n",
       "|---|---|---|---|\n",
       "| 19 | 2014 | 2 | 0.1238323 |\n",
       "| 20 | 2015 | 2 | 0.1256734 |\n",
       "| 21 | 2016 | 2 | 0.1355804 |\n",
       "| 22 | 2017 | 2 | 0.1388585 |\n",
       "| 23 | 2018 | 2 | 0.1413872 |\n",
       "| 24 | 2019 | 2 | 0.1398778 |\n",
       "\n"
      ],
      "text/plain": [
       "   year binging proportion\n",
       "19 2014 2       0.1238323 \n",
       "20 2015 2       0.1256734 \n",
       "21 2016 2       0.1355804 \n",
       "22 2017 2       0.1388585 \n",
       "23 2018 2       0.1413872 \n",
       "24 2019 2       0.1398778 "
      ]
     },
     "metadata": {},
     "output_type": "display_data"
    }
   ],
   "source": [
    "tail(proportion_plot_df)"
   ]
  },
  {
   "cell_type": "code",
   "execution_count": 59,
   "metadata": {},
   "outputs": [
    {
     "data": {
      "image/png": "[encoded data removed]",
      "text/plain": [
       "plot without title"
      ]
     },
     "metadata": {
      "image/png": {
       "height": 420,
       "width": 420
      }
     },
     "output_type": "display_data"
    }
   ],
   "source": [
    "# However, perhaps the problem of binging is more pronounced among the younger population - let's test this theory\n",
    "# AGEG5YR of 1-3 corresponds to ages 18 to 34\n",
    "\n",
    "# Let's also look at binging\n",
    "cols_eval = c('year', 'binging')\n",
    "plot_df = brfss_table %>% filter(binging < 9, age < 4)\n",
    "# ggplot(plot_df, aes(x = year, fill = factor(binging))) + geom_bar(position = 'dodge')\n",
    "plot_list = list()\n",
    "counts_df = plot_df %>% count(year)\n",
    "for (i in c(1:2)) {\n",
    "    plot_list[[i]] = data.frame(year = counts_df$year, binging = i,\n",
    "        proportion = sapply(counts_df$year, function(x) {nrow(plot_df %>% filter(year == x, binging == i))}) / counts_df$n\n",
    "    )\n",
    "}\n",
    "proportion_plot_df = do.call('rbind', plot_list)\n",
    "ggplot(proportion_plot_df, aes(x = year, y = proportion, fill = factor(binging))) + geom_bar(position = 'dodge', stat = 'identity')"
   ]
  },
  {
   "cell_type": "code",
   "execution_count": 61,
   "metadata": {},
   "outputs": [
    {
     "data": {
      "text/html": [
       "<table>\n",
       "<caption>A data.frame: 6 × 3</caption>\n",
       "<thead>\n",
       "\t<tr><th></th><th scope=col>year</th><th scope=col>binging</th><th scope=col>proportion</th></tr>\n",
       "\t<tr><th></th><th scope=col>&lt;int&gt;</th><th scope=col>&lt;int&gt;</th><th scope=col>&lt;dbl&gt;</th></tr>\n",
       "</thead>\n",
       "<tbody>\n",
       "\t<tr><th scope=row>19</th><td>2014</td><td>2</td><td>0.2630889</td></tr>\n",
       "\t<tr><th scope=row>20</th><td>2015</td><td>2</td><td>0.2626386</td></tr>\n",
       "\t<tr><th scope=row>21</th><td>2016</td><td>2</td><td>0.2798982</td></tr>\n",
       "\t<tr><th scope=row>22</th><td>2017</td><td>2</td><td>0.2833917</td></tr>\n",
       "\t<tr><th scope=row>23</th><td>2018</td><td>2</td><td>0.2768502</td></tr>\n",
       "\t<tr><th scope=row>24</th><td>2019</td><td>2</td><td>0.2794184</td></tr>\n",
       "</tbody>\n",
       "</table>\n"
      ],
      "text/latex": [
       "A data.frame: 6 × 3\n",
       "\\begin{tabular}{r|lll}\n",
       "  & year & binging & proportion\\\\\n",
       "  & <int> & <int> & <dbl>\\\\\n",
       "\\hline\n",
       "\t19 & 2014 & 2 & 0.2630889\\\\\n",
       "\t20 & 2015 & 2 & 0.2626386\\\\\n",
       "\t21 & 2016 & 2 & 0.2798982\\\\\n",
       "\t22 & 2017 & 2 & 0.2833917\\\\\n",
       "\t23 & 2018 & 2 & 0.2768502\\\\\n",
       "\t24 & 2019 & 2 & 0.2794184\\\\\n",
       "\\end{tabular}\n"
      ],
      "text/markdown": [
       "\n",
       "A data.frame: 6 × 3\n",
       "\n",
       "| <!--/--> | year &lt;int&gt; | binging &lt;int&gt; | proportion &lt;dbl&gt; |\n",
       "|---|---|---|---|\n",
       "| 19 | 2014 | 2 | 0.2630889 |\n",
       "| 20 | 2015 | 2 | 0.2626386 |\n",
       "| 21 | 2016 | 2 | 0.2798982 |\n",
       "| 22 | 2017 | 2 | 0.2833917 |\n",
       "| 23 | 2018 | 2 | 0.2768502 |\n",
       "| 24 | 2019 | 2 | 0.2794184 |\n",
       "\n"
      ],
      "text/plain": [
       "   year binging proportion\n",
       "19 2014 2       0.2630889 \n",
       "20 2015 2       0.2626386 \n",
       "21 2016 2       0.2798982 \n",
       "22 2017 2       0.2833917 \n",
       "23 2018 2       0.2768502 \n",
       "24 2019 2       0.2794184 "
      ]
     },
     "metadata": {},
     "output_type": "display_data"
    }
   ],
   "source": [
    "tail(proportion_plot_df)"
   ]
  },
  {
   "cell_type": "markdown",
   "metadata": {},
   "source": [
    "### Conclusion: By looking at these plots we can observe how Americans are exercising less, and binging more over the time period of 2003 to 2019. When it comes to binging, the problem is more pronounced in the younger age group as expected, where prevalence is almost double the general population (28% compared to 14% in 2019). "
   ]
  },
  {
   "cell_type": "markdown",
   "metadata": {},
   "source": [
    "## Question: are there certain metro areas more prone to specific behavioral risks?\n",
    "\n",
    "For this, I'm going to focus on vaccination, and take into account actual metro areas"
   ]
  },
  {
   "cell_type": "code",
   "execution_count": 64,
   "metadata": {},
   "outputs": [
    {
     "data": {
      "text/html": [
       "<style>\n",
       ".list-inline {list-style: none; margin:0; padding: 0}\n",
       ".list-inline>li {display: inline-block}\n",
       ".list-inline>li:not(:last-child)::after {content: \"\\00b7\"; padding: 0 .5ex}\n",
       "</style>\n",
       "<ol class=list-inline><li>723919</li><li>12</li></ol>\n"
      ],
      "text/latex": [
       "\\begin{enumerate*}\n",
       "\\item 723919\n",
       "\\item 12\n",
       "\\end{enumerate*}\n"
      ],
      "text/markdown": [
       "1. 723919\n",
       "2. 12\n",
       "\n",
       "\n"
      ],
      "text/plain": [
       "[1] 723919     12"
      ]
     },
     "metadata": {},
     "output_type": "display_data"
    },
    {
     "data": {
      "text/html": [
       "265"
      ],
      "text/latex": [
       "265"
      ],
      "text/markdown": [
       "265"
      ],
      "text/plain": [
       "[1] 265"
      ]
     },
     "metadata": {},
     "output_type": "display_data"
    }
   ],
   "source": [
    "sub_tbl = brfss_table %>% drop_na(flushot) %>% filter(flushot < 9)\n",
    "dim(sub_tbl)\n",
    "length(unique(sub_tbl$mmsa))"
   ]
  },
  {
   "cell_type": "code",
   "execution_count": 86,
   "metadata": {},
   "outputs": [
    {
     "data": {
      "text/html": [
       "<table>\n",
       "<caption>A data.frame: 6 × 2</caption>\n",
       "<thead>\n",
       "\t<tr><th></th><th scope=col>mmsa</th><th scope=col>n</th></tr>\n",
       "\t<tr><th></th><th scope=col>&lt;int&gt;</th><th scope=col>&lt;int&gt;</th></tr>\n",
       "</thead>\n",
       "<tbody>\n",
       "\t<tr><th scope=row>124</th><td>36500</td><td>1571</td></tr>\n",
       "\t<tr><th scope=row>125</th><td>24660</td><td>1550</td></tr>\n",
       "\t<tr><th scope=row>126</th><td>28940</td><td>1542</td></tr>\n",
       "\t<tr><th scope=row>127</th><td>19804</td><td>1531</td></tr>\n",
       "\t<tr><th scope=row>128</th><td>13644</td><td>1525</td></tr>\n",
       "\t<tr><th scope=row>129</th><td>19660</td><td>1519</td></tr>\n",
       "</tbody>\n",
       "</table>\n"
      ],
      "text/latex": [
       "A data.frame: 6 × 2\n",
       "\\begin{tabular}{r|ll}\n",
       "  & mmsa & n\\\\\n",
       "  & <int> & <int>\\\\\n",
       "\\hline\n",
       "\t124 & 36500 & 1571\\\\\n",
       "\t125 & 24660 & 1550\\\\\n",
       "\t126 & 28940 & 1542\\\\\n",
       "\t127 & 19804 & 1531\\\\\n",
       "\t128 & 13644 & 1525\\\\\n",
       "\t129 & 19660 & 1519\\\\\n",
       "\\end{tabular}\n"
      ],
      "text/markdown": [
       "\n",
       "A data.frame: 6 × 2\n",
       "\n",
       "| <!--/--> | mmsa &lt;int&gt; | n &lt;int&gt; |\n",
       "|---|---|---|\n",
       "| 124 | 36500 | 1571 |\n",
       "| 125 | 24660 | 1550 |\n",
       "| 126 | 28940 | 1542 |\n",
       "| 127 | 19804 | 1531 |\n",
       "| 128 | 13644 | 1525 |\n",
       "| 129 | 19660 | 1519 |\n",
       "\n"
      ],
      "text/plain": [
       "    mmsa  n   \n",
       "124 36500 1571\n",
       "125 24660 1550\n",
       "126 28940 1542\n",
       "127 19804 1531\n",
       "128 13644 1525\n",
       "129 19660 1519"
      ]
     },
     "metadata": {},
     "output_type": "display_data"
    }
   ],
   "source": [
    "# Let's filter out MSAs with low counts:\n",
    "count_df = sub_tbl %>% count(mmsa) %>% arrange(desc(n))\n",
    "# We're going to require at least 1500 responses\n",
    "count_df = count_df %>% filter(n >= 1500)\n",
    "tail(count_df)"
   ]
  },
  {
   "cell_type": "code",
   "execution_count": 87,
   "metadata": {},
   "outputs": [],
   "source": [
    "# let's rank these 129 metro areas by proportion reporting vaccinated (over the whole period)\n",
    "get_proportion = function(city) {\n",
    "    tbl_top = c(nrow(sub_tbl %>% filter(flushot == 1, mmsa == city)),\n",
    "               nrow(sub_tbl %>% filter(flushot == 2, mmsa == city)))\n",
    "    return(tbl_top[1] / sum(tbl_top))\n",
    "}\n",
    "\n",
    "count_df$proportion = sapply(count_df$mmsa, function(x) {get_proportion(x)})"
   ]
  },
  {
   "cell_type": "code",
   "execution_count": 88,
   "metadata": {},
   "outputs": [
    {
     "data": {
      "text/html": [
       "<table>\n",
       "<caption>A data.frame: 10 × 3</caption>\n",
       "<thead>\n",
       "\t<tr><th></th><th scope=col>mmsa</th><th scope=col>n</th><th scope=col>proportion</th></tr>\n",
       "\t<tr><th></th><th scope=col>&lt;int&gt;</th><th scope=col>&lt;int&gt;</th><th scope=col>&lt;dbl&gt;</th></tr>\n",
       "</thead>\n",
       "<tbody>\n",
       "\t<tr><th scope=row>1</th><td>26180</td><td>2761</td><td>0.7566099</td></tr>\n",
       "\t<tr><th scope=row>2</th><td>13644</td><td>1525</td><td>0.7377049</td></tr>\n",
       "\t<tr><th scope=row>3</th><td>39580</td><td>1635</td><td>0.7333333</td></tr>\n",
       "\t<tr><th scope=row>4</th><td>43620</td><td>4119</td><td>0.7314882</td></tr>\n",
       "\t<tr><th scope=row>5</th><td>46140</td><td>6864</td><td>0.7218823</td></tr>\n",
       "\t<tr><th scope=row>6</th><td>16620</td><td>2882</td><td>0.7210271</td></tr>\n",
       "\t<tr><th scope=row>7</th><td>14484</td><td>2684</td><td>0.7205663</td></tr>\n",
       "\t<tr><th scope=row>8</th><td>14860</td><td>2192</td><td>0.7189781</td></tr>\n",
       "\t<tr><th scope=row>9</th><td>36420</td><td>7529</td><td>0.7072652</td></tr>\n",
       "\t<tr><th scope=row>10</th><td>19780</td><td>4091</td><td>0.7064287</td></tr>\n",
       "</tbody>\n",
       "</table>\n"
      ],
      "text/latex": [
       "A data.frame: 10 × 3\n",
       "\\begin{tabular}{r|lll}\n",
       "  & mmsa & n & proportion\\\\\n",
       "  & <int> & <int> & <dbl>\\\\\n",
       "\\hline\n",
       "\t1 & 26180 & 2761 & 0.7566099\\\\\n",
       "\t2 & 13644 & 1525 & 0.7377049\\\\\n",
       "\t3 & 39580 & 1635 & 0.7333333\\\\\n",
       "\t4 & 43620 & 4119 & 0.7314882\\\\\n",
       "\t5 & 46140 & 6864 & 0.7218823\\\\\n",
       "\t6 & 16620 & 2882 & 0.7210271\\\\\n",
       "\t7 & 14484 & 2684 & 0.7205663\\\\\n",
       "\t8 & 14860 & 2192 & 0.7189781\\\\\n",
       "\t9 & 36420 & 7529 & 0.7072652\\\\\n",
       "\t10 & 19780 & 4091 & 0.7064287\\\\\n",
       "\\end{tabular}\n"
      ],
      "text/markdown": [
       "\n",
       "A data.frame: 10 × 3\n",
       "\n",
       "| <!--/--> | mmsa &lt;int&gt; | n &lt;int&gt; | proportion &lt;dbl&gt; |\n",
       "|---|---|---|---|\n",
       "| 1 | 26180 | 2761 | 0.7566099 |\n",
       "| 2 | 13644 | 1525 | 0.7377049 |\n",
       "| 3 | 39580 | 1635 | 0.7333333 |\n",
       "| 4 | 43620 | 4119 | 0.7314882 |\n",
       "| 5 | 46140 | 6864 | 0.7218823 |\n",
       "| 6 | 16620 | 2882 | 0.7210271 |\n",
       "| 7 | 14484 | 2684 | 0.7205663 |\n",
       "| 8 | 14860 | 2192 | 0.7189781 |\n",
       "| 9 | 36420 | 7529 | 0.7072652 |\n",
       "| 10 | 19780 | 4091 | 0.7064287 |\n",
       "\n"
      ],
      "text/plain": [
       "   mmsa  n    proportion\n",
       "1  26180 2761 0.7566099 \n",
       "2  13644 1525 0.7377049 \n",
       "3  39580 1635 0.7333333 \n",
       "4  43620 4119 0.7314882 \n",
       "5  46140 6864 0.7218823 \n",
       "6  16620 2882 0.7210271 \n",
       "7  14484 2684 0.7205663 \n",
       "8  14860 2192 0.7189781 \n",
       "9  36420 7529 0.7072652 \n",
       "10 19780 4091 0.7064287 "
      ]
     },
     "metadata": {},
     "output_type": "display_data"
    },
    {
     "data": {
      "text/html": [
       "<table>\n",
       "<caption>A data.frame: 10 × 3</caption>\n",
       "<thead>\n",
       "\t<tr><th></th><th scope=col>mmsa</th><th scope=col>n</th><th scope=col>proportion</th></tr>\n",
       "\t<tr><th></th><th scope=col>&lt;int&gt;</th><th scope=col>&lt;int&gt;</th><th scope=col>&lt;dbl&gt;</th></tr>\n",
       "</thead>\n",
       "<tbody>\n",
       "\t<tr><th scope=row>120</th><td>36740</td><td> 4175</td><td>0.5810778</td></tr>\n",
       "\t<tr><th scope=row>121</th><td>35614</td><td>13046</td><td>0.5785681</td></tr>\n",
       "\t<tr><th scope=row>122</th><td>21340</td><td> 1664</td><td>0.5775240</td></tr>\n",
       "\t<tr><th scope=row>123</th><td>19660</td><td> 1519</td><td>0.5773535</td></tr>\n",
       "\t<tr><th scope=row>124</th><td>10580</td><td> 2452</td><td>0.5758564</td></tr>\n",
       "\t<tr><th scope=row>125</th><td>16980</td><td>12180</td><td>0.5692939</td></tr>\n",
       "\t<tr><th scope=row>126</th><td>40140</td><td> 2567</td><td>0.5633035</td></tr>\n",
       "\t<tr><th scope=row>127</th><td>33100</td><td> 6010</td><td>0.5449251</td></tr>\n",
       "\t<tr><th scope=row>128</th><td>11260</td><td> 2220</td><td>0.5436937</td></tr>\n",
       "\t<tr><th scope=row>129</th><td>41980</td><td> 7643</td><td>0.4116185</td></tr>\n",
       "</tbody>\n",
       "</table>\n"
      ],
      "text/latex": [
       "A data.frame: 10 × 3\n",
       "\\begin{tabular}{r|lll}\n",
       "  & mmsa & n & proportion\\\\\n",
       "  & <int> & <int> & <dbl>\\\\\n",
       "\\hline\n",
       "\t120 & 36740 &  4175 & 0.5810778\\\\\n",
       "\t121 & 35614 & 13046 & 0.5785681\\\\\n",
       "\t122 & 21340 &  1664 & 0.5775240\\\\\n",
       "\t123 & 19660 &  1519 & 0.5773535\\\\\n",
       "\t124 & 10580 &  2452 & 0.5758564\\\\\n",
       "\t125 & 16980 & 12180 & 0.5692939\\\\\n",
       "\t126 & 40140 &  2567 & 0.5633035\\\\\n",
       "\t127 & 33100 &  6010 & 0.5449251\\\\\n",
       "\t128 & 11260 &  2220 & 0.5436937\\\\\n",
       "\t129 & 41980 &  7643 & 0.4116185\\\\\n",
       "\\end{tabular}\n"
      ],
      "text/markdown": [
       "\n",
       "A data.frame: 10 × 3\n",
       "\n",
       "| <!--/--> | mmsa &lt;int&gt; | n &lt;int&gt; | proportion &lt;dbl&gt; |\n",
       "|---|---|---|---|\n",
       "| 120 | 36740 |  4175 | 0.5810778 |\n",
       "| 121 | 35614 | 13046 | 0.5785681 |\n",
       "| 122 | 21340 |  1664 | 0.5775240 |\n",
       "| 123 | 19660 |  1519 | 0.5773535 |\n",
       "| 124 | 10580 |  2452 | 0.5758564 |\n",
       "| 125 | 16980 | 12180 | 0.5692939 |\n",
       "| 126 | 40140 |  2567 | 0.5633035 |\n",
       "| 127 | 33100 |  6010 | 0.5449251 |\n",
       "| 128 | 11260 |  2220 | 0.5436937 |\n",
       "| 129 | 41980 |  7643 | 0.4116185 |\n",
       "\n"
      ],
      "text/plain": [
       "    mmsa  n     proportion\n",
       "120 36740  4175 0.5810778 \n",
       "121 35614 13046 0.5785681 \n",
       "122 21340  1664 0.5775240 \n",
       "123 19660  1519 0.5773535 \n",
       "124 10580  2452 0.5758564 \n",
       "125 16980 12180 0.5692939 \n",
       "126 40140  2567 0.5633035 \n",
       "127 33100  6010 0.5449251 \n",
       "128 11260  2220 0.5436937 \n",
       "129 41980  7643 0.4116185 "
      ]
     },
     "metadata": {},
     "output_type": "display_data"
    }
   ],
   "source": [
    "count_df = count_df %>% arrange(desc(proportion))\n",
    "head(count_df, 10)\n",
    "tail(count_df, 10)"
   ]
  },
  {
   "cell_type": "markdown",
   "metadata": {},
   "source": [
    "- Highest rank: 26180 - Honolulu, HI\n",
    "- Lowest rank: 41980 - San Juan, Puerto Rico\n",
    "\n",
    "It's interesting to see neither place is in the contiguous US."
   ]
  },
  {
   "cell_type": "markdown",
   "metadata": {},
   "source": [
    "Getting a nice geographical plot for MSA will be one of my goals, but plotting state level is definitely easier - this is what I will showcase for this portion:"
   ]
  },
  {
   "cell_type": "code",
   "execution_count": 127,
   "metadata": {},
   "outputs": [],
   "source": [
    "# Now we're aggregating at state-level\n",
    "count_df = sub_tbl %>% count(state)\n",
    "# We're going to require at least 1500 responses\n",
    "# let's rank these 129 metro areas by proportion reporting vaccinated (over the whole period)\n",
    "get_proportion = function(st) {\n",
    "    tbl_top = c(nrow(sub_tbl %>% filter(flushot == 1, state == st)),\n",
    "               nrow(sub_tbl %>% filter(flushot == 2, state == st)))\n",
    "    return(tbl_top[1] / sum(tbl_top))\n",
    "}\n",
    "count_df$proportion = sapply(count_df$state, function(x) {get_proportion(x)})"
   ]
  },
  {
   "cell_type": "code",
   "execution_count": 133,
   "metadata": {},
   "outputs": [
    {
     "data": {
      "text/html": [
       "<table>\n",
       "<caption>A data.frame: 6 × 6</caption>\n",
       "<thead>\n",
       "\t<tr><th></th><th scope=col>long</th><th scope=col>lat</th><th scope=col>group</th><th scope=col>order</th><th scope=col>region</th><th scope=col>subregion</th></tr>\n",
       "\t<tr><th></th><th scope=col>&lt;dbl&gt;</th><th scope=col>&lt;dbl&gt;</th><th scope=col>&lt;dbl&gt;</th><th scope=col>&lt;int&gt;</th><th scope=col>&lt;chr&gt;</th><th scope=col>&lt;chr&gt;</th></tr>\n",
       "</thead>\n",
       "<tbody>\n",
       "\t<tr><th scope=row>1</th><td>-87.46201</td><td>30.38968</td><td>1</td><td>1</td><td>alabama</td><td>NA</td></tr>\n",
       "\t<tr><th scope=row>2</th><td>-87.48493</td><td>30.37249</td><td>1</td><td>2</td><td>alabama</td><td>NA</td></tr>\n",
       "\t<tr><th scope=row>3</th><td>-87.52503</td><td>30.37249</td><td>1</td><td>3</td><td>alabama</td><td>NA</td></tr>\n",
       "\t<tr><th scope=row>4</th><td>-87.53076</td><td>30.33239</td><td>1</td><td>4</td><td>alabama</td><td>NA</td></tr>\n",
       "\t<tr><th scope=row>5</th><td>-87.57087</td><td>30.32665</td><td>1</td><td>5</td><td>alabama</td><td>NA</td></tr>\n",
       "\t<tr><th scope=row>6</th><td>-87.58806</td><td>30.32665</td><td>1</td><td>6</td><td>alabama</td><td>NA</td></tr>\n",
       "</tbody>\n",
       "</table>\n"
      ],
      "text/latex": [
       "A data.frame: 6 × 6\n",
       "\\begin{tabular}{r|llllll}\n",
       "  & long & lat & group & order & region & subregion\\\\\n",
       "  & <dbl> & <dbl> & <dbl> & <int> & <chr> & <chr>\\\\\n",
       "\\hline\n",
       "\t1 & -87.46201 & 30.38968 & 1 & 1 & alabama & NA\\\\\n",
       "\t2 & -87.48493 & 30.37249 & 1 & 2 & alabama & NA\\\\\n",
       "\t3 & -87.52503 & 30.37249 & 1 & 3 & alabama & NA\\\\\n",
       "\t4 & -87.53076 & 30.33239 & 1 & 4 & alabama & NA\\\\\n",
       "\t5 & -87.57087 & 30.32665 & 1 & 5 & alabama & NA\\\\\n",
       "\t6 & -87.58806 & 30.32665 & 1 & 6 & alabama & NA\\\\\n",
       "\\end{tabular}\n"
      ],
      "text/markdown": [
       "\n",
       "A data.frame: 6 × 6\n",
       "\n",
       "| <!--/--> | long &lt;dbl&gt; | lat &lt;dbl&gt; | group &lt;dbl&gt; | order &lt;int&gt; | region &lt;chr&gt; | subregion &lt;chr&gt; |\n",
       "|---|---|---|---|---|---|---|\n",
       "| 1 | -87.46201 | 30.38968 | 1 | 1 | alabama | NA |\n",
       "| 2 | -87.48493 | 30.37249 | 1 | 2 | alabama | NA |\n",
       "| 3 | -87.52503 | 30.37249 | 1 | 3 | alabama | NA |\n",
       "| 4 | -87.53076 | 30.33239 | 1 | 4 | alabama | NA |\n",
       "| 5 | -87.57087 | 30.32665 | 1 | 5 | alabama | NA |\n",
       "| 6 | -87.58806 | 30.32665 | 1 | 6 | alabama | NA |\n",
       "\n"
      ],
      "text/plain": [
       "  long      lat      group order region  subregion\n",
       "1 -87.46201 30.38968 1     1     alabama NA       \n",
       "2 -87.48493 30.37249 1     2     alabama NA       \n",
       "3 -87.52503 30.37249 1     3     alabama NA       \n",
       "4 -87.53076 30.33239 1     4     alabama NA       \n",
       "5 -87.57087 30.32665 1     5     alabama NA       \n",
       "6 -87.58806 30.32665 1     6     alabama NA       "
      ]
     },
     "metadata": {},
     "output_type": "display_data"
    }
   ],
   "source": [
    "library(maps)\n",
    "us_states <- map_data(\"state\")\n",
    "head(us_states)"
   ]
  },
  {
   "cell_type": "code",
   "execution_count": 134,
   "metadata": {},
   "outputs": [
    {
     "data": {
      "text/html": [
       "<table>\n",
       "<caption>A data.frame: 6 × 7</caption>\n",
       "<thead>\n",
       "\t<tr><th></th><th scope=col>long</th><th scope=col>lat</th><th scope=col>group</th><th scope=col>order</th><th scope=col>region</th><th scope=col>subregion</th><th scope=col>state</th></tr>\n",
       "\t<tr><th></th><th scope=col>&lt;dbl&gt;</th><th scope=col>&lt;dbl&gt;</th><th scope=col>&lt;dbl&gt;</th><th scope=col>&lt;int&gt;</th><th scope=col>&lt;chr&gt;</th><th scope=col>&lt;chr&gt;</th><th scope=col>&lt;fct&gt;</th></tr>\n",
       "</thead>\n",
       "<tbody>\n",
       "\t<tr><th scope=row>1</th><td>-87.46201</td><td>30.38968</td><td>1</td><td>1</td><td>alabama</td><td>NA</td><td>AL</td></tr>\n",
       "\t<tr><th scope=row>2</th><td>-87.48493</td><td>30.37249</td><td>1</td><td>2</td><td>alabama</td><td>NA</td><td>AL</td></tr>\n",
       "\t<tr><th scope=row>3</th><td>-87.52503</td><td>30.37249</td><td>1</td><td>3</td><td>alabama</td><td>NA</td><td>AL</td></tr>\n",
       "\t<tr><th scope=row>4</th><td>-87.53076</td><td>30.33239</td><td>1</td><td>4</td><td>alabama</td><td>NA</td><td>AL</td></tr>\n",
       "\t<tr><th scope=row>5</th><td>-87.57087</td><td>30.32665</td><td>1</td><td>5</td><td>alabama</td><td>NA</td><td>AL</td></tr>\n",
       "\t<tr><th scope=row>6</th><td>-87.58806</td><td>30.32665</td><td>1</td><td>6</td><td>alabama</td><td>NA</td><td>AL</td></tr>\n",
       "</tbody>\n",
       "</table>\n"
      ],
      "text/latex": [
       "A data.frame: 6 × 7\n",
       "\\begin{tabular}{r|lllllll}\n",
       "  & long & lat & group & order & region & subregion & state\\\\\n",
       "  & <dbl> & <dbl> & <dbl> & <int> & <chr> & <chr> & <fct>\\\\\n",
       "\\hline\n",
       "\t1 & -87.46201 & 30.38968 & 1 & 1 & alabama & NA & AL\\\\\n",
       "\t2 & -87.48493 & 30.37249 & 1 & 2 & alabama & NA & AL\\\\\n",
       "\t3 & -87.52503 & 30.37249 & 1 & 3 & alabama & NA & AL\\\\\n",
       "\t4 & -87.53076 & 30.33239 & 1 & 4 & alabama & NA & AL\\\\\n",
       "\t5 & -87.57087 & 30.32665 & 1 & 5 & alabama & NA & AL\\\\\n",
       "\t6 & -87.58806 & 30.32665 & 1 & 6 & alabama & NA & AL\\\\\n",
       "\\end{tabular}\n"
      ],
      "text/markdown": [
       "\n",
       "A data.frame: 6 × 7\n",
       "\n",
       "| <!--/--> | long &lt;dbl&gt; | lat &lt;dbl&gt; | group &lt;dbl&gt; | order &lt;int&gt; | region &lt;chr&gt; | subregion &lt;chr&gt; | state &lt;fct&gt; |\n",
       "|---|---|---|---|---|---|---|---|\n",
       "| 1 | -87.46201 | 30.38968 | 1 | 1 | alabama | NA | AL |\n",
       "| 2 | -87.48493 | 30.37249 | 1 | 2 | alabama | NA | AL |\n",
       "| 3 | -87.52503 | 30.37249 | 1 | 3 | alabama | NA | AL |\n",
       "| 4 | -87.53076 | 30.33239 | 1 | 4 | alabama | NA | AL |\n",
       "| 5 | -87.57087 | 30.32665 | 1 | 5 | alabama | NA | AL |\n",
       "| 6 | -87.58806 | 30.32665 | 1 | 6 | alabama | NA | AL |\n",
       "\n"
      ],
      "text/plain": [
       "  long      lat      group order region  subregion state\n",
       "1 -87.46201 30.38968 1     1     alabama NA        AL   \n",
       "2 -87.48493 30.37249 1     2     alabama NA        AL   \n",
       "3 -87.52503 30.37249 1     3     alabama NA        AL   \n",
       "4 -87.53076 30.33239 1     4     alabama NA        AL   \n",
       "5 -87.57087 30.32665 1     5     alabama NA        AL   \n",
       "6 -87.58806 30.32665 1     6     alabama NA        AL   "
      ]
     },
     "metadata": {},
     "output_type": "display_data"
    }
   ],
   "source": [
    "# The HPI_master table has mapping from two-letter state to state name\n",
    "hpi_table = read.csv('../../Data/HPI_master.csv')\n",
    "hpi_table = hpi_table %>% filter(level == 'State') %>% distinct(place_id, .keep_all = T)\n",
    "hpi_table$region = tolower(hpi_table$place_name)\n",
    "hpi_table$state = hpi_table$place_id\n",
    "us_states = us_states %>% left_join(hpi_table[, c('region', 'state')], by = 'region')\n",
    "head(us_states)"
   ]
  },
  {
   "cell_type": "code",
   "execution_count": 135,
   "metadata": {},
   "outputs": [
    {
     "data": {
      "text/html": [
       "<table>\n",
       "<caption>A data.frame: 6 × 9</caption>\n",
       "<thead>\n",
       "\t<tr><th></th><th scope=col>long</th><th scope=col>lat</th><th scope=col>group</th><th scope=col>order</th><th scope=col>region</th><th scope=col>subregion</th><th scope=col>state</th><th scope=col>n</th><th scope=col>proportion</th></tr>\n",
       "\t<tr><th></th><th scope=col>&lt;dbl&gt;</th><th scope=col>&lt;dbl&gt;</th><th scope=col>&lt;dbl&gt;</th><th scope=col>&lt;int&gt;</th><th scope=col>&lt;chr&gt;</th><th scope=col>&lt;chr&gt;</th><th scope=col>&lt;chr&gt;</th><th scope=col>&lt;int&gt;</th><th scope=col>&lt;dbl&gt;</th></tr>\n",
       "</thead>\n",
       "<tbody>\n",
       "\t<tr><th scope=row>1</th><td>-87.46201</td><td>30.38968</td><td>1</td><td>1</td><td>alabama</td><td>NA</td><td>AL</td><td>6226</td><td>0.6378092</td></tr>\n",
       "\t<tr><th scope=row>2</th><td>-87.48493</td><td>30.37249</td><td>1</td><td>2</td><td>alabama</td><td>NA</td><td>AL</td><td>6226</td><td>0.6378092</td></tr>\n",
       "\t<tr><th scope=row>3</th><td>-87.52503</td><td>30.37249</td><td>1</td><td>3</td><td>alabama</td><td>NA</td><td>AL</td><td>6226</td><td>0.6378092</td></tr>\n",
       "\t<tr><th scope=row>4</th><td>-87.53076</td><td>30.33239</td><td>1</td><td>4</td><td>alabama</td><td>NA</td><td>AL</td><td>6226</td><td>0.6378092</td></tr>\n",
       "\t<tr><th scope=row>5</th><td>-87.57087</td><td>30.32665</td><td>1</td><td>5</td><td>alabama</td><td>NA</td><td>AL</td><td>6226</td><td>0.6378092</td></tr>\n",
       "\t<tr><th scope=row>6</th><td>-87.58806</td><td>30.32665</td><td>1</td><td>6</td><td>alabama</td><td>NA</td><td>AL</td><td>6226</td><td>0.6378092</td></tr>\n",
       "</tbody>\n",
       "</table>\n"
      ],
      "text/latex": [
       "A data.frame: 6 × 9\n",
       "\\begin{tabular}{r|lllllllll}\n",
       "  & long & lat & group & order & region & subregion & state & n & proportion\\\\\n",
       "  & <dbl> & <dbl> & <dbl> & <int> & <chr> & <chr> & <chr> & <int> & <dbl>\\\\\n",
       "\\hline\n",
       "\t1 & -87.46201 & 30.38968 & 1 & 1 & alabama & NA & AL & 6226 & 0.6378092\\\\\n",
       "\t2 & -87.48493 & 30.37249 & 1 & 2 & alabama & NA & AL & 6226 & 0.6378092\\\\\n",
       "\t3 & -87.52503 & 30.37249 & 1 & 3 & alabama & NA & AL & 6226 & 0.6378092\\\\\n",
       "\t4 & -87.53076 & 30.33239 & 1 & 4 & alabama & NA & AL & 6226 & 0.6378092\\\\\n",
       "\t5 & -87.57087 & 30.32665 & 1 & 5 & alabama & NA & AL & 6226 & 0.6378092\\\\\n",
       "\t6 & -87.58806 & 30.32665 & 1 & 6 & alabama & NA & AL & 6226 & 0.6378092\\\\\n",
       "\\end{tabular}\n"
      ],
      "text/markdown": [
       "\n",
       "A data.frame: 6 × 9\n",
       "\n",
       "| <!--/--> | long &lt;dbl&gt; | lat &lt;dbl&gt; | group &lt;dbl&gt; | order &lt;int&gt; | region &lt;chr&gt; | subregion &lt;chr&gt; | state &lt;chr&gt; | n &lt;int&gt; | proportion &lt;dbl&gt; |\n",
       "|---|---|---|---|---|---|---|---|---|---|\n",
       "| 1 | -87.46201 | 30.38968 | 1 | 1 | alabama | NA | AL | 6226 | 0.6378092 |\n",
       "| 2 | -87.48493 | 30.37249 | 1 | 2 | alabama | NA | AL | 6226 | 0.6378092 |\n",
       "| 3 | -87.52503 | 30.37249 | 1 | 3 | alabama | NA | AL | 6226 | 0.6378092 |\n",
       "| 4 | -87.53076 | 30.33239 | 1 | 4 | alabama | NA | AL | 6226 | 0.6378092 |\n",
       "| 5 | -87.57087 | 30.32665 | 1 | 5 | alabama | NA | AL | 6226 | 0.6378092 |\n",
       "| 6 | -87.58806 | 30.32665 | 1 | 6 | alabama | NA | AL | 6226 | 0.6378092 |\n",
       "\n"
      ],
      "text/plain": [
       "  long      lat      group order region  subregion state n    proportion\n",
       "1 -87.46201 30.38968 1     1     alabama NA        AL    6226 0.6378092 \n",
       "2 -87.48493 30.37249 1     2     alabama NA        AL    6226 0.6378092 \n",
       "3 -87.52503 30.37249 1     3     alabama NA        AL    6226 0.6378092 \n",
       "4 -87.53076 30.33239 1     4     alabama NA        AL    6226 0.6378092 \n",
       "5 -87.57087 30.32665 1     5     alabama NA        AL    6226 0.6378092 \n",
       "6 -87.58806 30.32665 1     6     alabama NA        AL    6226 0.6378092 "
      ]
     },
     "metadata": {},
     "output_type": "display_data"
    }
   ],
   "source": [
    "us_states_vax_data = us_states %>% left_join(count_df, by = 'state')\n",
    "head(us_states_vax_data)"
   ]
  },
  {
   "cell_type": "code",
   "execution_count": 142,
   "metadata": {},
   "outputs": [
    {
     "data": {
      "image/png": "[encoded data removed]",
      "text/plain": [
       "plot without title"
      ]
     },
     "metadata": {
      "image/png": {
       "height": 420,
       "width": 420
      }
     },
     "output_type": "display_data"
    }
   ],
   "source": [
    "g = ggplot(data = us_states_vax_data, \n",
    "        mapping = aes(x = long, y = lat, group = group, fill = n))\n",
    "g = g + geom_polygon(color = \"gray90\", size = 0.1) + \n",
    "    coord_map(projection = \"albers\", lat0 = 39, lat1 = 45) +\n",
    "    scale_fill_gradient(low = 'blue', high = 'red')\n",
    "g"
   ]
  },
  {
   "cell_type": "code",
   "execution_count": 143,
   "metadata": {},
   "outputs": [
    {
     "data": {
      "image/png": "[encoded data removed]",
      "text/plain": [
       "plot without title"
      ]
     },
     "metadata": {
      "image/png": {
       "height": 420,
       "width": 420
      }
     },
     "output_type": "display_data"
    }
   ],
   "source": [
    "g = ggplot(data = us_states_vax_data, \n",
    "        mapping = aes(x = long, y = lat, group = group, fill = proportion))\n",
    "g = g + geom_polygon(color = \"gray90\", size = 0.1) + \n",
    "    coord_map(projection = \"albers\", lat0 = 39, lat1 = 45) +\n",
    "    scale_fill_gradient(low = 'red', high = 'blue')\n",
    "g"
   ]
  },
  {
   "cell_type": "markdown",
   "metadata": {},
   "source": [
    "It looks like in general, states with a larger population are doing more poorly in vaccinations in urban areas.\n",
    "\n",
    "It also looks like there is a good correspondance between number of responses and vaccination proportions in general, although this hypothesis would need to be studied further. It is worth noting that these are not based on state-wide population, but from urban/suburban regions from each state that belongs to an MSA, so the representation is a bit different."
   ]
  },
  {
   "cell_type": "code",
   "execution_count": 146,
   "metadata": {},
   "outputs": [
    {
     "data": {
      "image/png": "[encoded data removed]",
      "text/plain": [
       "plot without title"
      ]
     },
     "metadata": {
      "image/png": {
       "height": 420,
       "width": 420
      }
     },
     "output_type": "display_data"
    }
   ],
   "source": [
    "# We can also plot state bins:\n",
    "library(statebins)\n",
    "\n",
    "g = ggplot(data = us_states_vax_data,  aes(state = state, fill = proportion)) + geom_statebins()\n",
    "g"
   ]
  },
  {
   "cell_type": "markdown",
   "metadata": {},
   "source": [
    "### Conclusion: I was also able to obtain aggregate data on geographic regions, and make visualizations at state-level. The goals of this project will also include better visualizations for MSA levels as well."
   ]
  },
  {
   "cell_type": "code",
   "execution_count": null,
   "metadata": {},
   "outputs": [],
   "source": []
  }
 ],
 "metadata": {
  "kernelspec": {
   "display_name": "R",
   "language": "R",
   "name": "ir"
  },
  "language_info": {
   "codemirror_mode": "r",
   "file_extension": ".r",
   "mimetype": "text/x-r-source",
   "name": "R",
   "pygments_lexer": "r",
   "version": "3.6.1"
  }
 },
 "nbformat": 4,
 "nbformat_minor": 4
}
